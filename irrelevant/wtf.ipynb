{
  "cells": [
    {
      "cell_type": "markdown",
      "metadata": {},
      "source": [
        "<img src=\"https://raw.githubusercontent.com/satwikkansal/wtfpython/refs/heads/master/images/logo.svg\" alt=\"wtfpython logo.\" style=\"display=block; margin:auto\">\n",
        "<h1 align=\"center\">What the f*ck Python! \ud83d\ude31</h1>\n",
        "<p align=\"center\">Exploring and understanding Python through surprising snippets.</p>\n",
        "\n",
        "Translations: [Chinese \u4e2d\u6587](https://github.com/leisurelicht/wtfpython-cn) | [Vietnamese Ti\u1ebfng Vi\u1ec7t](https://github.com/vuduclyunitn/wtfptyhon-vi) | [Add translation](https://github.com/satwikkansal/wtfpython/issues/new?title=Add%20translation%20for%20[LANGUAGE]&body=Expected%20time%20to%20finish:%20[X]%20weeks.%20I%27ll%20start%20working%20on%20it%20from%20[Y].)\n",
        "\n",
        "Other modes: [Interactive](https://colab.research.google.com/github/satwikkansal/wtfpython/blob/master/irrelevant/wtf.ipynb)\n",
        "\n",
        "Python, being a beautifully designed high-level and interpreter-based programming language, provides us with many features for the programmer's comfort. But sometimes, the outcomes of a Python snippet may not seem obvious at first sight.\n",
        "\n",
        "Here's a fun project attempting to explain what exactly is happening under the hood for some counter-intuitive snippets and lesser-known features in Python.\n",
        "\n",
        "While some of the examples you see below may not be WTFs in the truest sense, but they'll reveal some of the interesting parts of Python that you might be unaware of. I find it a nice way to learn the internals of a programming language, and I believe that you'll find it interesting too!\n",
        "\n",
        "If you're an experienced Python programmer, you can take it as a challenge to get most of them right in the first attempt. You may have already experienced some of them before, and I might be able to revive sweet old memories of yours! :sweat_smile:\n",
        "\n",
        "PS: If you're a returning reader, you can learn about the new modifications [here](https://github.com/satwikkansal/wtfpython/releases/) (the examples marked with asterisk are the ones added in the latest major revision). \n",
        "\n",
        "So, here we go...\n",
        "\n",
        "\n",
        "# Structure of the Examples\n",
        "\n",
        "All the examples are structured like below:\n",
        "\n",
        "> ### \u25b6 Some fancy Title\n",
        ">\n",
        "> ```py\n",
        "> # Set up the code.\n",
        "> # Preparation for the magic...\n",
        "> ```\n",
        ">\n",
        "> **Output (Python version(s)):**\n",
        ">\n",
        "> ```py\n",
        "> >>> triggering_statement\n",
        "> Some unexpected output\n",
        "> ```\n",
        "> (Optional): One line describing the unexpected output.\n",
        ">\n",
        ">\n",
        "> #### \ud83d\udca1 Explanation:\n",
        ">\n",
        "> * Brief explanation of what's happening and why is it happening.\n",
        "> ```py\n",
        "> # Set up code\n",
        "> # More examples for further clarification (if necessary)\n",
        "> ```\n",
        "> **Output (Python version(s)):**\n",
        ">\n",
        "> ```py\n",
        "> >>> trigger # some example that makes it easy to unveil the magic\n",
        "> # some justified output\n",
        "> ```\n",
        "\n",
        "**Note:** All the examples are tested on Python 3.5.2 interactive interpreter, and they should work for all the Python versions unless explicitly specified before the output.\n",
        "\n",
        "# Usage\n",
        "\n",
        "A nice way to get the most out of these examples, in my opinion, is to read them chronologically, and for every example:\n",
        "- Carefully read the initial code for setting up the example. If you're an experienced Python programmer, you'll successfully anticipate what's going to happen next most of the time.\n",
        "- Read the output snippets and,\n",
        "  + Check if the outputs are the same as you'd expect.\n",
        "  + Make sure if you know the exact reason behind the output being the way it is.\n",
        "    - If the answer is no (which is perfectly okay), take a deep breath, and read the explanation (and if you still don't understand, shout out! and create an issue [here](https://github.com/satwikkansal/wtfpython/issues/new)).\n",
        "    - If yes, give a gentle pat on your back, and you may skip to the next example.\n",
        "\n",
        "\n\n## Hosted notebook instructions\n\nThis is just an experimental attempt of browsing wtfpython through jupyter notebooks. Some examples are read-only because, \n- they either require a version of Python that's not supported in the hosted runtime.\n- or they can't be reproduced in the notebook envrinonment.\n\nThe expected outputs are already present in collapsed cells following the code cells. The Google colab provides Python2 (2.7) and Python3 (3.6, default) runtimes. You can switch among these for Python2 specific examples. For examples specific to other minor versions, you can simply refer to collapsed outputs (it's not possible to control the minor version in hosted notebooks as of now). You can check the active version using\n\n```py\n>>> import sys\n>>> sys.version\n# Prints out Python version here.\n```\n\nThat being said, most of the examples do work as expected. If you face any trouble, feel free to consult the original content on wtfpython and create an issue in the repo. Have fun!\n\n---\n"
      ]
    },
    {
      "cell_type": "markdown",
      "metadata": {},
      "source": [
        "### \u25b6 Strings can be tricky sometimes\n",
        "1\\.\n",
        "\n"
      ]
    },
    {
      "cell_type": "code",
      "execution_count": null,
      "metadata": {
        "collapsed": true
      },
      "outputs": [
        {
          "data": {
            "text/plain": [
              "140420665652016\n"
            ]
          },
          "output_type": "execute_result",
          "metadata": {},
          "execution_count": null
        }
      ],
      "source": [
        "a = \"some_string\"\n",
        "id(a)\n"
      ]
    },
    {
      "cell_type": "code",
      "execution_count": null,
      "metadata": {
        "collapsed": true
      },
      "outputs": [
        {
          "data": {
            "text/plain": [
              "140420665652016\n"
            ]
          },
          "output_type": "execute_result",
          "metadata": {},
          "execution_count": null
        }
      ],
      "source": [
        "id(\"some\" + \"_\" + \"string\") # Notice that both the ids are same.\n"
      ]
    },
    {
      "cell_type": "markdown",
      "metadata": {},
      "source": [
        "\n",
        "2\\.\n"
      ]
    },
    {
      "cell_type": "code",
      "execution_count": null,
      "metadata": {
        "collapsed": true
      },
      "outputs": [
        {
          "data": {
            "text/plain": [
              "True\n",
              "\n"
            ]
          },
          "output_type": "execute_result",
          "metadata": {},
          "execution_count": null
        }
      ],
      "source": [
        "a = \"wtf\"\n",
        "b = \"wtf\"\n",
        "a is b\n"
      ]
    },
    {
      "cell_type": "code",
      "execution_count": null,
      "metadata": {
        "collapsed": true
      },
      "outputs": [
        {
          "data": {
            "text/plain": [
              "False\n",
              "\n"
            ]
          },
          "output_type": "execute_result",
          "metadata": {},
          "execution_count": null
        }
      ],
      "source": [
        "a = \"wtf!\"\n",
        "b = \"wtf!\"\n",
        "a is b\n"
      ]
    },
    {
      "cell_type": "markdown",
      "metadata": {},
      "source": [
        "\n",
        "3\\.\n",
        "\n"
      ]
    },
    {
      "cell_type": "code",
      "execution_count": null,
      "metadata": {
        "collapsed": true
      },
      "outputs": [
        {
          "data": {
            "text/plain": [
              "True\n",
              "\n"
            ]
          },
          "output_type": "execute_result",
          "metadata": {},
          "execution_count": null
        }
      ],
      "source": [
        "a, b = \"wtf!\", \"wtf!\"\n",
        "a is b # All versions except 3.7.x\n"
      ]
    },
    {
      "cell_type": "code",
      "execution_count": null,
      "metadata": {
        "collapsed": true
      },
      "outputs": [
        {
          "data": {
            "text/plain": [
              "False\n"
            ]
          },
          "output_type": "execute_result",
          "metadata": {},
          "execution_count": null
        }
      ],
      "source": [
        "a = \"wtf!\"; b = \"wtf!\"\n",
        "a is b # This will print True or False depending on where you're invoking it (python shell / ipython / as a script)\n"
      ]
    },
    {
      "cell_type": "markdown",
      "metadata": {},
      "source": [
        "\n"
      ]
    },
    {
      "cell_type": "code",
      "metadata": {
        "collapsed": true
      },
      "execution_count": null,
      "outputs": [
        {
          "name": "stdout",
          "output_type": "stream",
          "text": []
        }
      ],
      "source": [
        "# This time in file some_file.py\n",
        "a = \"wtf!\"\n",
        "b = \"wtf!\"\n",
        "print(a is b)\n",
        "\n",
        "# prints True when the module is invoked!\n"
      ]
    },
    {
      "cell_type": "markdown",
      "metadata": {},
      "source": [
        "\n",
        "4\\.\n",
        "\n",
        "**Output (< Python3.7 )**\n",
        "\n"
      ]
    },
    {
      "cell_type": "code",
      "execution_count": null,
      "metadata": {
        "collapsed": true
      },
      "outputs": [
        {
          "data": {
            "text/plain": [
              "True\n"
            ]
          },
          "output_type": "execute_result",
          "metadata": {},
          "execution_count": null
        }
      ],
      "source": [
        "'a' * 20 is 'aaaaaaaaaaaaaaaaaaaa'\n"
      ]
    },
    {
      "cell_type": "code",
      "execution_count": null,
      "metadata": {
        "collapsed": true
      },
      "outputs": [
        {
          "data": {
            "text/plain": [
              "False\n"
            ]
          },
          "output_type": "execute_result",
          "metadata": {},
          "execution_count": null
        }
      ],
      "source": [
        "'a' * 21 is 'aaaaaaaaaaaaaaaaaaaaa'\n"
      ]
    },
    {
      "cell_type": "markdown",
      "metadata": {},
      "source": [
        "\n",
        "Makes sense, right?\n",
        "\n"
      ]
    },
    {
      "cell_type": "markdown",
      "metadata": {},
      "source": [
        "#### \ud83d\udca1 Explanation:\n",
        "+ The behavior in first and second snippets is due to a CPython optimization (called string interning) that tries to use existing immutable objects in some cases rather than creating a new object every time.\n",
        "+ After being \"interned,\" many variables may reference the same string object in memory (saving memory thereby).\n",
        "+ In the snippets above, strings are implicitly interned. The decision of when to implicitly intern a string is implementation-dependent. There are some rules that can be used to guess if a string will be interned or not:\n",
        "  * All length 0 and length 1 strings are interned.\n",
        "  * Strings are interned at compile time (`'wtf'` will be interned but `''.join(['w', 't', 'f'])` will not be interned)\n",
        "  * Strings that are not composed of ASCII letters, digits or underscores, are not interned. This explains why `'wtf!'` was not interned due to `!`. CPython implementation of this rule can be found [here](https://github.com/python/cpython/blob/3.6/Objects/codeobject.c#L19)\n",
        "<img src=\"https://raw.githubusercontent.com/satwikkansal/wtfpython/refs/heads/master/images/string-intern/string_interning.svg\" alt=\"Shows a string interning process.\" style=\"display=block; margin:auto\">\n",
        "+ When `a` and `b` are set to `\"wtf!\"` in the same line, the Python interpreter creates a new object, then references the second variable at the same time. If you do it on separate lines, it doesn't \"know\" that there's already `\"wtf!\"` as an object (because `\"wtf!\"` is not implicitly interned as per the facts mentioned above). It's a compile-time optimization. This optimization doesn't apply to 3.7.x versions of CPython (check this [issue](https://github.com/satwikkansal/wtfpython/issues/100) for more discussion).\n",
        "+ A compile unit in an interactive environment like IPython consists of a single statement, whereas it consists of the entire module in case of modules. `a, b = \"wtf!\", \"wtf!\"` is single statement, whereas `a = \"wtf!\"; b = \"wtf!\"` are two statements in a single line. This explains why the identities are different in `a = \"wtf!\"; b = \"wtf!\"`, and also explain why they are same when invoked in `some_file.py`\n",
        "+ The abrupt change in the output of the fourth snippet is due to a [peephole optimization](https://en.wikipedia.org/wiki/Peephole_optimization) technique known as Constant folding. This means the expression `'a'*20` is replaced by `'aaaaaaaaaaaaaaaaaaaa'` during compilation to save a  few clock cycles during runtime. Constant folding only occurs for strings having a length of less than 21. (Why? Imagine the size of `.pyc` file generated as a result of the expression `'a'*10**10`). [Here's](https://github.com/python/cpython/blob/3.6/Python/peephole.c#L288) the implementation source for the same.\n",
        "+ Note: In Python 3.7, Constant folding was moved out from peephole optimizer to the new AST optimizer with some change in logic as well, so the fourth snippet doesn't work for Python 3.7. You can read more about the change [here](https://bugs.python.org/issue11549). \n",
        "\n"
      ]
    },
    {
      "cell_type": "markdown",
      "metadata": {},
      "source": [
        "### \u25b6 Be careful with chained operations\n"
      ]
    },
    {
      "cell_type": "code",
      "execution_count": null,
      "metadata": {
        "collapsed": true
      },
      "outputs": [
        {
          "data": {
            "text/plain": [
              "False\n"
            ]
          },
          "output_type": "execute_result",
          "metadata": {},
          "execution_count": null
        }
      ],
      "source": [
        "(False == False) in [False] # makes sense\n"
      ]
    },
    {
      "cell_type": "code",
      "execution_count": null,
      "metadata": {
        "collapsed": true
      },
      "outputs": [
        {
          "data": {
            "text/plain": [
              "False\n"
            ]
          },
          "output_type": "execute_result",
          "metadata": {},
          "execution_count": null
        }
      ],
      "source": [
        "False == (False in [False]) # makes sense\n"
      ]
    },
    {
      "cell_type": "code",
      "execution_count": null,
      "metadata": {
        "collapsed": true
      },
      "outputs": [
        {
          "data": {
            "text/plain": [
              "True\n",
              "\n"
            ]
          },
          "output_type": "execute_result",
          "metadata": {},
          "execution_count": null
        }
      ],
      "source": [
        "False == False in [False] # now what?\n"
      ]
    },
    {
      "cell_type": "code",
      "execution_count": null,
      "metadata": {
        "collapsed": true
      },
      "outputs": [
        {
          "data": {
            "text/plain": [
              "False\n"
            ]
          },
          "output_type": "execute_result",
          "metadata": {},
          "execution_count": null
        }
      ],
      "source": [
        "True is False == False\n"
      ]
    },
    {
      "cell_type": "code",
      "execution_count": null,
      "metadata": {
        "collapsed": true
      },
      "outputs": [
        {
          "data": {
            "text/plain": [
              "True\n",
              "\n"
            ]
          },
          "output_type": "execute_result",
          "metadata": {},
          "execution_count": null
        }
      ],
      "source": [
        "False is False is False\n"
      ]
    },
    {
      "cell_type": "code",
      "execution_count": null,
      "metadata": {
        "collapsed": true
      },
      "outputs": [
        {
          "data": {
            "text/plain": [
              "True\n"
            ]
          },
          "output_type": "execute_result",
          "metadata": {},
          "execution_count": null
        }
      ],
      "source": [
        "1 > 0 < 1\n"
      ]
    },
    {
      "cell_type": "code",
      "execution_count": null,
      "metadata": {
        "collapsed": true
      },
      "outputs": [
        {
          "data": {
            "text/plain": [
              "False\n"
            ]
          },
          "output_type": "execute_result",
          "metadata": {},
          "execution_count": null
        }
      ],
      "source": [
        "(1 > 0) < 1\n"
      ]
    },
    {
      "cell_type": "code",
      "execution_count": null,
      "metadata": {
        "collapsed": true
      },
      "outputs": [
        {
          "data": {
            "text/plain": [
              "False\n"
            ]
          },
          "output_type": "execute_result",
          "metadata": {},
          "execution_count": null
        }
      ],
      "source": [
        "1 > (0 < 1)\n"
      ]
    },
    {
      "cell_type": "markdown",
      "metadata": {},
      "source": [
        "\n"
      ]
    },
    {
      "cell_type": "markdown",
      "metadata": {},
      "source": [
        "#### \ud83d\udca1 Explanation:\n",
        "\n",
        "As per https://docs.python.org/3/reference/expressions.html#membership-test-operations\n",
        "\n",
        "> Formally, if a, b, c, ..., y, z are expressions and op1, op2, ..., opN are comparison operators, then a op1 b op2 c ... y opN z is equivalent to a op1 b and b op2 c and ... y opN z, except that each expression is evaluated at most once.\n",
        "\n",
        "While such behavior might seem silly to you in the above examples, it's fantastic with stuff like `a == b == c` and `0 <= x <= 100`.\n",
        "\n",
        "* `False is False is False` is equivalent to `(False is False) and (False is False)`\n",
        "* `True is False == False` is equivalent to `True is False and False == False` and since the first part of the statement (`True is False`) evaluates to `False`, the overall expression evaluates to `False`.\n",
        "* `1 > 0 < 1` is equivalent to `1 > 0 and 0 < 1` which evaluates to `True`.\n",
        "* The expression `(1 > 0) < 1` is equivalent to `True < 1` and\n"
      ]
    },
    {
      "cell_type": "code",
      "execution_count": null,
      "metadata": {
        "collapsed": true
      },
      "outputs": [
        {
          "data": {
            "text/plain": [
              "  1\n"
            ]
          },
          "output_type": "execute_result",
          "metadata": {},
          "execution_count": null
        }
      ],
      "source": [
        "  int(True)\n"
      ]
    },
    {
      "cell_type": "code",
      "execution_count": null,
      "metadata": {
        "collapsed": true
      },
      "outputs": [
        {
          "data": {
            "text/plain": [
              "  2\n"
            ]
          },
          "output_type": "execute_result",
          "metadata": {},
          "execution_count": null
        }
      ],
      "source": [
        "  True + 1 #not relevant for this example, but just for fun\n"
      ]
    },
    {
      "cell_type": "markdown",
      "metadata": {},
      "source": [
        "  So, `1 < 1` evaluates to `False`\n",
        "\n"
      ]
    },
    {
      "cell_type": "markdown",
      "metadata": {},
      "source": [
        "### \u25b6 How not to use `is` operator\n",
        "The following is a very famous example present all over the internet.\n",
        "\n",
        "1\\.\n",
        "\n"
      ]
    },
    {
      "cell_type": "code",
      "execution_count": null,
      "metadata": {
        "collapsed": true
      },
      "outputs": [
        {
          "data": {
            "text/plain": [
              "True\n",
              "\n"
            ]
          },
          "output_type": "execute_result",
          "metadata": {},
          "execution_count": null
        }
      ],
      "source": [
        "a = 256\n",
        "b = 256\n",
        "a is b\n"
      ]
    },
    {
      "cell_type": "code",
      "execution_count": null,
      "metadata": {
        "collapsed": true
      },
      "outputs": [
        {
          "data": {
            "text/plain": [
              "False\n"
            ]
          },
          "output_type": "execute_result",
          "metadata": {},
          "execution_count": null
        }
      ],
      "source": [
        "a = 257\n",
        "b = 257\n",
        "a is b\n"
      ]
    },
    {
      "cell_type": "markdown",
      "metadata": {},
      "source": [
        "\n",
        "2\\.\n",
        "\n"
      ]
    },
    {
      "cell_type": "code",
      "execution_count": null,
      "metadata": {
        "collapsed": true
      },
      "outputs": [
        {
          "data": {
            "text/plain": [
              "False\n",
              "\n"
            ]
          },
          "output_type": "execute_result",
          "metadata": {},
          "execution_count": null
        }
      ],
      "source": [
        "a = []\n",
        "b = []\n",
        "a is b\n"
      ]
    },
    {
      "cell_type": "code",
      "execution_count": null,
      "metadata": {
        "collapsed": true
      },
      "outputs": [
        {
          "data": {
            "text/plain": [
              "True\n"
            ]
          },
          "output_type": "execute_result",
          "metadata": {},
          "execution_count": null
        }
      ],
      "source": [
        "a = tuple()\n",
        "b = tuple()\n",
        "a is b\n"
      ]
    },
    {
      "cell_type": "markdown",
      "metadata": {},
      "source": [
        "\n",
        "3\\.\n",
        "**Output**\n",
        "\n"
      ]
    },
    {
      "cell_type": "code",
      "execution_count": null,
      "metadata": {
        "collapsed": true
      },
      "outputs": [
        {
          "data": {
            "text/plain": [
              "True\n"
            ]
          },
          "output_type": "execute_result",
          "metadata": {},
          "execution_count": null
        }
      ],
      "source": [
        "a, b = 257, 257\n",
        "a is b\n"
      ]
    },
    {
      "cell_type": "markdown",
      "metadata": {},
      "source": [
        "\n",
        "**Output (Python 3.7.x specifically)**\n",
        "\n"
      ]
    },
    {
      "cell_type": "code",
      "execution_count": null,
      "metadata": {
        "collapsed": true
      },
      "outputs": [
        {
          "data": {
            "text/plain": [
              ">> a is b\n",
              "False\n"
            ]
          },
          "output_type": "execute_result",
          "metadata": {},
          "execution_count": null
        }
      ],
      "source": [
        "a, b = 257, 257\n"
      ]
    },
    {
      "cell_type": "markdown",
      "metadata": {},
      "source": [
        "\n"
      ]
    },
    {
      "cell_type": "markdown",
      "metadata": {},
      "source": [
        "#### \ud83d\udca1 Explanation:\n",
        "\n",
        "**The difference between `is` and `==`**\n",
        "\n",
        "* `is` operator checks if both the operands refer to the same object (i.e., it checks if the identity of the operands matches or not).\n",
        "* `==` operator compares the values of both the operands and checks if they are the same.\n",
        "* So `is` is for reference equality and `==` is for value equality. An example to clear things up,\n"
      ]
    },
    {
      "cell_type": "code",
      "execution_count": null,
      "metadata": {
        "collapsed": true
      },
      "outputs": [
        {
          "data": {
            "text/plain": [
              "  False\n"
            ]
          },
          "output_type": "execute_result",
          "metadata": {},
          "execution_count": null
        }
      ],
      "source": [
        "  class A: pass\n",
        "  A() is A() # These are two empty objects at two different memory locations.\n"
      ]
    },
    {
      "cell_type": "markdown",
      "metadata": {},
      "source": [
        "\n",
        "**`256` is an existing object but `257` isn't**\n",
        "\n",
        "When you start up python the numbers from `-5` to `256` will be allocated. These numbers are used a lot, so it makes sense just to have them ready.\n",
        "\n",
        "Quoting from https://docs.python.org/3/c-api/long.html\n",
        "> The current implementation keeps an array of integer objects for all integers between -5 and 256, when you create an int in that range you just get back a reference to the existing object. So it should be possible to change the value of 1. I suspect the behavior of Python, in this case, is undefined. :-)\n",
        "\n"
      ]
    },
    {
      "cell_type": "code",
      "execution_count": null,
      "metadata": {
        "collapsed": true
      },
      "outputs": [
        {
          "data": {
            "text/plain": [
              "10922528\n"
            ]
          },
          "output_type": "execute_result",
          "metadata": {},
          "execution_count": null
        }
      ],
      "source": [
        "id(256)\n"
      ]
    },
    {
      "cell_type": "code",
      "execution_count": null,
      "metadata": {
        "collapsed": true
      },
      "outputs": [
        {
          "data": {
            "text/plain": [
              "10922528\n"
            ]
          },
          "output_type": "execute_result",
          "metadata": {},
          "execution_count": null
        }
      ],
      "source": [
        "a = 256\n",
        "b = 256\n",
        "id(a)\n"
      ]
    },
    {
      "cell_type": "code",
      "execution_count": null,
      "metadata": {
        "collapsed": true
      },
      "outputs": [
        {
          "data": {
            "text/plain": [
              "10922528\n"
            ]
          },
          "output_type": "execute_result",
          "metadata": {},
          "execution_count": null
        }
      ],
      "source": [
        "id(b)\n"
      ]
    },
    {
      "cell_type": "code",
      "execution_count": null,
      "metadata": {
        "collapsed": true
      },
      "outputs": [
        {
          "data": {
            "text/plain": [
              "140084850247312\n"
            ]
          },
          "output_type": "execute_result",
          "metadata": {},
          "execution_count": null
        }
      ],
      "source": [
        "id(257)\n"
      ]
    },
    {
      "cell_type": "code",
      "execution_count": null,
      "metadata": {
        "collapsed": true
      },
      "outputs": [
        {
          "data": {
            "text/plain": [
              "140084850247440\n"
            ]
          },
          "output_type": "execute_result",
          "metadata": {},
          "execution_count": null
        }
      ],
      "source": [
        "x = 257\n",
        "y = 257\n",
        "id(x)\n"
      ]
    },
    {
      "cell_type": "code",
      "execution_count": null,
      "metadata": {
        "collapsed": true
      },
      "outputs": [
        {
          "data": {
            "text/plain": [
              "140084850247344\n"
            ]
          },
          "output_type": "execute_result",
          "metadata": {},
          "execution_count": null
        }
      ],
      "source": [
        "id(y)\n"
      ]
    },
    {
      "cell_type": "markdown",
      "metadata": {},
      "source": [
        "\n",
        "Here the interpreter isn't smart enough while executing `y = 257` to recognize that we've already created an integer of the value `257,` and so it goes on to create another object in the memory.\n",
        "\n",
        "Similar optimization applies to other **immutable** objects like empty tuples as well. Since lists are mutable, that's why `[] is []` will return `False` and `() is ()` will return `True`. This explains our second snippet. Let's move on to the third one, \n",
        "\n",
        "**Both `a` and `b` refer to the same object when initialized with same value in the same line.**\n",
        "\n",
        "**Output**\n",
        "\n"
      ]
    },
    {
      "cell_type": "code",
      "execution_count": null,
      "metadata": {
        "collapsed": true
      },
      "outputs": [
        {
          "data": {
            "text/plain": [
              "140640774013296\n"
            ]
          },
          "output_type": "execute_result",
          "metadata": {},
          "execution_count": null
        }
      ],
      "source": [
        "a, b = 257, 257\n",
        "id(a)\n"
      ]
    },
    {
      "cell_type": "code",
      "execution_count": null,
      "metadata": {
        "collapsed": true
      },
      "outputs": [
        {
          "data": {
            "text/plain": [
              "140640774013296\n"
            ]
          },
          "output_type": "execute_result",
          "metadata": {},
          "execution_count": null
        }
      ],
      "source": [
        "id(b)\n"
      ]
    },
    {
      "cell_type": "code",
      "execution_count": null,
      "metadata": {
        "collapsed": true
      },
      "outputs": [
        {
          "data": {
            "text/plain": [
              "140640774013392\n"
            ]
          },
          "output_type": "execute_result",
          "metadata": {},
          "execution_count": null
        }
      ],
      "source": [
        "a = 257\n",
        "b = 257\n",
        "id(a)\n"
      ]
    },
    {
      "cell_type": "code",
      "execution_count": null,
      "metadata": {
        "collapsed": true
      },
      "outputs": [
        {
          "data": {
            "text/plain": [
              "140640774013488\n"
            ]
          },
          "output_type": "execute_result",
          "metadata": {},
          "execution_count": null
        }
      ],
      "source": [
        "id(b)\n"
      ]
    },
    {
      "cell_type": "markdown",
      "metadata": {},
      "source": [
        "\n",
        "* When a and b are set to `257` in the same line, the Python interpreter creates a new object, then references the second variable at the same time. If you do it on separate lines, it doesn't \"know\" that there's already `257` as an object.\n",
        "\n",
        "* It's a compiler optimization and specifically applies to the interactive environment. When you enter two lines in a live interpreter, they're compiled separately, therefore optimized separately. If you were to try this example in a `.py` file, you would not see the same behavior, because the file is compiled all at once. This optimization is not limited to integers, it works for other immutable data types like strings (check the \"Strings are tricky example\") and floats as well,\n",
        "\n"
      ]
    },
    {
      "cell_type": "code",
      "execution_count": null,
      "metadata": {
        "collapsed": true
      },
      "outputs": [
        {
          "data": {
            "text/plain": [
              "  True\n"
            ]
          },
          "output_type": "execute_result",
          "metadata": {},
          "execution_count": null
        }
      ],
      "source": [
        "  a, b = 257.0, 257.0\n",
        "  a is b\n"
      ]
    },
    {
      "cell_type": "markdown",
      "metadata": {},
      "source": [
        "\n",
        "* Why didn't this work for Python 3.7? The abstract reason is because such compiler optimizations are implementation specific (i.e. may change with version, OS, etc). I'm still figuring out what exact implementation change cause the issue, you can check out this [issue](https://github.com/satwikkansal/wtfpython/issues/100) for updates.\n",
        "\n"
      ]
    },
    {
      "cell_type": "markdown",
      "metadata": {},
      "source": [
        "### \u25b6 Hash brownies\n",
        "1\\.\n"
      ]
    },
    {
      "cell_type": "code",
      "execution_count": null,
      "metadata": {
        "collapsed": true
      },
      "outputs": [
        {
          "data": {
            "text/plain": []
          },
          "output_type": "execute_result",
          "metadata": {},
          "execution_count": null
        }
      ],
      "source": [
        "some_dict = {}\n",
        "some_dict[5.5] = \"JavaScript\"\n",
        "some_dict[5.0] = \"Ruby\"\n",
        "some_dict[5] = \"Python\"\n"
      ]
    },
    {
      "cell_type": "markdown",
      "metadata": {},
      "source": [
        "\n",
        "**Output:**\n",
        "\n"
      ]
    },
    {
      "cell_type": "code",
      "execution_count": null,
      "metadata": {
        "collapsed": true
      },
      "outputs": [
        {
          "data": {
            "text/plain": [
              "\"JavaScript\"\n"
            ]
          },
          "output_type": "execute_result",
          "metadata": {},
          "execution_count": null
        }
      ],
      "source": [
        "some_dict[5.5]\n"
      ]
    },
    {
      "cell_type": "code",
      "execution_count": null,
      "metadata": {
        "collapsed": true
      },
      "outputs": [
        {
          "data": {
            "text/plain": [
              "\"Python\"\n"
            ]
          },
          "output_type": "execute_result",
          "metadata": {},
          "execution_count": null
        }
      ],
      "source": [
        "some_dict[5.0] # \"Python\" destroyed the existence of \"Ruby\"?\n"
      ]
    },
    {
      "cell_type": "code",
      "execution_count": null,
      "metadata": {
        "collapsed": true
      },
      "outputs": [
        {
          "data": {
            "text/plain": [
              "\"Python\"\n",
              "\n"
            ]
          },
          "output_type": "execute_result",
          "metadata": {},
          "execution_count": null
        }
      ],
      "source": [
        "some_dict[5] \n"
      ]
    },
    {
      "cell_type": "code",
      "execution_count": null,
      "metadata": {
        "collapsed": true
      },
      "outputs": [
        {
          "data": {
            "text/plain": [
              "complex\n"
            ]
          },
          "output_type": "execute_result",
          "metadata": {},
          "execution_count": null
        }
      ],
      "source": [
        "complex_five = 5 + 0j\n",
        "type(complex_five)\n"
      ]
    },
    {
      "cell_type": "code",
      "execution_count": null,
      "metadata": {
        "collapsed": true
      },
      "outputs": [
        {
          "data": {
            "text/plain": [
              "\"Python\"\n"
            ]
          },
          "output_type": "execute_result",
          "metadata": {},
          "execution_count": null
        }
      ],
      "source": [
        "some_dict[complex_five]\n"
      ]
    },
    {
      "cell_type": "markdown",
      "metadata": {},
      "source": [
        "\n",
        "So, why is Python all over the place?\n",
        "\n",
        "\n"
      ]
    },
    {
      "cell_type": "markdown",
      "metadata": {},
      "source": [
        "#### \ud83d\udca1 Explanation\n",
        "\n",
        "* Uniqueness of keys in a Python dictionary is by *equivalence*, not identity. So even though `5`, `5.0`, and `5 + 0j` are distinct objects of different types, since they're equal, they can't both be in the same `dict` (or `set`). As soon as you insert any one of them, attempting to look up any distinct but equivalent key will succeed with the original mapped value (rather than failing with a `KeyError`):\n"
      ]
    },
    {
      "cell_type": "code",
      "execution_count": null,
      "metadata": {
        "collapsed": true
      },
      "outputs": [
        {
          "data": {
            "text/plain": [
              "  True\n"
            ]
          },
          "output_type": "execute_result",
          "metadata": {},
          "execution_count": null
        }
      ],
      "source": [
        "  5 == 5.0 == 5 + 0j\n"
      ]
    },
    {
      "cell_type": "code",
      "execution_count": null,
      "metadata": {
        "collapsed": true
      },
      "outputs": [
        {
          "data": {
            "text/plain": [
              "  True\n"
            ]
          },
          "output_type": "execute_result",
          "metadata": {},
          "execution_count": null
        }
      ],
      "source": [
        "  5 is not 5.0 is not 5 + 0j\n"
      ]
    },
    {
      "cell_type": "code",
      "execution_count": null,
      "metadata": {
        "collapsed": true
      },
      "outputs": [
        {
          "data": {
            "text/plain": [
              "  True\n"
            ]
          },
          "output_type": "execute_result",
          "metadata": {},
          "execution_count": null
        }
      ],
      "source": [
        "  some_dict = {}\n",
        "  some_dict[5.0] = \"Ruby\"\n",
        "  5.0 in some_dict\n"
      ]
    },
    {
      "cell_type": "code",
      "execution_count": null,
      "metadata": {
        "collapsed": true
      },
      "outputs": [
        {
          "data": {
            "text/plain": [
              "  True\n"
            ]
          },
          "output_type": "execute_result",
          "metadata": {},
          "execution_count": null
        }
      ],
      "source": [
        "  (5 in some_dict) and (5 + 0j in some_dict)\n"
      ]
    },
    {
      "cell_type": "markdown",
      "metadata": {},
      "source": [
        "* This applies when setting an item as well. So when you do `some_dict[5] = \"Python\"`, Python finds the existing item with equivalent key `5.0 -> \"Ruby\"`, overwrites its value in place, and leaves the original key alone.\n"
      ]
    },
    {
      "cell_type": "code",
      "execution_count": null,
      "metadata": {
        "collapsed": true
      },
      "outputs": [
        {
          "data": {
            "text/plain": [
              "  {5.0: 'Ruby'}\n"
            ]
          },
          "output_type": "execute_result",
          "metadata": {},
          "execution_count": null
        }
      ],
      "source": [
        "  some_dict\n"
      ]
    },
    {
      "cell_type": "code",
      "execution_count": null,
      "metadata": {
        "collapsed": true
      },
      "outputs": [
        {
          "data": {
            "text/plain": [
              "  {5.0: 'Python'}\n"
            ]
          },
          "output_type": "execute_result",
          "metadata": {},
          "execution_count": null
        }
      ],
      "source": [
        "  some_dict[5] = \"Python\"\n",
        "  some_dict\n"
      ]
    },
    {
      "cell_type": "markdown",
      "metadata": {},
      "source": [
        "* So how can we update the key to `5` (instead of `5.0`)? We can't actually do this update in place, but what we can do is first delete the key (`del some_dict[5.0]`), and then set it (`some_dict[5]`) to get the integer `5` as the key instead of floating `5.0`, though this should be needed in rare cases.\n",
        "\n",
        "* How did Python find `5` in a dictionary containing `5.0`? Python does this in constant time without having to scan through every item by using hash functions. When Python looks up a key `foo` in a dict, it first computes `hash(foo)` (which runs in constant-time). Since in Python it is required that objects that compare equal also have the same hash value ([docs](https://docs.python.org/3/reference/datamodel.html#object.__hash__) here), `5`, `5.0`, and `5 + 0j` have the same hash value.\n"
      ]
    },
    {
      "cell_type": "code",
      "execution_count": null,
      "metadata": {
        "collapsed": true
      },
      "outputs": [
        {
          "data": {
            "text/plain": [
              "  True\n"
            ]
          },
          "output_type": "execute_result",
          "metadata": {},
          "execution_count": null
        }
      ],
      "source": [
        "  5 == 5.0 == 5 + 0j\n"
      ]
    },
    {
      "cell_type": "code",
      "execution_count": null,
      "metadata": {
        "collapsed": true
      },
      "outputs": [
        {
          "data": {
            "text/plain": [
              "  True\n"
            ]
          },
          "output_type": "execute_result",
          "metadata": {},
          "execution_count": null
        }
      ],
      "source": [
        "  hash(5) == hash(5.0) == hash(5 + 0j)\n"
      ]
    },
    {
      "cell_type": "markdown",
      "metadata": {},
      "source": [
        "  **Note:** The inverse is not necessarily true: Objects with equal hash values may themselves be unequal. (This causes what's known as a [hash collision](https://en.wikipedia.org/wiki/Collision_(computer_science)), and degrades the constant-time performance that hashing usually provides.)\n",
        "\n"
      ]
    },
    {
      "cell_type": "markdown",
      "metadata": {},
      "source": [
        "### \u25b6 Deep down, we're all the same.\n"
      ]
    },
    {
      "cell_type": "code",
      "execution_count": null,
      "metadata": {
        "collapsed": true
      },
      "outputs": [
        {
          "data": {
            "text/plain": []
          },
          "output_type": "execute_result",
          "metadata": {},
          "execution_count": null
        }
      ],
      "source": [
        "class WTF:\n",
        "  pass\n"
      ]
    },
    {
      "cell_type": "markdown",
      "metadata": {},
      "source": [
        "\n",
        "**Output:**\n"
      ]
    },
    {
      "cell_type": "code",
      "execution_count": null,
      "metadata": {
        "collapsed": true
      },
      "outputs": [
        {
          "data": {
            "text/plain": [
              "False\n"
            ]
          },
          "output_type": "execute_result",
          "metadata": {},
          "execution_count": null
        }
      ],
      "source": [
        "WTF() == WTF() # two different instances can't be equal\n"
      ]
    },
    {
      "cell_type": "code",
      "execution_count": null,
      "metadata": {
        "collapsed": true
      },
      "outputs": [
        {
          "data": {
            "text/plain": [
              "False\n"
            ]
          },
          "output_type": "execute_result",
          "metadata": {},
          "execution_count": null
        }
      ],
      "source": [
        "WTF() is WTF() # identities are also different\n"
      ]
    },
    {
      "cell_type": "code",
      "execution_count": null,
      "metadata": {
        "collapsed": true
      },
      "outputs": [
        {
          "data": {
            "text/plain": [
              "True\n"
            ]
          },
          "output_type": "execute_result",
          "metadata": {},
          "execution_count": null
        }
      ],
      "source": [
        "hash(WTF()) == hash(WTF()) # hashes _should_ be different as well\n"
      ]
    },
    {
      "cell_type": "code",
      "execution_count": null,
      "metadata": {
        "collapsed": true
      },
      "outputs": [
        {
          "data": {
            "text/plain": [
              "True\n"
            ]
          },
          "output_type": "execute_result",
          "metadata": {},
          "execution_count": null
        }
      ],
      "source": [
        "id(WTF()) == id(WTF())\n"
      ]
    },
    {
      "cell_type": "markdown",
      "metadata": {},
      "source": [
        "\n"
      ]
    },
    {
      "cell_type": "markdown",
      "metadata": {},
      "source": [
        "#### \ud83d\udca1 Explanation:\n",
        "\n",
        "* When `id` was called, Python created a `WTF` class object and passed it to the `id` function. The `id` function takes its `id` (its memory location), and throws away the object. The object is destroyed.\n",
        "* When we do this twice in succession, Python allocates the same memory location to this second object as well. Since (in CPython) `id` uses the memory location as the object id, the id of the two objects is the same.\n",
        "* So, the object's id is unique only for the lifetime of the object. After the object is destroyed, or before it is created, something else can have the same id.\n",
        "* But why did the `is` operator evaluated to `False`? Let's see with this snippet.\n"
      ]
    },
    {
      "cell_type": "code",
      "execution_count": null,
      "metadata": {
        "collapsed": true
      },
      "outputs": [
        {
          "data": {
            "text/plain": []
          },
          "output_type": "execute_result",
          "metadata": {},
          "execution_count": null
        }
      ],
      "source": [
        "  class WTF(object):\n",
        "    def __init__(self): print(\"I\")\n",
        "    def __del__(self): print(\"D\")\n"
      ]
    },
    {
      "cell_type": "markdown",
      "metadata": {},
      "source": [
        "\n",
        "  **Output:**\n"
      ]
    },
    {
      "cell_type": "code",
      "execution_count": null,
      "metadata": {
        "collapsed": true
      },
      "outputs": [
        {
          "data": {
            "text/plain": [
              "  I\n",
              "  I\n",
              "  D\n",
              "  D\n",
              "  False\n"
            ]
          },
          "output_type": "execute_result",
          "metadata": {},
          "execution_count": null
        }
      ],
      "source": [
        "  WTF() is WTF()\n"
      ]
    },
    {
      "cell_type": "code",
      "execution_count": null,
      "metadata": {
        "collapsed": true
      },
      "outputs": [
        {
          "data": {
            "text/plain": [
              "  I\n",
              "  D\n",
              "  I\n",
              "  D\n",
              "  True\n"
            ]
          },
          "output_type": "execute_result",
          "metadata": {},
          "execution_count": null
        }
      ],
      "source": [
        "  id(WTF()) == id(WTF())\n"
      ]
    },
    {
      "cell_type": "markdown",
      "metadata": {},
      "source": [
        "  As you may observe, the order in which the objects are destroyed is what made all the difference here.\n",
        "\n"
      ]
    },
    {
      "cell_type": "markdown",
      "metadata": {},
      "source": [
        "### \u25b6 Disorder within order *\n"
      ]
    },
    {
      "cell_type": "code",
      "execution_count": null,
      "metadata": {
        "collapsed": true
      },
      "outputs": [
        {
          "data": {
            "text/plain": []
          },
          "output_type": "execute_result",
          "metadata": {},
          "execution_count": null
        }
      ],
      "source": [
        "from collections import OrderedDict\n",
        "\n",
        "dictionary = dict()\n",
        "dictionary[1] = 'a'; dictionary[2] = 'b';\n",
        "\n",
        "ordered_dict = OrderedDict()\n",
        "ordered_dict[1] = 'a'; ordered_dict[2] = 'b';\n",
        "\n",
        "another_ordered_dict = OrderedDict()\n",
        "another_ordered_dict[2] = 'b'; another_ordered_dict[1] = 'a';\n",
        "\n",
        "class DictWithHash(dict):\n",
        "    \"\"\"\n",
        "    A dict that also implements __hash__ magic.\n",
        "    \"\"\"\n",
        "    __hash__ = lambda self: 0\n",
        "\n",
        "class OrderedDictWithHash(OrderedDict):\n",
        "    \"\"\"\n",
        "    An OrderedDict that also implements __hash__ magic.\n",
        "    \"\"\"\n",
        "    __hash__ = lambda self: 0\n"
      ]
    },
    {
      "cell_type": "markdown",
      "metadata": {},
      "source": [
        "\n",
        "**Output**\n"
      ]
    },
    {
      "cell_type": "code",
      "execution_count": null,
      "metadata": {
        "collapsed": true
      },
      "outputs": [
        {
          "data": {
            "text/plain": [
              "True\n"
            ]
          },
          "output_type": "execute_result",
          "metadata": {},
          "execution_count": null
        }
      ],
      "source": [
        "dictionary == ordered_dict # If a == b\n"
      ]
    },
    {
      "cell_type": "code",
      "execution_count": null,
      "metadata": {
        "collapsed": true
      },
      "outputs": [
        {
          "data": {
            "text/plain": [
              "True\n"
            ]
          },
          "output_type": "execute_result",
          "metadata": {},
          "execution_count": null
        }
      ],
      "source": [
        "dictionary == another_ordered_dict # and b == c\n"
      ]
    },
    {
      "cell_type": "code",
      "execution_count": null,
      "metadata": {
        "collapsed": true
      },
      "outputs": [
        {
          "data": {
            "text/plain": [
              "False\n",
              "\n",
              "# We all know that a set consists of only unique elements,\n",
              "# let's try making a set of these dictionaries and see what happens...\n",
              "\n"
            ]
          },
          "output_type": "execute_result",
          "metadata": {},
          "execution_count": null
        }
      ],
      "source": [
        "ordered_dict == another_ordered_dict # then why isn't c == a ??\n"
      ]
    },
    {
      "cell_type": "code",
      "execution_count": null,
      "metadata": {
        "collapsed": true
      },
      "outputs": [
        {
          "data": {
            "text/plain": [
              "Traceback (most recent call last):\n",
              "  File \"<stdin>\", line 1, in <module>\n",
              "TypeError: unhashable type: 'dict'\n",
              "\n",
              "# Makes sense since dict don't have __hash__ implemented, let's use\n",
              "# our wrapper classes.\n"
            ]
          },
          "output_type": "execute_result",
          "metadata": {},
          "execution_count": null
        }
      ],
      "source": [
        "len({dictionary, ordered_dict, another_ordered_dict})\n"
      ]
    },
    {
      "cell_type": "code",
      "execution_count": null,
      "metadata": {
        "collapsed": true
      },
      "outputs": [
        {
          "data": {
            "text/plain": [
              "1\n"
            ]
          },
          "output_type": "execute_result",
          "metadata": {},
          "execution_count": null
        }
      ],
      "source": [
        "dictionary = DictWithHash()\n",
        "dictionary[1] = 'a'; dictionary[2] = 'b';\n",
        "ordered_dict = OrderedDictWithHash()\n",
        "ordered_dict[1] = 'a'; ordered_dict[2] = 'b';\n",
        "another_ordered_dict = OrderedDictWithHash()\n",
        "another_ordered_dict[2] = 'b'; another_ordered_dict[1] = 'a';\n",
        "len({dictionary, ordered_dict, another_ordered_dict})\n"
      ]
    },
    {
      "cell_type": "code",
      "execution_count": null,
      "metadata": {
        "collapsed": true
      },
      "outputs": [
        {
          "data": {
            "text/plain": [
              "2\n"
            ]
          },
          "output_type": "execute_result",
          "metadata": {},
          "execution_count": null
        }
      ],
      "source": [
        "len({ordered_dict, another_ordered_dict, dictionary}) # changing the order\n"
      ]
    },
    {
      "cell_type": "markdown",
      "metadata": {},
      "source": [
        "\n",
        "What is going on here?\n",
        "\n"
      ]
    },
    {
      "cell_type": "markdown",
      "metadata": {},
      "source": [
        "#### \ud83d\udca1 Explanation:\n",
        "\n",
        "- The reason why intransitive equality didn't hold among `dictionary`, `ordered_dict` and `another_ordered_dict` is because of the way `__eq__` method is implemented in `OrderedDict` class. From the [docs](https://docs.python.org/3/library/collections.html#ordereddict-objects)\n",
        "  \n",
        "    > Equality tests between OrderedDict objects are order-sensitive and are implemented as `list(od1.items())==list(od2.items())`. Equality tests between `OrderedDict` objects and other Mapping objects are order-insensitive like regular dictionaries.\n",
        "- The reason for this equality in behavior is that it allows `OrderedDict` objects to be directly substituted anywhere a regular dictionary is used.\n",
        "- Okay, so why did changing the order affect the length of the generated `set` object? The answer is the lack of intransitive equality only. Since sets are \"unordered\" collections of unique elements, the order in which elements are inserted shouldn't matter. But in this case, it does matter. Let's break it down a bit,\n"
      ]
    },
    {
      "cell_type": "code",
      "execution_count": null,
      "metadata": {
        "collapsed": true
      },
      "outputs": [
        {
          "data": {
            "text/plain": [
              "    True\n"
            ]
          },
          "output_type": "execute_result",
          "metadata": {},
          "execution_count": null
        }
      ],
      "source": [
        "    some_set = set()\n",
        "    some_set.add(dictionary) # these are the mapping objects from the snippets above\n",
        "    ordered_dict in some_set\n"
      ]
    },
    {
      "cell_type": "code",
      "execution_count": null,
      "metadata": {
        "collapsed": true
      },
      "outputs": [
        {
          "data": {
            "text/plain": [
              "    1\n"
            ]
          },
          "output_type": "execute_result",
          "metadata": {},
          "execution_count": null
        }
      ],
      "source": [
        "    some_set.add(ordered_dict)\n",
        "    len(some_set)\n"
      ]
    },
    {
      "cell_type": "code",
      "execution_count": null,
      "metadata": {
        "collapsed": true
      },
      "outputs": [
        {
          "data": {
            "text/plain": [
              "    True\n"
            ]
          },
          "output_type": "execute_result",
          "metadata": {},
          "execution_count": null
        }
      ],
      "source": [
        "    another_ordered_dict in some_set\n"
      ]
    },
    {
      "cell_type": "code",
      "execution_count": null,
      "metadata": {
        "collapsed": true
      },
      "outputs": [
        {
          "data": {
            "text/plain": [
              "    1\n",
              "\n"
            ]
          },
          "output_type": "execute_result",
          "metadata": {},
          "execution_count": null
        }
      ],
      "source": [
        "    some_set.add(another_ordered_dict)\n",
        "    len(some_set)\n"
      ]
    },
    {
      "cell_type": "code",
      "execution_count": null,
      "metadata": {
        "collapsed": true
      },
      "outputs": [
        {
          "data": {
            "text/plain": [
              "    False\n"
            ]
          },
          "output_type": "execute_result",
          "metadata": {},
          "execution_count": null
        }
      ],
      "source": [
        "    another_set = set()\n",
        "    another_set.add(ordered_dict)\n",
        "    another_ordered_dict in another_set\n"
      ]
    },
    {
      "cell_type": "code",
      "execution_count": null,
      "metadata": {
        "collapsed": true
      },
      "outputs": [
        {
          "data": {
            "text/plain": [
              "    2\n"
            ]
          },
          "output_type": "execute_result",
          "metadata": {},
          "execution_count": null
        }
      ],
      "source": [
        "    another_set.add(another_ordered_dict)\n",
        "    len(another_set)\n"
      ]
    },
    {
      "cell_type": "code",
      "execution_count": null,
      "metadata": {
        "collapsed": true
      },
      "outputs": [
        {
          "data": {
            "text/plain": [
              "    True\n"
            ]
          },
          "output_type": "execute_result",
          "metadata": {},
          "execution_count": null
        }
      ],
      "source": [
        "    dictionary in another_set\n"
      ]
    },
    {
      "cell_type": "code",
      "execution_count": null,
      "metadata": {
        "collapsed": true
      },
      "outputs": [
        {
          "data": {
            "text/plain": [
              "    2\n"
            ]
          },
          "output_type": "execute_result",
          "metadata": {},
          "execution_count": null
        }
      ],
      "source": [
        "    another_set.add(another_ordered_dict)\n",
        "    len(another_set)\n"
      ]
    },
    {
      "cell_type": "markdown",
      "metadata": {},
      "source": [
        "    So the inconsistency is due to `another_ordered_dict in another_set` being `False` because `ordered_dict` was already present in `another_set` and as observed before, `ordered_dict == another_ordered_dict` is `False`.\n",
        "\n"
      ]
    },
    {
      "cell_type": "markdown",
      "metadata": {},
      "source": [
        "### \u25b6 Keep trying... *\n"
      ]
    },
    {
      "cell_type": "code",
      "execution_count": null,
      "metadata": {
        "collapsed": true
      },
      "outputs": [
        {
          "data": {
            "text/plain": []
          },
          "output_type": "execute_result",
          "metadata": {},
          "execution_count": null
        }
      ],
      "source": [
        "def some_func():\n",
        "    try:\n",
        "        return 'from_try'\n",
        "    finally:\n",
        "        return 'from_finally'\n",
        "\n",
        "def another_func(): \n",
        "    for _ in range(3):\n",
        "        try:\n",
        "            continue\n",
        "        finally:\n",
        "            print(\"Finally!\")\n",
        "\n",
        "def one_more_func(): # A gotcha!\n",
        "    try:\n",
        "        for i in range(3):\n",
        "            try:\n",
        "                1 / i\n",
        "            except ZeroDivisionError:\n",
        "                # Let's throw it here and handle it outside for loop\n",
        "                raise ZeroDivisionError(\"A trivial divide by zero error\")\n",
        "            finally:\n",
        "                print(\"Iteration\", i)\n",
        "                break\n",
        "    except ZeroDivisionError as e:\n",
        "        print(\"Zero division error occurred\", e)\n"
      ]
    },
    {
      "cell_type": "markdown",
      "metadata": {},
      "source": [
        "\n",
        "**Output:**\n",
        "\n"
      ]
    },
    {
      "cell_type": "code",
      "execution_count": null,
      "metadata": {
        "collapsed": true
      },
      "outputs": [
        {
          "data": {
            "text/plain": [
              "'from_finally'\n",
              "\n"
            ]
          },
          "output_type": "execute_result",
          "metadata": {},
          "execution_count": null
        }
      ],
      "source": [
        "some_func()\n"
      ]
    },
    {
      "cell_type": "code",
      "execution_count": null,
      "metadata": {
        "collapsed": true
      },
      "outputs": [
        {
          "data": {
            "text/plain": [
              "Finally!\n",
              "Finally!\n",
              "Finally!\n",
              "\n"
            ]
          },
          "output_type": "execute_result",
          "metadata": {},
          "execution_count": null
        }
      ],
      "source": [
        "another_func()\n"
      ]
    },
    {
      "cell_type": "code",
      "execution_count": null,
      "metadata": {
        "collapsed": true
      },
      "outputs": [
        {
          "data": {
            "text/plain": [
              "Traceback (most recent call last):\n",
              "  File \"<stdin>\", line 1, in <module>\n",
              "ZeroDivisionError: division by zero\n",
              "\n"
            ]
          },
          "output_type": "execute_result",
          "metadata": {},
          "execution_count": null
        }
      ],
      "source": [
        "1 / 0\n"
      ]
    },
    {
      "cell_type": "code",
      "execution_count": null,
      "metadata": {
        "collapsed": true
      },
      "outputs": [
        {
          "data": {
            "text/plain": [
              "Iteration 0\n",
              "\n"
            ]
          },
          "output_type": "execute_result",
          "metadata": {},
          "execution_count": null
        }
      ],
      "source": [
        "one_more_func()\n"
      ]
    },
    {
      "cell_type": "markdown",
      "metadata": {},
      "source": [
        "\n"
      ]
    },
    {
      "cell_type": "markdown",
      "metadata": {},
      "source": [
        "#### \ud83d\udca1 Explanation:\n",
        "\n",
        "- When a `return`, `break` or `continue` statement is executed in the `try` suite of a \"try\u2026finally\" statement, the `finally` clause is also executed on the way out.\n",
        "- The return value of a function is determined by the last `return` statement executed. Since the `finally` clause always executes, a `return` statement executed in the `finally` clause will always be the last one executed.\n",
        "- The caveat here is, if the finally clause executes a `return` or `break` statement, the temporarily saved exception is discarded.\n",
        "\n"
      ]
    },
    {
      "cell_type": "markdown",
      "metadata": {},
      "source": [
        "### \u25b6 For what?\n"
      ]
    },
    {
      "cell_type": "code",
      "execution_count": null,
      "metadata": {
        "collapsed": true
      },
      "outputs": [
        {
          "data": {
            "text/plain": []
          },
          "output_type": "execute_result",
          "metadata": {},
          "execution_count": null
        }
      ],
      "source": [
        "some_string = \"wtf\"\n",
        "some_dict = {}\n",
        "for i, some_dict[i] in enumerate(some_string):\n",
        "    i = 10\n"
      ]
    },
    {
      "cell_type": "markdown",
      "metadata": {},
      "source": [
        "\n",
        "**Output:**\n"
      ]
    },
    {
      "cell_type": "code",
      "execution_count": null,
      "metadata": {
        "collapsed": true
      },
      "outputs": [
        {
          "data": {
            "text/plain": [
              "{0: 'w', 1: 't', 2: 'f'}\n"
            ]
          },
          "output_type": "execute_result",
          "metadata": {},
          "execution_count": null
        }
      ],
      "source": [
        "some_dict # An indexed dict appears.\n"
      ]
    },
    {
      "cell_type": "markdown",
      "metadata": {},
      "source": [
        "\n"
      ]
    },
    {
      "cell_type": "markdown",
      "metadata": {},
      "source": [
        "####  \ud83d\udca1 Explanation:\n",
        "\n",
        "* A `for` statement is defined in the [Python grammar](https://docs.python.org/3/reference/grammar.html) as:\n",
        "  ```\n",
        "  for_stmt: 'for' exprlist 'in' testlist ':' suite ['else' ':' suite]\n",
        "  ```\n",
        "  Where `exprlist` is the assignment target. This means that the equivalent of `{exprlist} = {next_value}` is **executed for each item** in the iterable.\n",
        "  An interesting example that illustrates this:\n"
      ]
    },
    {
      "cell_type": "code",
      "execution_count": null,
      "metadata": {
        "collapsed": true
      },
      "outputs": [
        {
          "data": {
            "text/plain": []
          },
          "output_type": "execute_result",
          "metadata": {},
          "execution_count": null
        }
      ],
      "source": [
        "  for i in range(4):\n",
        "      print(i)\n",
        "      i = 10\n"
      ]
    },
    {
      "cell_type": "markdown",
      "metadata": {},
      "source": [
        "\n",
        "  **Output:**\n",
        "  ```\n",
        "  0\n",
        "  1\n",
        "  2\n",
        "  3\n",
        "  ```\n",
        "\n",
        "  Did you expect the loop to run just once?\n",
        "\n",
        "  **\ud83d\udca1 Explanation:**\n",
        "\n",
        "  - The assignment statement `i = 10` never affects the iterations of the loop because of the way for loops work in Python. Before the beginning of every iteration, the next item provided by the iterator (`range(4)` in this case) is unpacked and assigned the target list variables (`i` in this case).\n",
        "\n",
        "* The `enumerate(some_string)` function yields a new value `i` (a counter going up) and a character from the `some_string` in each iteration. It then sets the (just assigned) `i` key of the dictionary `some_dict` to that character. The unrolling of the loop can be simplified as:\n"
      ]
    },
    {
      "cell_type": "code",
      "execution_count": null,
      "metadata": {
        "collapsed": true
      },
      "outputs": [
        {
          "data": {
            "text/plain": []
          },
          "output_type": "execute_result",
          "metadata": {},
          "execution_count": null
        }
      ],
      "source": [
        "  i, some_dict[i] = (0, 'w')\n",
        "  i, some_dict[i] = (1, 't')\n",
        "  i, some_dict[i] = (2, 'f')\n",
        "  some_dict\n"
      ]
    },
    {
      "cell_type": "markdown",
      "metadata": {},
      "source": [
        "\n"
      ]
    },
    {
      "cell_type": "markdown",
      "metadata": {},
      "source": [
        "### \u25b6 Evaluation time discrepancy\n",
        "1\\.\n"
      ]
    },
    {
      "cell_type": "code",
      "execution_count": null,
      "metadata": {
        "collapsed": true
      },
      "outputs": [
        {
          "data": {
            "text/plain": []
          },
          "output_type": "execute_result",
          "metadata": {},
          "execution_count": null
        }
      ],
      "source": [
        "array = [1, 8, 15]\n",
        "# A typical generator expression\n",
        "gen = (x for x in array if array.count(x) > 0)\n",
        "array = [2, 8, 22]\n"
      ]
    },
    {
      "cell_type": "markdown",
      "metadata": {},
      "source": [
        "\n",
        "**Output:**\n",
        "\n"
      ]
    },
    {
      "cell_type": "code",
      "metadata": {
        "collapsed": true
      },
      "execution_count": null,
      "outputs": [
        {
          "name": "stdout",
          "output_type": "stream",
          "text": [
            "[8]\n"
          ]
        }
      ],
      "source": [
        "print(list(gen)) # Where did the other values go?\n"
      ]
    },
    {
      "cell_type": "markdown",
      "metadata": {},
      "source": [
        "\n",
        "2\\.\n",
        "\n"
      ]
    },
    {
      "cell_type": "code",
      "execution_count": null,
      "metadata": {
        "collapsed": true
      },
      "outputs": [
        {
          "data": {
            "text/plain": []
          },
          "output_type": "execute_result",
          "metadata": {},
          "execution_count": null
        }
      ],
      "source": [
        "array_1 = [1,2,3,4]\n",
        "gen_1 = (x for x in array_1)\n",
        "array_1 = [1,2,3,4,5]\n",
        "\n",
        "array_2 = [1,2,3,4]\n",
        "gen_2 = (x for x in array_2)\n",
        "array_2[:] = [1,2,3,4,5]\n"
      ]
    },
    {
      "cell_type": "markdown",
      "metadata": {},
      "source": [
        "\n",
        "**Output:**\n"
      ]
    },
    {
      "cell_type": "code",
      "metadata": {
        "collapsed": true
      },
      "execution_count": null,
      "outputs": [
        {
          "name": "stdout",
          "output_type": "stream",
          "text": [
            "[1, 2, 3, 4]\n",
            "\n"
          ]
        }
      ],
      "source": [
        "print(list(gen_1))\n"
      ]
    },
    {
      "cell_type": "code",
      "metadata": {
        "collapsed": true
      },
      "execution_count": null,
      "outputs": [
        {
          "name": "stdout",
          "output_type": "stream",
          "text": [
            "[1, 2, 3, 4, 5]\n"
          ]
        }
      ],
      "source": [
        "print(list(gen_2))\n"
      ]
    },
    {
      "cell_type": "markdown",
      "metadata": {},
      "source": [
        "\n",
        "3\\.\n",
        "\n"
      ]
    },
    {
      "cell_type": "code",
      "execution_count": null,
      "metadata": {
        "collapsed": true
      },
      "outputs": [
        {
          "data": {
            "text/plain": []
          },
          "output_type": "execute_result",
          "metadata": {},
          "execution_count": null
        }
      ],
      "source": [
        "array_3 = [1, 2, 3]\n",
        "array_4 = [10, 20, 30]\n",
        "gen = (i + j for i in array_3 for j in array_4)\n",
        "\n",
        "array_3 = [4, 5, 6]\n",
        "array_4 = [400, 500, 600]\n"
      ]
    },
    {
      "cell_type": "markdown",
      "metadata": {},
      "source": [
        "\n",
        "**Output:**\n"
      ]
    },
    {
      "cell_type": "code",
      "metadata": {
        "collapsed": true
      },
      "execution_count": null,
      "outputs": [
        {
          "name": "stdout",
          "output_type": "stream",
          "text": [
            "[401, 501, 601, 402, 502, 602, 403, 503, 603]\n"
          ]
        }
      ],
      "source": [
        "print(list(gen))\n"
      ]
    },
    {
      "cell_type": "markdown",
      "metadata": {},
      "source": [
        "\n"
      ]
    },
    {
      "cell_type": "markdown",
      "metadata": {},
      "source": [
        "#### \ud83d\udca1 Explanation\n",
        "\n",
        "- In a [generator](https://wiki.python.org/moin/Generators) expression, the `in` clause is evaluated at declaration time, but the conditional clause is evaluated at runtime.\n",
        "- So before runtime, `array` is re-assigned to the list `[2, 8, 22]`, and since out of `1`, `8` and `15`, only the count of `8` is greater than `0`, the generator only yields `8`.\n",
        "- The differences in the output of `g1` and `g2` in the second part is due the way variables `array_1` and `array_2` are re-assigned values.\n",
        "- In the first case, `array_1` is binded to the new object `[1,2,3,4,5]` and since the `in` clause is evaluated at the declaration time it still refers to the old object `[1,2,3,4]` (which is not destroyed).\n",
        "- In the second case, the slice assignment to `array_2` updates the same old object `[1,2,3,4]` to `[1,2,3,4,5]`. Hence both the `g2` and `array_2` still have reference to the same object (which has now been updated to `[1,2,3,4,5]`).\n",
        "- Okay, going by the logic discussed so far, shouldn't be the value of `list(g)` in the third snippet be `[11, 21, 31, 12, 22, 32, 13, 23, 33]`? (because `array_3` and `array_4` are going to behave just like `array_1`). The reason why (only) `array_4` values got updated is explained in [PEP-289](https://www.python.org/dev/peps/pep-0289/#the-details)\n",
        "  \n",
        "    > Only the outermost for-expression is evaluated immediately, the other expressions are deferred until the generator is run.\n",
        "\n"
      ]
    },
    {
      "cell_type": "markdown",
      "metadata": {},
      "source": [
        "### \u25b6 `is not ...` is not `is (not ...)`\n"
      ]
    },
    {
      "cell_type": "code",
      "execution_count": null,
      "metadata": {
        "collapsed": true
      },
      "outputs": [
        {
          "data": {
            "text/plain": [
              "True\n"
            ]
          },
          "output_type": "execute_result",
          "metadata": {},
          "execution_count": null
        }
      ],
      "source": [
        "'something' is not None\n"
      ]
    },
    {
      "cell_type": "code",
      "execution_count": null,
      "metadata": {
        "collapsed": true
      },
      "outputs": [
        {
          "data": {
            "text/plain": [
              "False\n"
            ]
          },
          "output_type": "execute_result",
          "metadata": {},
          "execution_count": null
        }
      ],
      "source": [
        "'something' is (not None)\n"
      ]
    },
    {
      "cell_type": "markdown",
      "metadata": {},
      "source": [
        "\n"
      ]
    },
    {
      "cell_type": "markdown",
      "metadata": {},
      "source": [
        "#### \ud83d\udca1 Explanation\n",
        "\n",
        "- `is not` is a single binary operator, and has behavior different than using `is` and `not` separated.\n",
        "- `is not` evaluates to `False` if the variables on either side of the operator point to the same object and `True` otherwise. \n",
        "- In the example, `(not None)` evaluates to `True` since the value `None` is `False` in a boolean context, so the expression becomes `'something' is True`.\n",
        "\n"
      ]
    },
    {
      "cell_type": "markdown",
      "metadata": {},
      "source": [
        "### \u25b6 A tic-tac-toe where X wins in the first attempt!\n"
      ]
    },
    {
      "cell_type": "code",
      "execution_count": null,
      "metadata": {
        "collapsed": true
      },
      "outputs": [
        {
          "data": {
            "text/plain": []
          },
          "output_type": "execute_result",
          "metadata": {},
          "execution_count": null
        }
      ],
      "source": [
        "# Let's initialize a row\n",
        "row = [\"\"] * 3 #row i['', '', '']\n",
        "# Let's make a board\n",
        "board = [row] * 3\n"
      ]
    },
    {
      "cell_type": "markdown",
      "metadata": {},
      "source": [
        "\n",
        "**Output:**\n",
        "\n"
      ]
    },
    {
      "cell_type": "code",
      "execution_count": null,
      "metadata": {
        "collapsed": true
      },
      "outputs": [
        {
          "data": {
            "text/plain": [
              "[['', '', ''], ['', '', ''], ['', '', '']]\n"
            ]
          },
          "output_type": "execute_result",
          "metadata": {},
          "execution_count": null
        }
      ],
      "source": [
        "board\n"
      ]
    },
    {
      "cell_type": "code",
      "execution_count": null,
      "metadata": {
        "collapsed": true
      },
      "outputs": [
        {
          "data": {
            "text/plain": [
              "['', '', '']\n"
            ]
          },
          "output_type": "execute_result",
          "metadata": {},
          "execution_count": null
        }
      ],
      "source": [
        "board[0]\n"
      ]
    },
    {
      "cell_type": "code",
      "execution_count": null,
      "metadata": {
        "collapsed": true
      },
      "outputs": [
        {
          "data": {
            "text/plain": [
              "''\n"
            ]
          },
          "output_type": "execute_result",
          "metadata": {},
          "execution_count": null
        }
      ],
      "source": [
        "board[0][0]\n"
      ]
    },
    {
      "cell_type": "code",
      "execution_count": null,
      "metadata": {
        "collapsed": true
      },
      "outputs": [
        {
          "data": {
            "text/plain": [
              "[['X', '', ''], ['X', '', ''], ['X', '', '']]\n"
            ]
          },
          "output_type": "execute_result",
          "metadata": {},
          "execution_count": null
        }
      ],
      "source": [
        "board[0][0] = \"X\"\n",
        "board\n"
      ]
    },
    {
      "cell_type": "markdown",
      "metadata": {},
      "source": [
        "\n",
        "We didn't assign three `\"X\"`s, did we?\n",
        "\n"
      ]
    },
    {
      "cell_type": "markdown",
      "metadata": {},
      "source": [
        "#### \ud83d\udca1 Explanation:\n",
        "\n",
        "When we initialize `row` variable, this visualization explains what happens in the memory\n",
        "\n",
        "<img src=\"https://raw.githubusercontent.com/satwikkansal/wtfpython/refs/heads/master/images/tic-tac-toe/after_row_initialized.svg\" alt=\"Shows a memory segment after row is initialized.\" style=\"display=block; margin:auto\">\n",
        "\n",
        "And when the `board` is initialized by multiplying the `row`, this is what happens inside the memory (each of the elements `board[0]`, `board[1]` and `board[2]` is a reference to the same list referred by `row`)\n",
        "\n",
        "<img src=\"https://raw.githubusercontent.com/satwikkansal/wtfpython/refs/heads/master/images/tic-tac-toe/after_board_initialized.svg\" alt=\"Shows a memory segment after board is initialized.\" style=\"display=block; margin:auto\">\n",
        "\n",
        "We can avoid this scenario here by not using `row` variable to generate `board`. (Asked in [this](https://github.com/satwikkansal/wtfpython/issues/68) issue).\n",
        "\n"
      ]
    },
    {
      "cell_type": "code",
      "execution_count": null,
      "metadata": {
        "collapsed": true
      },
      "outputs": [
        {
          "data": {
            "text/plain": [
              "[['X', '', ''], ['', '', ''], ['', '', '']]\n"
            ]
          },
          "output_type": "execute_result",
          "metadata": {},
          "execution_count": null
        }
      ],
      "source": [
        "board = [['']*3 for _ in range(3)]\n",
        "board[0][0] = \"X\"\n",
        "board\n"
      ]
    },
    {
      "cell_type": "markdown",
      "metadata": {},
      "source": [
        "\n"
      ]
    },
    {
      "cell_type": "markdown",
      "metadata": {},
      "source": [
        "### \u25b6 Schr\u00f6dinger's variable *\n"
      ]
    },
    {
      "cell_type": "code",
      "execution_count": null,
      "metadata": {
        "collapsed": true
      },
      "outputs": [
        {
          "data": {
            "text/plain": []
          },
          "output_type": "execute_result",
          "metadata": {},
          "execution_count": null
        }
      ],
      "source": [
        "funcs = []\n",
        "results = []\n",
        "for x in range(7):\n",
        "    def some_func():\n",
        "        return x\n",
        "    funcs.append(some_func)\n",
        "    results.append(some_func())  # note the function call here\n",
        "\n",
        "funcs_results = [func() for func in funcs]\n"
      ]
    },
    {
      "cell_type": "markdown",
      "metadata": {},
      "source": [
        "\n",
        "**Output (Python version):**\n"
      ]
    },
    {
      "cell_type": "code",
      "execution_count": null,
      "metadata": {
        "collapsed": true
      },
      "outputs": [
        {
          "data": {
            "text/plain": [
              "[0, 1, 2, 3, 4, 5, 6]\n"
            ]
          },
          "output_type": "execute_result",
          "metadata": {},
          "execution_count": null
        }
      ],
      "source": [
        "results\n"
      ]
    },
    {
      "cell_type": "code",
      "execution_count": null,
      "metadata": {
        "collapsed": true
      },
      "outputs": [
        {
          "data": {
            "text/plain": [
              "[6, 6, 6, 6, 6, 6, 6]\n"
            ]
          },
          "output_type": "execute_result",
          "metadata": {},
          "execution_count": null
        }
      ],
      "source": [
        "funcs_results\n"
      ]
    },
    {
      "cell_type": "markdown",
      "metadata": {},
      "source": [
        "\n",
        "The values of `x` were different in every iteration prior to appending `some_func` to `funcs`, but all the functions return 6 when they're evaluated after the loop completes.\n",
        "\n",
        "2.\n",
        "\n"
      ]
    },
    {
      "cell_type": "code",
      "execution_count": null,
      "metadata": {
        "collapsed": true
      },
      "outputs": [
        {
          "data": {
            "text/plain": [
              "[512, 512, 512, 512, 512, 512, 512, 512, 512, 512]\n"
            ]
          },
          "output_type": "execute_result",
          "metadata": {},
          "execution_count": null
        }
      ],
      "source": [
        "powers_of_x = [lambda x: x**i for i in range(10)]\n",
        "[f(2) for f in powers_of_x]\n"
      ]
    },
    {
      "cell_type": "markdown",
      "metadata": {},
      "source": [
        "\n"
      ]
    },
    {
      "cell_type": "markdown",
      "metadata": {},
      "source": [
        "#### \ud83d\udca1 Explanation:\n",
        "* When defining a function inside a loop that uses the loop variable in its body, the loop function's closure is bound to the *variable*, not its *value*. The function looks up `x` in the surrounding context, rather than using the value of `x` at the time the function is created. So all of the functions use the latest value assigned to the variable for computation. We can see that it's using the `x` from the surrounding context (i.e. *not* a local variable) with:\n"
      ]
    },
    {
      "cell_type": "code",
      "execution_count": null,
      "metadata": {
        "collapsed": true
      },
      "outputs": [
        {
          "data": {
            "text/plain": [
              "ClosureVars(nonlocals={}, globals={'x': 6}, builtins={}, unbound=set())\n"
            ]
          },
          "output_type": "execute_result",
          "metadata": {},
          "execution_count": null
        }
      ],
      "source": [
        "import inspect\n",
        "inspect.getclosurevals(funcs[0])\n"
      ]
    },
    {
      "cell_type": "markdown",
      "metadata": {},
      "source": [
        "Since `x` is a global value, we can change the value that the `funcs` will lookup and return by updating `x`:\n",
        "\n"
      ]
    },
    {
      "cell_type": "code",
      "execution_count": null,
      "metadata": {
        "collapsed": true
      },
      "outputs": [
        {
          "data": {
            "text/plain": [
              "[42, 42, 42, 42, 42, 42, 42]\n"
            ]
          },
          "output_type": "execute_result",
          "metadata": {},
          "execution_count": null
        }
      ],
      "source": [
        "x = 42\n",
        "[func() for func in funcs]\n"
      ]
    },
    {
      "cell_type": "markdown",
      "metadata": {},
      "source": [
        "\n",
        "* To get the desired behavior you can pass in the loop variable as a named variable to the function. **Why does this work?** Because this will define the variable *inside* the function's scope. It will no longer go to the surrounding (global) scope to look up the variables value but will create a local variable that stores the value of `x` at that point in time.\n",
        "\n"
      ]
    },
    {
      "cell_type": "code",
      "execution_count": null,
      "metadata": {
        "collapsed": true
      },
      "outputs": [
        {
          "data": {
            "text/plain": []
          },
          "output_type": "execute_result",
          "metadata": {},
          "execution_count": null
        }
      ],
      "source": [
        "funcs = []\n",
        "for x in range(7):\n",
        "    def some_func(x=x):\n",
        "        return x\n",
        "    funcs.append(some_func)\n"
      ]
    },
    {
      "cell_type": "markdown",
      "metadata": {},
      "source": [
        "\n",
        "**Output:**\n",
        "\n"
      ]
    },
    {
      "cell_type": "code",
      "execution_count": null,
      "metadata": {
        "collapsed": true
      },
      "outputs": [
        {
          "data": {
            "text/plain": [
              "[0, 1, 2, 3, 4, 5, 6]\n"
            ]
          },
          "output_type": "execute_result",
          "metadata": {},
          "execution_count": null
        }
      ],
      "source": [
        "funcs_results = [func() for func in funcs]\n",
        "funcs_results\n"
      ]
    },
    {
      "cell_type": "markdown",
      "metadata": {},
      "source": [
        "\n",
        "It is not longer using the `x` in the global scope:\n",
        "\n"
      ]
    },
    {
      "cell_type": "code",
      "execution_count": null,
      "metadata": {
        "collapsed": true
      },
      "outputs": [
        {
          "data": {
            "text/plain": [
              "ClosureVars(nonlocals={}, globals={}, builtins={}, unbound=set())\n"
            ]
          },
          "output_type": "execute_result",
          "metadata": {},
          "execution_count": null
        }
      ],
      "source": [
        "inspect.getclosurevars(funcs[0])\n"
      ]
    },
    {
      "cell_type": "markdown",
      "metadata": {},
      "source": [
        "\n"
      ]
    },
    {
      "cell_type": "markdown",
      "metadata": {},
      "source": [
        "### \u25b6 The chicken-egg problem *\n",
        "1\\.\n"
      ]
    },
    {
      "cell_type": "code",
      "execution_count": null,
      "metadata": {
        "collapsed": true
      },
      "outputs": [
        {
          "data": {
            "text/plain": [
              "True\n"
            ]
          },
          "output_type": "execute_result",
          "metadata": {},
          "execution_count": null
        }
      ],
      "source": [
        "isinstance(3, int)\n"
      ]
    },
    {
      "cell_type": "code",
      "execution_count": null,
      "metadata": {
        "collapsed": true
      },
      "outputs": [
        {
          "data": {
            "text/plain": [
              "True\n"
            ]
          },
          "output_type": "execute_result",
          "metadata": {},
          "execution_count": null
        }
      ],
      "source": [
        "isinstance(type, object)\n"
      ]
    },
    {
      "cell_type": "code",
      "execution_count": null,
      "metadata": {
        "collapsed": true
      },
      "outputs": [
        {
          "data": {
            "text/plain": [
              "True\n"
            ]
          },
          "output_type": "execute_result",
          "metadata": {},
          "execution_count": null
        }
      ],
      "source": [
        "isinstance(object, type)\n"
      ]
    },
    {
      "cell_type": "markdown",
      "metadata": {},
      "source": [
        "\n",
        "So which is the \"ultimate\" base class? There's more to the confusion by the way,\n",
        "\n",
        "2\\. \n",
        "\n"
      ]
    },
    {
      "cell_type": "code",
      "execution_count": null,
      "metadata": {
        "collapsed": true
      },
      "outputs": [
        {
          "data": {
            "text/plain": [
              "False\n"
            ]
          },
          "output_type": "execute_result",
          "metadata": {},
          "execution_count": null
        }
      ],
      "source": [
        "class A: pass\n",
        "isinstance(A, A)\n"
      ]
    },
    {
      "cell_type": "code",
      "execution_count": null,
      "metadata": {
        "collapsed": true
      },
      "outputs": [
        {
          "data": {
            "text/plain": [
              "True\n"
            ]
          },
          "output_type": "execute_result",
          "metadata": {},
          "execution_count": null
        }
      ],
      "source": [
        "isinstance(type, type)\n"
      ]
    },
    {
      "cell_type": "code",
      "execution_count": null,
      "metadata": {
        "collapsed": true
      },
      "outputs": [
        {
          "data": {
            "text/plain": [
              "True\n"
            ]
          },
          "output_type": "execute_result",
          "metadata": {},
          "execution_count": null
        }
      ],
      "source": [
        "isinstance(object, object)\n"
      ]
    },
    {
      "cell_type": "markdown",
      "metadata": {},
      "source": [
        "\n",
        "3\\.\n",
        "\n"
      ]
    },
    {
      "cell_type": "code",
      "execution_count": null,
      "metadata": {
        "collapsed": true
      },
      "outputs": [
        {
          "data": {
            "text/plain": [
              "True\n"
            ]
          },
          "output_type": "execute_result",
          "metadata": {},
          "execution_count": null
        }
      ],
      "source": [
        "issubclass(int, object)\n"
      ]
    },
    {
      "cell_type": "code",
      "execution_count": null,
      "metadata": {
        "collapsed": true
      },
      "outputs": [
        {
          "data": {
            "text/plain": [
              "True\n"
            ]
          },
          "output_type": "execute_result",
          "metadata": {},
          "execution_count": null
        }
      ],
      "source": [
        "issubclass(type, object)\n"
      ]
    },
    {
      "cell_type": "code",
      "execution_count": null,
      "metadata": {
        "collapsed": true
      },
      "outputs": [
        {
          "data": {
            "text/plain": [
              "False\n"
            ]
          },
          "output_type": "execute_result",
          "metadata": {},
          "execution_count": null
        }
      ],
      "source": [
        "issubclass(object, type)\n"
      ]
    },
    {
      "cell_type": "markdown",
      "metadata": {},
      "source": [
        "\n",
        "\n"
      ]
    },
    {
      "cell_type": "markdown",
      "metadata": {},
      "source": [
        "#### \ud83d\udca1 Explanation\n",
        "\n",
        "- `type` is a [metaclass](https://realpython.com/python-metaclasses/) in Python.\n",
        "- **Everything** is an `object` in Python, which includes classes as well as their objects (instances).\n",
        "- class `type` is the metaclass of class `object`, and every class (including `type`) has inherited directly or indirectly from `object`.\n",
        "- There is no real base class among `object` and `type`. The confusion in the above snippets is arising because we're thinking about these relationships (`issubclass` and `isinstance`) in terms of Python classes. The relationship between `object` and `type` can't be reproduced in pure python. To be more precise the following relationships can't be reproduced in pure Python,\n",
        "    + class A is an instance of class B, and class B is an instance of class A.\n",
        "    + class A is an instance of itself.\n",
        "- These relationships between `object` and `type` (both being instances of each other as well as themselves) exist in Python because of \"cheating\" at the implementation level.\n",
        "\n"
      ]
    },
    {
      "cell_type": "markdown",
      "metadata": {},
      "source": [
        "### \u25b6 Subclass relationships\n",
        "**Output:**\n"
      ]
    },
    {
      "cell_type": "code",
      "execution_count": null,
      "metadata": {
        "collapsed": true
      },
      "outputs": [
        {
          "data": {
            "text/plain": [
              "True\n"
            ]
          },
          "output_type": "execute_result",
          "metadata": {},
          "execution_count": null
        }
      ],
      "source": [
        "from collections import Hashable\n",
        "issubclass(list, object)\n"
      ]
    },
    {
      "cell_type": "code",
      "execution_count": null,
      "metadata": {
        "collapsed": true
      },
      "outputs": [
        {
          "data": {
            "text/plain": [
              "True\n"
            ]
          },
          "output_type": "execute_result",
          "metadata": {},
          "execution_count": null
        }
      ],
      "source": [
        "issubclass(object, Hashable)\n"
      ]
    },
    {
      "cell_type": "code",
      "execution_count": null,
      "metadata": {
        "collapsed": true
      },
      "outputs": [
        {
          "data": {
            "text/plain": [
              "False\n"
            ]
          },
          "output_type": "execute_result",
          "metadata": {},
          "execution_count": null
        }
      ],
      "source": [
        "issubclass(list, Hashable)\n"
      ]
    },
    {
      "cell_type": "markdown",
      "metadata": {},
      "source": [
        "\n",
        "The Subclass relationships were expected to be transitive, right? (i.e., if `A` is a subclass of `B`, and `B` is a subclass of `C`, the `A` _should_ a subclass of `C`)\n",
        "\n"
      ]
    },
    {
      "cell_type": "markdown",
      "metadata": {},
      "source": [
        "#### \ud83d\udca1 Explanation:\n",
        "\n",
        "* Subclass relationships are not necessarily transitive in Python. Anyone is allowed to define their own, arbitrary `__subclasscheck__` in a metaclass.\n",
        "* When `issubclass(cls, Hashable)` is called, it simply looks for non-Falsey \"`__hash__`\" method in `cls` or anything it inherits from.\n",
        "* Since `object` is hashable, but `list` is non-hashable, it breaks the transitivity relation.\n",
        "* More detailed explanation can be found [here](https://www.naftaliharris.com/blog/python-subclass-intransitivity/).\n",
        "\n"
      ]
    },
    {
      "cell_type": "markdown",
      "metadata": {},
      "source": [
        "### \u25b6 Methods equality and identity\n",
        "1.\n"
      ]
    },
    {
      "cell_type": "code",
      "execution_count": null,
      "metadata": {
        "collapsed": true
      },
      "outputs": [
        {
          "data": {
            "text/plain": []
          },
          "output_type": "execute_result",
          "metadata": {},
          "execution_count": null
        }
      ],
      "source": [
        "class SomeClass:\n",
        "    def method(self):\n",
        "        pass\n",
        "\n",
        "    @classmethod\n",
        "    def classm(cls):\n",
        "        pass\n",
        "\n",
        "    @staticmethod\n",
        "    def staticm():\n",
        "        pass\n"
      ]
    },
    {
      "cell_type": "markdown",
      "metadata": {},
      "source": [
        "\n",
        "**Output:**\n"
      ]
    },
    {
      "cell_type": "code",
      "metadata": {
        "collapsed": true
      },
      "execution_count": null,
      "outputs": [
        {
          "name": "stdout",
          "output_type": "stream",
          "text": [
            "True\n"
          ]
        }
      ],
      "source": [
        "print(SomeClass.method is SomeClass.method)\n"
      ]
    },
    {
      "cell_type": "code",
      "metadata": {
        "collapsed": true
      },
      "execution_count": null,
      "outputs": [
        {
          "name": "stdout",
          "output_type": "stream",
          "text": [
            "False\n"
          ]
        }
      ],
      "source": [
        "print(SomeClass.classm is SomeClass.classm)\n"
      ]
    },
    {
      "cell_type": "code",
      "metadata": {
        "collapsed": true
      },
      "execution_count": null,
      "outputs": [
        {
          "name": "stdout",
          "output_type": "stream",
          "text": [
            "True\n"
          ]
        }
      ],
      "source": [
        "print(SomeClass.classm == SomeClass.classm)\n"
      ]
    },
    {
      "cell_type": "code",
      "metadata": {
        "collapsed": true
      },
      "execution_count": null,
      "outputs": [
        {
          "name": "stdout",
          "output_type": "stream",
          "text": [
            "True\n"
          ]
        }
      ],
      "source": [
        "print(SomeClass.staticm is SomeClass.staticm)\n"
      ]
    },
    {
      "cell_type": "markdown",
      "metadata": {},
      "source": [
        "\n",
        "Accessing `classm` twice, we get an equal object, but not the *same* one? Let's see what happens\n",
        "with instances of `SomeClass`:\n",
        "\n",
        "2.\n"
      ]
    },
    {
      "cell_type": "code",
      "execution_count": null,
      "metadata": {
        "collapsed": true
      },
      "outputs": [
        {
          "data": {
            "text/plain": []
          },
          "output_type": "execute_result",
          "metadata": {},
          "execution_count": null
        }
      ],
      "source": [
        "o1 = SomeClass()\n",
        "o2 = SomeClass()\n"
      ]
    },
    {
      "cell_type": "markdown",
      "metadata": {},
      "source": [
        "\n",
        "**Output:**\n"
      ]
    },
    {
      "cell_type": "code",
      "metadata": {
        "collapsed": true
      },
      "execution_count": null,
      "outputs": [
        {
          "name": "stdout",
          "output_type": "stream",
          "text": [
            "False\n"
          ]
        }
      ],
      "source": [
        "print(o1.method == o2.method)\n"
      ]
    },
    {
      "cell_type": "code",
      "metadata": {
        "collapsed": true
      },
      "execution_count": null,
      "outputs": [
        {
          "name": "stdout",
          "output_type": "stream",
          "text": [
            "True\n"
          ]
        }
      ],
      "source": [
        "print(o1.method == o1.method)\n"
      ]
    },
    {
      "cell_type": "code",
      "metadata": {
        "collapsed": true
      },
      "execution_count": null,
      "outputs": [
        {
          "name": "stdout",
          "output_type": "stream",
          "text": [
            "False\n"
          ]
        }
      ],
      "source": [
        "print(o1.method is o1.method)\n"
      ]
    },
    {
      "cell_type": "code",
      "metadata": {
        "collapsed": true
      },
      "execution_count": null,
      "outputs": [
        {
          "name": "stdout",
          "output_type": "stream",
          "text": [
            "False\n"
          ]
        }
      ],
      "source": [
        "print(o1.classm is o1.classm)\n"
      ]
    },
    {
      "cell_type": "code",
      "metadata": {
        "collapsed": true
      },
      "execution_count": null,
      "outputs": [
        {
          "name": "stdout",
          "output_type": "stream",
          "text": [
            "True\n"
          ]
        }
      ],
      "source": [
        "print(o1.classm == o1.classm == o2.classm == SomeClass.classm)\n"
      ]
    },
    {
      "cell_type": "code",
      "metadata": {
        "collapsed": true
      },
      "execution_count": null,
      "outputs": [
        {
          "name": "stdout",
          "output_type": "stream",
          "text": [
            "True\n"
          ]
        }
      ],
      "source": [
        "print(o1.staticm is o1.staticm is o2.staticm is SomeClass.staticm)\n"
      ]
    },
    {
      "cell_type": "markdown",
      "metadata": {},
      "source": [
        "\n",
        "Accessing` classm` or `method` twice, creates equal but not *same* objects for the same instance of `SomeClass`.\n",
        "\n"
      ]
    },
    {
      "cell_type": "markdown",
      "metadata": {},
      "source": [
        "#### \ud83d\udca1 Explanation\n",
        "* Functions are [descriptors](https://docs.python.org/3/howto/descriptor.html). Whenever a function is accessed as an\n",
        "attribute, the descriptor is invoked, creating a method object which \"binds\" the function with the object owning the\n",
        "attribute. If called, the method calls the function, implicitly passing the bound object as the first argument\n",
        "(this is how we get `self` as the first argument, despite not passing it explicitly).\n"
      ]
    },
    {
      "cell_type": "code",
      "execution_count": null,
      "metadata": {
        "collapsed": true
      },
      "outputs": [
        {
          "data": {
            "text/plain": [
              "<bound method SomeClass.method of <__main__.SomeClass object at ...>>\n"
            ]
          },
          "output_type": "execute_result",
          "metadata": {},
          "execution_count": null
        }
      ],
      "source": [
        "o1.method\n"
      ]
    },
    {
      "cell_type": "markdown",
      "metadata": {},
      "source": [
        "* Accessing the attribute multiple times creates a method object every time! Therefore `o1.method is o1.method` is\n",
        "never truthy. Accessing functions as class attributes (as opposed to instance) does not create methods, however; so\n",
        "`SomeClass.method is SomeClass.method` is truthy.\n"
      ]
    },
    {
      "cell_type": "code",
      "execution_count": null,
      "metadata": {
        "collapsed": true
      },
      "outputs": [
        {
          "data": {
            "text/plain": [
              "<function SomeClass.method at ...>\n"
            ]
          },
          "output_type": "execute_result",
          "metadata": {},
          "execution_count": null
        }
      ],
      "source": [
        "SomeClass.method\n"
      ]
    },
    {
      "cell_type": "markdown",
      "metadata": {},
      "source": [
        "* `classmethod` transforms functions into class methods. Class methods are descriptors that, when accessed, create\n",
        "a method object which binds the *class* (type) of the object, instead of the object itself.\n"
      ]
    },
    {
      "cell_type": "code",
      "execution_count": null,
      "metadata": {
        "collapsed": true
      },
      "outputs": [
        {
          "data": {
            "text/plain": [
              "<bound method SomeClass.classm of <class '__main__.SomeClass'>>\n"
            ]
          },
          "output_type": "execute_result",
          "metadata": {},
          "execution_count": null
        }
      ],
      "source": [
        "o1.classm\n"
      ]
    },
    {
      "cell_type": "markdown",
      "metadata": {},
      "source": [
        "* Unlike functions, `classmethod`s will create a method also when accessed as class attributes (in which case they\n",
        "bind the class, not to the type of it). So `SomeClass.classm is SomeClass.classm` is falsy.\n"
      ]
    },
    {
      "cell_type": "code",
      "execution_count": null,
      "metadata": {
        "collapsed": true
      },
      "outputs": [
        {
          "data": {
            "text/plain": [
              "<bound method SomeClass.classm of <class '__main__.SomeClass'>>\n"
            ]
          },
          "output_type": "execute_result",
          "metadata": {},
          "execution_count": null
        }
      ],
      "source": [
        "SomeClass.classm\n"
      ]
    },
    {
      "cell_type": "markdown",
      "metadata": {},
      "source": [
        "* A method object compares equal when both the functions are equal, and the bound objects are the same. So\n",
        "`o1.method == o1.method` is truthy, although not the same object in memory.\n",
        "* `staticmethod` transforms functions into a \"no-op\" descriptor, which returns the function as-is. No method\n",
        "objects are ever created, so comparison with `is` is truthy.\n"
      ]
    },
    {
      "cell_type": "code",
      "execution_count": null,
      "metadata": {
        "collapsed": true
      },
      "outputs": [
        {
          "data": {
            "text/plain": [
              "<function SomeClass.staticm at ...>\n"
            ]
          },
          "output_type": "execute_result",
          "metadata": {},
          "execution_count": null
        }
      ],
      "source": [
        "o1.staticm\n"
      ]
    },
    {
      "cell_type": "code",
      "execution_count": null,
      "metadata": {
        "collapsed": true
      },
      "outputs": [
        {
          "data": {
            "text/plain": [
              "<function SomeClass.staticm at ...>\n"
            ]
          },
          "output_type": "execute_result",
          "metadata": {},
          "execution_count": null
        }
      ],
      "source": [
        "SomeClass.staticm\n"
      ]
    },
    {
      "cell_type": "markdown",
      "metadata": {},
      "source": [
        "* Having to create new \"method\" objects every time Python calls instance methods and having to modify the arguments\n",
        "every time in order to insert `self` affected performance badly.\n",
        "CPython 3.7 [solved it](https://bugs.python.org/issue26110) by introducing new opcodes that deal with calling methods\n",
        "without creating the temporary method objects. This is used only when the accessed function is actually called, so the\n",
        "snippets here are not affected, and still generate methods :)\n",
        "\n"
      ]
    },
    {
      "cell_type": "markdown",
      "metadata": {},
      "source": [
        "### \u25b6 All-true-ation *\n"
      ]
    },
    {
      "cell_type": "code",
      "execution_count": null,
      "metadata": {
        "collapsed": true
      },
      "outputs": [
        {
          "data": {
            "text/plain": [
              "True\n"
            ]
          },
          "output_type": "execute_result",
          "metadata": {},
          "execution_count": null
        }
      ],
      "source": [
        "all([True, True, True])\n"
      ]
    },
    {
      "cell_type": "code",
      "execution_count": null,
      "metadata": {
        "collapsed": true
      },
      "outputs": [
        {
          "data": {
            "text/plain": [
              "False\n",
              "\n"
            ]
          },
          "output_type": "execute_result",
          "metadata": {},
          "execution_count": null
        }
      ],
      "source": [
        "all([True, True, False])\n"
      ]
    },
    {
      "cell_type": "code",
      "execution_count": null,
      "metadata": {
        "collapsed": true
      },
      "outputs": [
        {
          "data": {
            "text/plain": [
              "True\n"
            ]
          },
          "output_type": "execute_result",
          "metadata": {},
          "execution_count": null
        }
      ],
      "source": [
        "all([])\n"
      ]
    },
    {
      "cell_type": "code",
      "execution_count": null,
      "metadata": {
        "collapsed": true
      },
      "outputs": [
        {
          "data": {
            "text/plain": [
              "False\n"
            ]
          },
          "output_type": "execute_result",
          "metadata": {},
          "execution_count": null
        }
      ],
      "source": [
        "all([[]])\n"
      ]
    },
    {
      "cell_type": "code",
      "execution_count": null,
      "metadata": {
        "collapsed": true
      },
      "outputs": [
        {
          "data": {
            "text/plain": [
              "True\n"
            ]
          },
          "output_type": "execute_result",
          "metadata": {},
          "execution_count": null
        }
      ],
      "source": [
        "all([[[]]])\n"
      ]
    },
    {
      "cell_type": "markdown",
      "metadata": {},
      "source": [
        "\n",
        "Why's this True-False alteration?\n",
        "\n"
      ]
    },
    {
      "cell_type": "markdown",
      "metadata": {},
      "source": [
        "#### \ud83d\udca1 Explanation:\n",
        "\n",
        "- The implementation of `all` function is equivalent to\n",
        "\n",
        "- ```py\n",
        "  def all(iterable):\n",
        "      for element in iterable:\n",
        "          if not element:\n",
        "              return False\n",
        "      return True\n",
        "  ```\n",
        "\n",
        "- `all([])` returns `True` since the iterable is empty. \n",
        "- `all([[]])` returns `False` because `not []` is `True` is equivalent to `not False` as the list inside the iterable is empty.\n",
        "- `all([[[]]])` and higher recursive variants are always `True` since `not [[]]`, `not [[[]]]`, and so on are equivalent to `not True`.\n",
        "\n"
      ]
    },
    {
      "cell_type": "markdown",
      "metadata": {},
      "source": [
        "### \u25b6 The surprising comma\n",
        "**Output (< 3.6):**\n",
        "\n"
      ]
    },
    {
      "cell_type": "code",
      "execution_count": null,
      "metadata": {
        "collapsed": true
      },
      "outputs": [
        {
          "data": {
            "text/plain": [
              "  File \"<stdin>\", line 1\n",
              "    def h(x, **kwargs,):\n",
              "                     ^\n",
              "SyntaxError: invalid syntax\n",
              "\n"
            ]
          },
          "output_type": "execute_result",
          "metadata": {},
          "execution_count": null
        }
      ],
      "source": [
        "def f(x, y,):\n",
        "     print(x, y)\n",
        "\n",
        "def g(x=4, y=5,):\n",
        "     print(x, y)\n",
        "\n",
        "def h(x, **kwargs,):\n"
      ]
    },
    {
      "cell_type": "code",
      "execution_count": null,
      "metadata": {
        "collapsed": true
      },
      "outputs": [
        {
          "data": {
            "text/plain": [
              "  File \"<stdin>\", line 1\n",
              "    def h(*args,):\n",
              "                ^\n",
              "SyntaxError: invalid syntax\n"
            ]
          },
          "output_type": "execute_result",
          "metadata": {},
          "execution_count": null
        }
      ],
      "source": [
        "def h(*args,):\n"
      ]
    },
    {
      "cell_type": "markdown",
      "metadata": {},
      "source": [
        "\n"
      ]
    },
    {
      "cell_type": "markdown",
      "metadata": {},
      "source": [
        "#### \ud83d\udca1 Explanation:\n",
        "\n",
        "- Trailing comma is not always legal in formal parameters list of a Python function.\n",
        "-  In Python, the argument list is defined partially with leading commas and partially with trailing commas. This conflict causes situations where a comma is trapped in the middle, and no rule accepts it.\n",
        "-  **Note:** The trailing comma problem is [fixed in Python 3.6](https://bugs.python.org/issue9232). The remarks in [this](https://bugs.python.org/issue9232#msg248399) post discuss in brief different usages of trailing commas in Python.\n",
        "\n"
      ]
    },
    {
      "cell_type": "markdown",
      "metadata": {},
      "source": [
        "### \u25b6 Strings and the backslashes\n",
        "**Output:**\n"
      ]
    },
    {
      "cell_type": "code",
      "metadata": {
        "collapsed": true
      },
      "execution_count": null,
      "outputs": [
        {
          "name": "stdout",
          "output_type": "stream",
          "text": [
            "\"\n",
            "\n"
          ]
        }
      ],
      "source": [
        "print(\"\\\"\")\n"
      ]
    },
    {
      "cell_type": "code",
      "metadata": {
        "collapsed": true
      },
      "execution_count": null,
      "outputs": [
        {
          "name": "stdout",
          "output_type": "stream",
          "text": [
            "\\\"\n",
            "\n"
          ]
        }
      ],
      "source": [
        "print(r\"\\\"\")\n"
      ]
    },
    {
      "cell_type": "code",
      "metadata": {
        "collapsed": true
      },
      "execution_count": null,
      "outputs": [
        {
          "name": "stdout",
          "output_type": "stream",
          "text": [
            "File \"<stdin>\", line 1\n",
            "    print(r\"\\\")\n",
            "              ^\n",
            "SyntaxError: EOL while scanning string literal\n",
            "\n"
          ]
        }
      ],
      "source": [
        "print(r\"\\\")\n"
      ]
    },
    {
      "cell_type": "code",
      "execution_count": null,
      "metadata": {
        "collapsed": true
      },
      "outputs": [
        {
          "data": {
            "text/plain": [
              "True\n"
            ]
          },
          "output_type": "execute_result",
          "metadata": {},
          "execution_count": null
        }
      ],
      "source": [
        "r'\\'' == \"\\\\'\"\n"
      ]
    },
    {
      "cell_type": "markdown",
      "metadata": {},
      "source": [
        "\n"
      ]
    },
    {
      "cell_type": "markdown",
      "metadata": {},
      "source": [
        "#### \ud83d\udca1 Explanation\n",
        "\n",
        "- In a usual python string, the backslash is used to escape characters that may have a special meaning (like single-quote, double-quote, and the backslash itself).\n"
      ]
    },
    {
      "cell_type": "code",
      "execution_count": null,
      "metadata": {
        "collapsed": true
      },
      "outputs": [
        {
          "data": {
            "text/plain": [
              "    'wt\"f'\n"
            ]
          },
          "output_type": "execute_result",
          "metadata": {},
          "execution_count": null
        }
      ],
      "source": [
        "    \"wt\\\"f\"\n"
      ]
    },
    {
      "cell_type": "markdown",
      "metadata": {},
      "source": [
        "- In a raw string literal (as indicated by the prefix `r`),  the backslashes pass themselves as is along with the behavior of escaping the following character.\n"
      ]
    },
    {
      "cell_type": "code",
      "execution_count": null,
      "metadata": {
        "collapsed": true
      },
      "outputs": [
        {
          "data": {
            "text/plain": [
              "    True\n"
            ]
          },
          "output_type": "execute_result",
          "metadata": {},
          "execution_count": null
        }
      ],
      "source": [
        "    r'wt\\\"f' == 'wt\\\\\"f'\n"
      ]
    },
    {
      "cell_type": "code",
      "execution_count": null,
      "metadata": {
        "collapsed": true
      },
      "outputs": [
        {
          "data": {
            "text/plain": [
              "    'wt\\\\\"f'\n",
              "\n"
            ]
          },
          "output_type": "execute_result",
          "metadata": {},
          "execution_count": null
        }
      ],
      "source": [
        "    print(repr(r'wt\\\"f')\n"
      ]
    },
    {
      "cell_type": "code",
      "execution_count": null,
      "metadata": {
        "collapsed": true
      },
      "outputs": [
        {
          "data": {
            "text/plain": [
              "\n"
            ]
          },
          "output_type": "execute_result",
          "metadata": {},
          "execution_count": null
        }
      ],
      "source": [
        "    print(\"\\n\")\n"
      ]
    },
    {
      "cell_type": "code",
      "execution_count": null,
      "metadata": {
        "collapsed": true
      },
      "outputs": [
        {
          "data": {
            "text/plain": [
              "    '\\\\n'\n"
            ]
          },
          "output_type": "execute_result",
          "metadata": {},
          "execution_count": null
        }
      ],
      "source": [
        "    print(r\"\\\\n\")\n"
      ]
    },
    {
      "cell_type": "markdown",
      "metadata": {},
      "source": [
        "- This means when a parser encounters a backslash in a raw string, it expects another character following it. And in our case (`print(r\"\\\")`), the backslash escaped the trailing quote, leaving the parser without a terminating quote (hence the `SyntaxError`). That's why backslashes don't work at the end of a raw string.\n",
        "\n"
      ]
    },
    {
      "cell_type": "markdown",
      "metadata": {},
      "source": [
        "### \u25b6 not knot!\n"
      ]
    },
    {
      "cell_type": "code",
      "execution_count": null,
      "metadata": {
        "collapsed": true
      },
      "outputs": [
        {
          "data": {
            "text/plain": []
          },
          "output_type": "execute_result",
          "metadata": {},
          "execution_count": null
        }
      ],
      "source": [
        "x = True\n",
        "y = False\n"
      ]
    },
    {
      "cell_type": "markdown",
      "metadata": {},
      "source": [
        "\n",
        "**Output:**\n"
      ]
    },
    {
      "cell_type": "code",
      "execution_count": null,
      "metadata": {
        "collapsed": true
      },
      "outputs": [
        {
          "data": {
            "text/plain": [
              "True\n"
            ]
          },
          "output_type": "execute_result",
          "metadata": {},
          "execution_count": null
        }
      ],
      "source": [
        "not x == y\n"
      ]
    },
    {
      "cell_type": "code",
      "execution_count": null,
      "metadata": {
        "collapsed": true
      },
      "outputs": [
        {
          "data": {
            "text/plain": [
              "  File \"<input>\", line 1\n",
              "    x == not y\n",
              "           ^\n",
              "SyntaxError: invalid syntax\n"
            ]
          },
          "output_type": "execute_result",
          "metadata": {},
          "execution_count": null
        }
      ],
      "source": [
        "x == not y\n"
      ]
    },
    {
      "cell_type": "markdown",
      "metadata": {},
      "source": [
        "\n"
      ]
    },
    {
      "cell_type": "markdown",
      "metadata": {},
      "source": [
        "#### \ud83d\udca1 Explanation:\n",
        "\n",
        "* Operator precedence affects how an expression is evaluated, and `==` operator has higher precedence than `not` operator in Python.\n",
        "* So `not x == y` is equivalent to `not (x == y)` which is equivalent to `not (True == False)` finally evaluating to `True`.\n",
        "* But `x == not y` raises a `SyntaxError` because it can be thought of being equivalent to `(x == not) y` and not `x == (not y)` which you might have expected at first sight.\n",
        "* The parser expected the `not` token to be a part of the `not in` operator (because both `==` and `not in` operators have the same precedence), but after not being able to find an `in` token following the `not` token, it raises a `SyntaxError`.\n",
        "\n"
      ]
    },
    {
      "cell_type": "markdown",
      "metadata": {},
      "source": [
        "### \u25b6 Half triple-quoted strings\n",
        "**Output:**\n"
      ]
    },
    {
      "cell_type": "code",
      "metadata": {
        "collapsed": true
      },
      "execution_count": null,
      "outputs": [
        {
          "name": "stdout",
          "output_type": "stream",
          "text": [
            "wtfpython\n"
          ]
        }
      ],
      "source": [
        "print('wtfpython''')\n"
      ]
    },
    {
      "cell_type": "code",
      "metadata": {
        "collapsed": true
      },
      "execution_count": null,
      "outputs": [
        {
          "name": "stdout",
          "output_type": "stream",
          "text": [
            "wtfpython\n"
          ]
        }
      ],
      "source": [
        "print(\"wtfpython\"\"\")\n"
      ]
    },
    {
      "cell_type": "code",
      "execution_count": null,
      "metadata": {
        "collapsed": true
      },
      "outputs": [
        {
          "data": {
            "text/plain": [
              "  File \"<input>\", line 3\n",
              "    print(\"\"\"wtfpython\")\n",
              "                        ^\n",
              "SyntaxError: EOF while scanning triple-quoted string literal\n"
            ]
          },
          "output_type": "execute_result",
          "metadata": {},
          "execution_count": null
        }
      ],
      "source": [
        "# The following statements raise `SyntaxError`\n",
        "# print('''wtfpython')\n",
        "# print(\"\"\"wtfpython\")\n"
      ]
    },
    {
      "cell_type": "markdown",
      "metadata": {},
      "source": [
        "\n"
      ]
    },
    {
      "cell_type": "markdown",
      "metadata": {},
      "source": [
        "#### \ud83d\udca1 Explanation:\n",
        "+ Python supports implicit [string literal concatenation](https://docs.python.org/3/reference/lexical_analysis.html#string-literal-concatenation), Example,\n",
        "  ```\n",
        "  >>> print(\"wtf\" \"python\")\n",
        "  wtfpython\n",
        "  >>> print(\"wtf\" \"\") # or \"wtf\"\"\"\n",
        "  wtf\n",
        "  ```\n",
        "+ `'''` and `\"\"\"` are also string delimiters in Python which causes a SyntaxError because the Python interpreter was expecting a terminating triple quote as delimiter while scanning the currently encountered triple quoted string literal.\n",
        "\n"
      ]
    },
    {
      "cell_type": "markdown",
      "metadata": {},
      "source": [
        "### \u25b6 What's wrong with booleans?\n",
        "1\\.\n",
        "\n"
      ]
    },
    {
      "cell_type": "code",
      "execution_count": null,
      "metadata": {
        "collapsed": true
      },
      "outputs": [
        {
          "data": {
            "text/plain": []
          },
          "output_type": "execute_result",
          "metadata": {},
          "execution_count": null
        }
      ],
      "source": [
        "# A simple example to count the number of booleans and\n",
        "# integers in an iterable of mixed data types.\n",
        "mixed_list = [False, 1.0, \"some_string\", 3, True, [], False]\n",
        "integers_found_so_far = 0\n",
        "booleans_found_so_far = 0\n",
        "\n",
        "for item in mixed_list:\n",
        "    if isinstance(item, int):\n",
        "        integers_found_so_far += 1\n",
        "    elif isinstance(item, bool):\n",
        "        booleans_found_so_far += 1\n"
      ]
    },
    {
      "cell_type": "markdown",
      "metadata": {},
      "source": [
        "\n",
        "**Output:**\n"
      ]
    },
    {
      "cell_type": "code",
      "execution_count": null,
      "metadata": {
        "collapsed": true
      },
      "outputs": [
        {
          "data": {
            "text/plain": [
              "4\n"
            ]
          },
          "output_type": "execute_result",
          "metadata": {},
          "execution_count": null
        }
      ],
      "source": [
        "integers_found_so_far\n"
      ]
    },
    {
      "cell_type": "code",
      "execution_count": null,
      "metadata": {
        "collapsed": true
      },
      "outputs": [
        {
          "data": {
            "text/plain": [
              "0\n"
            ]
          },
          "output_type": "execute_result",
          "metadata": {},
          "execution_count": null
        }
      ],
      "source": [
        "booleans_found_so_far\n"
      ]
    },
    {
      "cell_type": "markdown",
      "metadata": {},
      "source": [
        "\n",
        "\n",
        "2\\.\n"
      ]
    },
    {
      "cell_type": "code",
      "execution_count": null,
      "metadata": {
        "collapsed": true
      },
      "outputs": [
        {
          "data": {
            "text/plain": [
              "'wtf'\n"
            ]
          },
          "output_type": "execute_result",
          "metadata": {},
          "execution_count": null
        }
      ],
      "source": [
        "some_bool = True\n",
        "\"wtf\" * some_bool\n"
      ]
    },
    {
      "cell_type": "code",
      "execution_count": null,
      "metadata": {
        "collapsed": true
      },
      "outputs": [
        {
          "data": {
            "text/plain": [
              "''\n"
            ]
          },
          "output_type": "execute_result",
          "metadata": {},
          "execution_count": null
        }
      ],
      "source": [
        "some_bool = False\n",
        "\"wtf\" * some_bool\n"
      ]
    },
    {
      "cell_type": "markdown",
      "metadata": {},
      "source": [
        "\n",
        "3\\.\n",
        "\n"
      ]
    },
    {
      "cell_type": "code",
      "execution_count": null,
      "metadata": {
        "collapsed": true
      },
      "outputs": [
        {
          "data": {
            "text/plain": []
          },
          "output_type": "execute_result",
          "metadata": {},
          "execution_count": null
        }
      ],
      "source": [
        "def tell_truth():\n",
        "    True = False\n",
        "    if True == False:\n",
        "        print(\"I have lost faith in truth!\")\n"
      ]
    },
    {
      "cell_type": "markdown",
      "metadata": {},
      "source": [
        "\n",
        "**Output (< 3.x):**\n",
        "\n"
      ]
    },
    {
      "cell_type": "code",
      "execution_count": null,
      "metadata": {
        "collapsed": true
      },
      "outputs": [
        {
          "data": {
            "text/plain": [
              "I have lost faith in truth!\n"
            ]
          },
          "output_type": "execute_result",
          "metadata": {},
          "execution_count": null
        }
      ],
      "source": [
        "tell_truth()\n"
      ]
    },
    {
      "cell_type": "markdown",
      "metadata": {},
      "source": [
        "\n",
        "\n",
        "\n"
      ]
    },
    {
      "cell_type": "markdown",
      "metadata": {},
      "source": [
        "#### \ud83d\udca1 Explanation:\n",
        "\n",
        "* `bool` is a subclass of `int` in Python\n",
        "    \n"
      ]
    },
    {
      "cell_type": "code",
      "execution_count": null,
      "metadata": {
        "collapsed": true
      },
      "outputs": [
        {
          "data": {
            "text/plain": [
              "    True\n"
            ]
          },
          "output_type": "execute_result",
          "metadata": {},
          "execution_count": null
        }
      ],
      "source": [
        "    issubclass(bool, int)\n"
      ]
    },
    {
      "cell_type": "code",
      "execution_count": null,
      "metadata": {
        "collapsed": true
      },
      "outputs": [
        {
          "data": {
            "text/plain": [
              "    False\n"
            ]
          },
          "output_type": "execute_result",
          "metadata": {},
          "execution_count": null
        }
      ],
      "source": [
        "    issubclass(int, bool)\n"
      ]
    },
    {
      "cell_type": "markdown",
      "metadata": {},
      "source": [
        "    \n",
        "* And thus, `True` and `False` are instances of `int`\n"
      ]
    },
    {
      "cell_type": "code",
      "execution_count": null,
      "metadata": {
        "collapsed": true
      },
      "outputs": [
        {
          "data": {
            "text/plain": [
              "  True\n"
            ]
          },
          "output_type": "execute_result",
          "metadata": {},
          "execution_count": null
        }
      ],
      "source": [
        "  isinstance(True, int)\n"
      ]
    },
    {
      "cell_type": "code",
      "execution_count": null,
      "metadata": {
        "collapsed": true
      },
      "outputs": [
        {
          "data": {
            "text/plain": [
              "  True\n"
            ]
          },
          "output_type": "execute_result",
          "metadata": {},
          "execution_count": null
        }
      ],
      "source": [
        "  isinstance(False, int)\n"
      ]
    },
    {
      "cell_type": "markdown",
      "metadata": {},
      "source": [
        "\n",
        "* The integer value of `True` is `1` and that of `False` is `0`.\n"
      ]
    },
    {
      "cell_type": "code",
      "execution_count": null,
      "metadata": {
        "collapsed": true
      },
      "outputs": [
        {
          "data": {
            "text/plain": [
              "  1\n"
            ]
          },
          "output_type": "execute_result",
          "metadata": {},
          "execution_count": null
        }
      ],
      "source": [
        "  int(True)\n"
      ]
    },
    {
      "cell_type": "code",
      "execution_count": null,
      "metadata": {
        "collapsed": true
      },
      "outputs": [
        {
          "data": {
            "text/plain": [
              "  0\n"
            ]
          },
          "output_type": "execute_result",
          "metadata": {},
          "execution_count": null
        }
      ],
      "source": [
        "  int(False)\n"
      ]
    },
    {
      "cell_type": "markdown",
      "metadata": {},
      "source": [
        "\n",
        "* See this StackOverflow [answer](https://stackoverflow.com/a/8169049/4354153) for the rationale behind it.\n",
        "\n",
        "* Initially, Python used to have no `bool` type (people used 0 for false and non-zero value like 1 for true).  `True`, `False`, and a `bool` type was added in 2.x versions, but, for backward compatibility, `True` and `False` couldn't be made constants. They just were built-in variables, and it was possible to reassign them\n",
        "\n",
        "* Python 3 was backward-incompatible, the issue was finally fixed, and thus the last snippet won't work with Python 3.x!\n",
        "\n"
      ]
    },
    {
      "cell_type": "markdown",
      "metadata": {},
      "source": [
        "### \u25b6 Class attributes and instance attributes\n",
        "1\\.\n"
      ]
    },
    {
      "cell_type": "code",
      "execution_count": null,
      "metadata": {
        "collapsed": true
      },
      "outputs": [
        {
          "data": {
            "text/plain": []
          },
          "output_type": "execute_result",
          "metadata": {},
          "execution_count": null
        }
      ],
      "source": [
        "class A:\n",
        "    x = 1\n",
        "\n",
        "class B(A):\n",
        "    pass\n",
        "\n",
        "class C(A):\n",
        "    pass\n"
      ]
    },
    {
      "cell_type": "markdown",
      "metadata": {},
      "source": [
        "\n",
        "**Output:**\n"
      ]
    },
    {
      "cell_type": "code",
      "execution_count": null,
      "metadata": {
        "collapsed": true
      },
      "outputs": [
        {
          "data": {
            "text/plain": [
              "(1, 1, 1)\n"
            ]
          },
          "output_type": "execute_result",
          "metadata": {},
          "execution_count": null
        }
      ],
      "source": [
        "A.x, B.x, C.x\n"
      ]
    },
    {
      "cell_type": "code",
      "execution_count": null,
      "metadata": {
        "collapsed": true
      },
      "outputs": [
        {
          "data": {
            "text/plain": [
              "(1, 2, 1)\n"
            ]
          },
          "output_type": "execute_result",
          "metadata": {},
          "execution_count": null
        }
      ],
      "source": [
        "B.x = 2\n",
        "A.x, B.x, C.x\n"
      ]
    },
    {
      "cell_type": "code",
      "execution_count": null,
      "metadata": {
        "collapsed": true
      },
      "outputs": [
        {
          "data": {
            "text/plain": [
              "(3, 2, 3)\n"
            ]
          },
          "output_type": "execute_result",
          "metadata": {},
          "execution_count": null
        }
      ],
      "source": [
        "A.x = 3\n",
        "A.x, B.x, C.x # C.x changed, but B.x didn't\n"
      ]
    },
    {
      "cell_type": "code",
      "execution_count": null,
      "metadata": {
        "collapsed": true
      },
      "outputs": [
        {
          "data": {
            "text/plain": [
              "(3, 3)\n"
            ]
          },
          "output_type": "execute_result",
          "metadata": {},
          "execution_count": null
        }
      ],
      "source": [
        "a = A()\n",
        "a.x, A.x\n"
      ]
    },
    {
      "cell_type": "code",
      "execution_count": null,
      "metadata": {
        "collapsed": true
      },
      "outputs": [
        {
          "data": {
            "text/plain": [
              "(4, 3)\n"
            ]
          },
          "output_type": "execute_result",
          "metadata": {},
          "execution_count": null
        }
      ],
      "source": [
        "a.x += 1\n",
        "a.x, A.x\n"
      ]
    },
    {
      "cell_type": "markdown",
      "metadata": {},
      "source": [
        "\n",
        "2\\.\n"
      ]
    },
    {
      "cell_type": "code",
      "execution_count": null,
      "metadata": {
        "collapsed": true
      },
      "outputs": [
        {
          "data": {
            "text/plain": []
          },
          "output_type": "execute_result",
          "metadata": {},
          "execution_count": null
        }
      ],
      "source": [
        "class SomeClass:\n",
        "    some_var = 15\n",
        "    some_list = [5]\n",
        "    another_list = [5]\n",
        "    def __init__(self, x):\n",
        "        self.some_var = x + 1\n",
        "        self.some_list = self.some_list + [x]\n",
        "        self.another_list += [x]\n"
      ]
    },
    {
      "cell_type": "markdown",
      "metadata": {},
      "source": [
        "\n",
        "**Output:**\n",
        "\n"
      ]
    },
    {
      "cell_type": "code",
      "execution_count": null,
      "metadata": {
        "collapsed": true
      },
      "outputs": [
        {
          "data": {
            "text/plain": [
              "[5, 420]\n"
            ]
          },
          "output_type": "execute_result",
          "metadata": {},
          "execution_count": null
        }
      ],
      "source": [
        "some_obj = SomeClass(420)\n",
        "some_obj.some_list\n"
      ]
    },
    {
      "cell_type": "code",
      "execution_count": null,
      "metadata": {
        "collapsed": true
      },
      "outputs": [
        {
          "data": {
            "text/plain": [
              "[5, 420]\n"
            ]
          },
          "output_type": "execute_result",
          "metadata": {},
          "execution_count": null
        }
      ],
      "source": [
        "some_obj.another_list\n"
      ]
    },
    {
      "cell_type": "code",
      "execution_count": null,
      "metadata": {
        "collapsed": true
      },
      "outputs": [
        {
          "data": {
            "text/plain": [
              "[5, 111]\n"
            ]
          },
          "output_type": "execute_result",
          "metadata": {},
          "execution_count": null
        }
      ],
      "source": [
        "another_obj = SomeClass(111)\n",
        "another_obj.some_list\n"
      ]
    },
    {
      "cell_type": "code",
      "execution_count": null,
      "metadata": {
        "collapsed": true
      },
      "outputs": [
        {
          "data": {
            "text/plain": [
              "[5, 420, 111]\n"
            ]
          },
          "output_type": "execute_result",
          "metadata": {},
          "execution_count": null
        }
      ],
      "source": [
        "another_obj.another_list\n"
      ]
    },
    {
      "cell_type": "code",
      "execution_count": null,
      "metadata": {
        "collapsed": true
      },
      "outputs": [
        {
          "data": {
            "text/plain": [
              "True\n"
            ]
          },
          "output_type": "execute_result",
          "metadata": {},
          "execution_count": null
        }
      ],
      "source": [
        "another_obj.another_list is SomeClass.another_list\n"
      ]
    },
    {
      "cell_type": "code",
      "execution_count": null,
      "metadata": {
        "collapsed": true
      },
      "outputs": [
        {
          "data": {
            "text/plain": [
              "True\n"
            ]
          },
          "output_type": "execute_result",
          "metadata": {},
          "execution_count": null
        }
      ],
      "source": [
        "another_obj.another_list is some_obj.another_list\n"
      ]
    },
    {
      "cell_type": "markdown",
      "metadata": {},
      "source": [
        "\n"
      ]
    },
    {
      "cell_type": "markdown",
      "metadata": {},
      "source": [
        "#### \ud83d\udca1 Explanation:\n",
        "\n",
        "* Class variables and variables in class instances are internally handled as dictionaries of a class object. If a variable name is not found in the dictionary of the current class, the parent classes are searched for it.\n",
        "* The `+=` operator modifies the mutable object in-place without creating a new object. So changing the attribute of one instance affects the other instances and the class attribute as well.\n",
        "\n"
      ]
    },
    {
      "cell_type": "markdown",
      "metadata": {},
      "source": [
        "### \u25b6 yielding None\n"
      ]
    },
    {
      "cell_type": "code",
      "execution_count": null,
      "metadata": {
        "collapsed": true
      },
      "outputs": [
        {
          "data": {
            "text/plain": []
          },
          "output_type": "execute_result",
          "metadata": {},
          "execution_count": null
        }
      ],
      "source": [
        "some_iterable = ('a', 'b')\n",
        "\n",
        "def some_func(val):\n",
        "    return \"something\"\n"
      ]
    },
    {
      "cell_type": "markdown",
      "metadata": {},
      "source": [
        "\n",
        "**Output (<= 3.7.x):**\n",
        "\n"
      ]
    },
    {
      "cell_type": "code",
      "execution_count": null,
      "metadata": {
        "collapsed": true
      },
      "outputs": [
        {
          "data": {
            "text/plain": [
              "['a', 'b']\n"
            ]
          },
          "output_type": "execute_result",
          "metadata": {},
          "execution_count": null
        }
      ],
      "source": [
        "[x for x in some_iterable]\n"
      ]
    },
    {
      "cell_type": "code",
      "execution_count": null,
      "metadata": {
        "collapsed": true
      },
      "outputs": [
        {
          "data": {
            "text/plain": [
              "<generator object <listcomp> at 0x7f70b0a4ad58>\n"
            ]
          },
          "output_type": "execute_result",
          "metadata": {},
          "execution_count": null
        }
      ],
      "source": [
        "[(yield x) for x in some_iterable]\n"
      ]
    },
    {
      "cell_type": "code",
      "execution_count": null,
      "metadata": {
        "collapsed": true
      },
      "outputs": [
        {
          "data": {
            "text/plain": [
              "['a', 'b']\n"
            ]
          },
          "output_type": "execute_result",
          "metadata": {},
          "execution_count": null
        }
      ],
      "source": [
        "list([(yield x) for x in some_iterable])\n"
      ]
    },
    {
      "cell_type": "code",
      "execution_count": null,
      "metadata": {
        "collapsed": true
      },
      "outputs": [
        {
          "data": {
            "text/plain": [
              "['a', None, 'b', None]\n"
            ]
          },
          "output_type": "execute_result",
          "metadata": {},
          "execution_count": null
        }
      ],
      "source": [
        "list((yield x) for x in some_iterable)\n"
      ]
    },
    {
      "cell_type": "code",
      "execution_count": null,
      "metadata": {
        "collapsed": true
      },
      "outputs": [
        {
          "data": {
            "text/plain": [
              "['a', 'something', 'b', 'something']\n"
            ]
          },
          "output_type": "execute_result",
          "metadata": {},
          "execution_count": null
        }
      ],
      "source": [
        "list(some_func((yield x)) for x in some_iterable)\n"
      ]
    },
    {
      "cell_type": "markdown",
      "metadata": {},
      "source": [
        "\n"
      ]
    },
    {
      "cell_type": "markdown",
      "metadata": {},
      "source": [
        "#### \ud83d\udca1 Explanation:\n",
        "- This is a bug in CPython's handling of `yield` in generators and comprehensions.\n",
        "- Source and explanation can be found here: https://stackoverflow.com/questions/32139885/yield-in-list-comprehensions-and-generator-expressions\n",
        "- Related bug report: https://bugs.python.org/issue10544\n",
        "- Python 3.8+ no longer allows `yield` inside list comprehension and will throw a `SyntaxError`.\n",
        "\n"
      ]
    },
    {
      "cell_type": "markdown",
      "metadata": {},
      "source": [
        "### \u25b6 Yielding from... return! *\n",
        "1\\.\n",
        "\n"
      ]
    },
    {
      "cell_type": "code",
      "execution_count": null,
      "metadata": {
        "collapsed": true
      },
      "outputs": [
        {
          "data": {
            "text/plain": []
          },
          "output_type": "execute_result",
          "metadata": {},
          "execution_count": null
        }
      ],
      "source": [
        "def some_func(x):\n",
        "    if x == 3:\n",
        "        return [\"wtf\"]\n",
        "    else:\n",
        "        yield from range(x)\n"
      ]
    },
    {
      "cell_type": "markdown",
      "metadata": {},
      "source": [
        "\n",
        "**Output (> 3.3):**\n",
        "\n"
      ]
    },
    {
      "cell_type": "code",
      "execution_count": null,
      "metadata": {
        "collapsed": true
      },
      "outputs": [
        {
          "data": {
            "text/plain": [
              "[]\n"
            ]
          },
          "output_type": "execute_result",
          "metadata": {},
          "execution_count": null
        }
      ],
      "source": [
        "list(some_func(3))\n"
      ]
    },
    {
      "cell_type": "markdown",
      "metadata": {},
      "source": [
        "\n",
        "Where did the `\"wtf\"` go? Is it due to some special effect of `yield from`? Let's validate that,\n",
        "\n",
        "2\\.\n",
        "\n"
      ]
    },
    {
      "cell_type": "code",
      "execution_count": null,
      "metadata": {
        "collapsed": true
      },
      "outputs": [
        {
          "data": {
            "text/plain": []
          },
          "output_type": "execute_result",
          "metadata": {},
          "execution_count": null
        }
      ],
      "source": [
        "def some_func(x):\n",
        "    if x == 3:\n",
        "        return [\"wtf\"]\n",
        "    else:\n",
        "        for i in range(x):\n",
        "          yield i\n"
      ]
    },
    {
      "cell_type": "markdown",
      "metadata": {},
      "source": [
        "\n",
        "**Output:**\n",
        "\n"
      ]
    },
    {
      "cell_type": "code",
      "execution_count": null,
      "metadata": {
        "collapsed": true
      },
      "outputs": [
        {
          "data": {
            "text/plain": [
              "[]\n"
            ]
          },
          "output_type": "execute_result",
          "metadata": {},
          "execution_count": null
        }
      ],
      "source": [
        "list(some_func(3))\n"
      ]
    },
    {
      "cell_type": "markdown",
      "metadata": {},
      "source": [
        "\n",
        "The same result, this didn't work either.\n",
        "\n"
      ]
    },
    {
      "cell_type": "markdown",
      "metadata": {},
      "source": [
        "#### \ud83d\udca1 Explanation:\n",
        "\n",
        "+ From Python 3.3 onwards, it became possible to use `return` statement with values inside generators (See [PEP380](https://www.python.org/dev/peps/pep-0380/)). The [official docs](https://www.python.org/dev/peps/pep-0380/#enhancements-to-stopiteration) say that,\n",
        "\n",
        "> \"... `return expr` in a generator causes `StopIteration(expr)` to be raised upon exit from the generator.\"\n",
        "\n",
        "+ In the case of `some_func(3)`, `StopIteration` is raised at the beginning because of `return` statement. The `StopIteration` exception is automatically caught inside the `list(...)` wrapper and the `for` loop. Therefore, the above two snippets result in an empty list.\n",
        "\n",
        "+ To get `[\"wtf\"]` from the generator `some_func` we need to catch the `StopIteration` exception,\n",
        "\n"
      ]
    },
    {
      "cell_type": "code",
      "execution_count": null,
      "metadata": {
        "collapsed": true
      },
      "outputs": [
        {
          "data": {
            "text/plain": []
          },
          "output_type": "execute_result",
          "metadata": {},
          "execution_count": null
        }
      ],
      "source": [
        "  try:\n",
        "      next(some_func(3))\n",
        "  except StopIteration as e:\n",
        "      some_string = e.value\n"
      ]
    },
    {
      "cell_type": "markdown",
      "metadata": {},
      "source": [
        "\n"
      ]
    },
    {
      "cell_type": "code",
      "execution_count": null,
      "metadata": {
        "collapsed": true
      },
      "outputs": [
        {
          "data": {
            "text/plain": [
              "  [\"wtf\"]\n"
            ]
          },
          "output_type": "execute_result",
          "metadata": {},
          "execution_count": null
        }
      ],
      "source": [
        "  some_string\n"
      ]
    },
    {
      "cell_type": "markdown",
      "metadata": {},
      "source": [
        "\n"
      ]
    },
    {
      "cell_type": "markdown",
      "metadata": {},
      "source": [
        "### \u25b6 Nan-reflexivity *\n",
        "1\\.\n",
        "\n"
      ]
    },
    {
      "cell_type": "code",
      "execution_count": null,
      "metadata": {
        "collapsed": true
      },
      "outputs": [
        {
          "data": {
            "text/plain": []
          },
          "output_type": "execute_result",
          "metadata": {},
          "execution_count": null
        }
      ],
      "source": [
        "a = float('inf')\n",
        "b = float('nan')\n",
        "c = float('-iNf')  # These strings are case-insensitive\n",
        "d = float('nan')\n"
      ]
    },
    {
      "cell_type": "markdown",
      "metadata": {},
      "source": [
        "\n",
        "**Output:**\n",
        "\n"
      ]
    },
    {
      "cell_type": "code",
      "execution_count": null,
      "metadata": {
        "collapsed": true
      },
      "outputs": [
        {
          "data": {
            "text/plain": [
              "inf\n"
            ]
          },
          "output_type": "execute_result",
          "metadata": {},
          "execution_count": null
        }
      ],
      "source": [
        "a\n"
      ]
    },
    {
      "cell_type": "code",
      "execution_count": null,
      "metadata": {
        "collapsed": true
      },
      "outputs": [
        {
          "data": {
            "text/plain": [
              "nan\n"
            ]
          },
          "output_type": "execute_result",
          "metadata": {},
          "execution_count": null
        }
      ],
      "source": [
        "b\n"
      ]
    },
    {
      "cell_type": "code",
      "execution_count": null,
      "metadata": {
        "collapsed": true
      },
      "outputs": [
        {
          "data": {
            "text/plain": [
              "-inf\n"
            ]
          },
          "output_type": "execute_result",
          "metadata": {},
          "execution_count": null
        }
      ],
      "source": [
        "c\n"
      ]
    },
    {
      "cell_type": "code",
      "execution_count": null,
      "metadata": {
        "collapsed": true
      },
      "outputs": [
        {
          "data": {
            "text/plain": [
              "ValueError: could not convert string to float: some_other_string\n"
            ]
          },
          "output_type": "execute_result",
          "metadata": {},
          "execution_count": null
        }
      ],
      "source": [
        "float('some_other_string')\n"
      ]
    },
    {
      "cell_type": "code",
      "execution_count": null,
      "metadata": {
        "collapsed": true
      },
      "outputs": [
        {
          "data": {
            "text/plain": [
              "True\n"
            ]
          },
          "output_type": "execute_result",
          "metadata": {},
          "execution_count": null
        }
      ],
      "source": [
        "a == -c # inf==inf\n"
      ]
    },
    {
      "cell_type": "code",
      "execution_count": null,
      "metadata": {
        "collapsed": true
      },
      "outputs": [
        {
          "data": {
            "text/plain": [
              "True\n"
            ]
          },
          "output_type": "execute_result",
          "metadata": {},
          "execution_count": null
        }
      ],
      "source": [
        "None == None # None == None\n"
      ]
    },
    {
      "cell_type": "code",
      "execution_count": null,
      "metadata": {
        "collapsed": true
      },
      "outputs": [
        {
          "data": {
            "text/plain": [
              "False\n"
            ]
          },
          "output_type": "execute_result",
          "metadata": {},
          "execution_count": null
        }
      ],
      "source": [
        "b == d # but nan!=nan\n"
      ]
    },
    {
      "cell_type": "code",
      "execution_count": null,
      "metadata": {
        "collapsed": true
      },
      "outputs": [
        {
          "data": {
            "text/plain": [
              "0.0\n"
            ]
          },
          "output_type": "execute_result",
          "metadata": {},
          "execution_count": null
        }
      ],
      "source": [
        "50 / a\n"
      ]
    },
    {
      "cell_type": "code",
      "execution_count": null,
      "metadata": {
        "collapsed": true
      },
      "outputs": [
        {
          "data": {
            "text/plain": [
              "nan\n"
            ]
          },
          "output_type": "execute_result",
          "metadata": {},
          "execution_count": null
        }
      ],
      "source": [
        "a / a\n"
      ]
    },
    {
      "cell_type": "code",
      "execution_count": null,
      "metadata": {
        "collapsed": true
      },
      "outputs": [
        {
          "data": {
            "text/plain": [
              "nan\n"
            ]
          },
          "output_type": "execute_result",
          "metadata": {},
          "execution_count": null
        }
      ],
      "source": [
        "23 + b\n"
      ]
    },
    {
      "cell_type": "markdown",
      "metadata": {},
      "source": [
        "\n",
        "2\\.\n",
        "\n"
      ]
    },
    {
      "cell_type": "code",
      "execution_count": null,
      "metadata": {
        "collapsed": true
      },
      "outputs": [
        {
          "data": {
            "text/plain": [
              "True\n"
            ]
          },
          "output_type": "execute_result",
          "metadata": {},
          "execution_count": null
        }
      ],
      "source": [
        "x = float('nan')\n",
        "y = x / x\n",
        "y is y # identity holds\n"
      ]
    },
    {
      "cell_type": "code",
      "execution_count": null,
      "metadata": {
        "collapsed": true
      },
      "outputs": [
        {
          "data": {
            "text/plain": [
              "False\n"
            ]
          },
          "output_type": "execute_result",
          "metadata": {},
          "execution_count": null
        }
      ],
      "source": [
        "y == y # equality fails of y\n"
      ]
    },
    {
      "cell_type": "code",
      "execution_count": null,
      "metadata": {
        "collapsed": true
      },
      "outputs": [
        {
          "data": {
            "text/plain": [
              "True\n"
            ]
          },
          "output_type": "execute_result",
          "metadata": {},
          "execution_count": null
        }
      ],
      "source": [
        "[y] == [y] # but the equality succeeds for the list containing y\n"
      ]
    },
    {
      "cell_type": "markdown",
      "metadata": {},
      "source": [
        "\n",
        "\n",
        "\n"
      ]
    },
    {
      "cell_type": "markdown",
      "metadata": {},
      "source": [
        "#### \ud83d\udca1 Explanation:\n",
        "\n",
        "- `'inf'` and `'nan'` are special strings (case-insensitive), which, when explicitly typecast-ed to `float` type, are used to represent mathematical \"infinity\" and \"not a number\" respectively.\n",
        "\n",
        "- Since according to IEEE standards ` NaN != NaN`, obeying this rule breaks the reflexivity assumption of a collection element in Python i.e. if `x` is a part of a collection like `list`, the implementations like comparison are based on the assumption that `x == x`.  Because of this assumption, the identity is compared first (since it's faster) while comparing two elements, and the values are compared only when the identities mismatch. The following snippet will make things clearer,\n",
        "\n"
      ]
    },
    {
      "cell_type": "code",
      "execution_count": null,
      "metadata": {
        "collapsed": true
      },
      "outputs": [
        {
          "data": {
            "text/plain": [
              "  (False, True)\n"
            ]
          },
          "output_type": "execute_result",
          "metadata": {},
          "execution_count": null
        }
      ],
      "source": [
        "  x = float('nan')\n",
        "  x == x, [x] == [x]\n"
      ]
    },
    {
      "cell_type": "code",
      "execution_count": null,
      "metadata": {
        "collapsed": true
      },
      "outputs": [
        {
          "data": {
            "text/plain": [
              "  (False, True)\n"
            ]
          },
          "output_type": "execute_result",
          "metadata": {},
          "execution_count": null
        }
      ],
      "source": [
        "  y = float('nan')\n",
        "  y == y, [y] == [y]\n"
      ]
    },
    {
      "cell_type": "code",
      "execution_count": null,
      "metadata": {
        "collapsed": true
      },
      "outputs": [
        {
          "data": {
            "text/plain": [
              "  (False, False)\n"
            ]
          },
          "output_type": "execute_result",
          "metadata": {},
          "execution_count": null
        }
      ],
      "source": [
        "  x == y, [x] == [y]\n"
      ]
    },
    {
      "cell_type": "markdown",
      "metadata": {},
      "source": [
        "\n",
        "  Since the identities of `x` and `y` are different, the values are considered, which are also different; hence the comparison returns `False` this time.\n",
        "\n",
        "- Interesting read: [Reflexivity, and other pillars of civilization](https://bertrandmeyer.com/2010/02/06/reflexivity-and-other-pillars-of-civilization/)\n",
        "\n"
      ]
    },
    {
      "cell_type": "markdown",
      "metadata": {},
      "source": [
        "### \u25b6 Mutating the immutable!\n",
        "This might seem trivial if you know how references work in Python.\n",
        "\n"
      ]
    },
    {
      "cell_type": "code",
      "execution_count": null,
      "metadata": {
        "collapsed": true
      },
      "outputs": [
        {
          "data": {
            "text/plain": []
          },
          "output_type": "execute_result",
          "metadata": {},
          "execution_count": null
        }
      ],
      "source": [
        "some_tuple = (\"A\", \"tuple\", \"with\", \"values\")\n",
        "another_tuple = ([1, 2], [3, 4], [5, 6])\n"
      ]
    },
    {
      "cell_type": "markdown",
      "metadata": {},
      "source": [
        "\n",
        "**Output:**\n"
      ]
    },
    {
      "cell_type": "code",
      "execution_count": null,
      "metadata": {
        "collapsed": true
      },
      "outputs": [
        {
          "data": {
            "text/plain": [
              "TypeError: 'tuple' object does not support item assignment\n"
            ]
          },
          "output_type": "execute_result",
          "metadata": {},
          "execution_count": null
        }
      ],
      "source": [
        "some_tuple[2] = \"change this\"\n"
      ]
    },
    {
      "cell_type": "code",
      "execution_count": null,
      "metadata": {
        "collapsed": true
      },
      "outputs": [
        {
          "data": {
            "text/plain": [
              "([1, 2], [3, 4], [5, 6, 1000])\n"
            ]
          },
          "output_type": "execute_result",
          "metadata": {},
          "execution_count": null
        }
      ],
      "source": [
        "another_tuple[2].append(1000) #This throws no error\n",
        "another_tuple\n"
      ]
    },
    {
      "cell_type": "code",
      "execution_count": null,
      "metadata": {
        "collapsed": true
      },
      "outputs": [
        {
          "data": {
            "text/plain": [
              "TypeError: 'tuple' object does not support item assignment\n"
            ]
          },
          "output_type": "execute_result",
          "metadata": {},
          "execution_count": null
        }
      ],
      "source": [
        "another_tuple[2] += [99, 999]\n"
      ]
    },
    {
      "cell_type": "code",
      "execution_count": null,
      "metadata": {
        "collapsed": true
      },
      "outputs": [
        {
          "data": {
            "text/plain": [
              "([1, 2], [3, 4], [5, 6, 1000, 99, 999])\n"
            ]
          },
          "output_type": "execute_result",
          "metadata": {},
          "execution_count": null
        }
      ],
      "source": [
        "another_tuple\n"
      ]
    },
    {
      "cell_type": "markdown",
      "metadata": {},
      "source": [
        "\n",
        "But I thought tuples were immutable...\n",
        "\n"
      ]
    },
    {
      "cell_type": "markdown",
      "metadata": {},
      "source": [
        "#### \ud83d\udca1 Explanation:\n",
        "\n",
        "* Quoting from https://docs.python.org/3/reference/datamodel.html\n",
        "\n",
        "    > Immutable sequences\n",
        "        An object of an immutable sequence type cannot change once it is created. (If the object contains references to other objects, these other objects may be mutable and may be modified; however, the collection of objects directly referenced by an immutable object cannot change.)\n",
        "\n",
        "* `+=` operator changes the list in-place. The item assignment doesn't work, but when the exception occurs, the item has already been changed in place.\n",
        "* There's also an explanation in [official Python FAQ](https://docs.python.org/3/faq/programming.html#why-does-a-tuple-i-item-raise-an-exception-when-the-addition-works).\n",
        "\n"
      ]
    },
    {
      "cell_type": "markdown",
      "metadata": {},
      "source": [
        "### \u25b6 The disappearing variable from outer scope\n"
      ]
    },
    {
      "cell_type": "code",
      "execution_count": null,
      "metadata": {
        "collapsed": true
      },
      "outputs": [
        {
          "data": {
            "text/plain": []
          },
          "output_type": "execute_result",
          "metadata": {},
          "execution_count": null
        }
      ],
      "source": [
        "e = 7\n",
        "try:\n",
        "    raise Exception()\n",
        "except Exception as e:\n",
        "    pass\n"
      ]
    },
    {
      "cell_type": "markdown",
      "metadata": {},
      "source": [
        "\n",
        "**Output (Python 2.x):**\n"
      ]
    },
    {
      "cell_type": "code",
      "metadata": {
        "collapsed": true
      },
      "execution_count": null,
      "outputs": [
        {
          "name": "stdout",
          "output_type": "stream",
          "text": [
            "# prints nothing\n"
          ]
        }
      ],
      "source": [
        "print(e)\n"
      ]
    },
    {
      "cell_type": "markdown",
      "metadata": {},
      "source": [
        "\n",
        "**Output (Python 3.x):**\n"
      ]
    },
    {
      "cell_type": "code",
      "metadata": {
        "collapsed": true
      },
      "execution_count": null,
      "outputs": [
        {
          "name": "stdout",
          "output_type": "stream",
          "text": [
            "NameError: name 'e' is not defined\n"
          ]
        }
      ],
      "source": [
        "print(e)\n"
      ]
    },
    {
      "cell_type": "markdown",
      "metadata": {},
      "source": [
        "\n"
      ]
    },
    {
      "cell_type": "markdown",
      "metadata": {},
      "source": [
        "#### \ud83d\udca1 Explanation:\n",
        "\n",
        "* Source: https://docs.python.org/3/reference/compound_stmts.html#except\n",
        "\n",
        "  When an exception has been assigned using `as` target, it is cleared at the end of the `except` clause. This is as if\n",
        "\n"
      ]
    },
    {
      "cell_type": "code",
      "execution_count": null,
      "metadata": {
        "collapsed": true
      },
      "outputs": [
        {
          "data": {
            "text/plain": []
          },
          "output_type": "execute_result",
          "metadata": {},
          "execution_count": null
        }
      ],
      "source": [
        "  except E as N:\n",
        "      foo\n"
      ]
    },
    {
      "cell_type": "markdown",
      "metadata": {},
      "source": [
        "\n",
        "  was translated into\n",
        "\n"
      ]
    },
    {
      "cell_type": "code",
      "execution_count": null,
      "metadata": {
        "collapsed": true
      },
      "outputs": [
        {
          "data": {
            "text/plain": []
          },
          "output_type": "execute_result",
          "metadata": {},
          "execution_count": null
        }
      ],
      "source": [
        "  except E as N:\n",
        "      try:\n",
        "          foo\n",
        "      finally:\n",
        "          del N\n"
      ]
    },
    {
      "cell_type": "markdown",
      "metadata": {},
      "source": [
        "\n",
        "  This means the exception must be assigned to a different name to be able to refer to it after the except clause. Exceptions are cleared because, with the traceback attached to them, they form a reference cycle with the stack frame, keeping all locals in that frame alive until the next garbage collection occurs.\n",
        "\n",
        "* The clauses are not scoped in Python. Everything in the example is present in the same scope, and the variable `e` got removed due to the execution of the `except` clause. The same is not the case with functions that have their separate inner-scopes. The example below illustrates this:\n",
        "\n"
      ]
    },
    {
      "cell_type": "code",
      "execution_count": null,
      "metadata": {
        "collapsed": true
      },
      "outputs": [
        {
          "data": {
            "text/plain": []
          },
          "output_type": "execute_result",
          "metadata": {},
          "execution_count": null
        }
      ],
      "source": [
        "     def f(x):\n",
        "         del(x)\n",
        "         print(x)\n",
        "\n",
        "     x = 5\n",
        "     y = [5, 4, 3]\n"
      ]
    },
    {
      "cell_type": "markdown",
      "metadata": {},
      "source": [
        "\n",
        "     **Output:**\n"
      ]
    },
    {
      "cell_type": "code",
      "execution_count": null,
      "metadata": {
        "collapsed": true
      },
      "outputs": [
        {
          "data": {
            "text/plain": [
              "     5\n"
            ]
          },
          "output_type": "execute_result",
          "metadata": {},
          "execution_count": null
        }
      ],
      "source": [
        "     >>>f(x)\n",
        "     UnboundLocalError: local variable 'x' referenced before assignment\n",
        "     >>>f(y)\n",
        "     UnboundLocalError: local variable 'x' referenced before assignment\n",
        "     x\n"
      ]
    },
    {
      "cell_type": "code",
      "execution_count": null,
      "metadata": {
        "collapsed": true
      },
      "outputs": [
        {
          "data": {
            "text/plain": [
              "     [5, 4, 3]\n"
            ]
          },
          "output_type": "execute_result",
          "metadata": {},
          "execution_count": null
        }
      ],
      "source": [
        "     y\n"
      ]
    },
    {
      "cell_type": "markdown",
      "metadata": {},
      "source": [
        "\n",
        "* In Python 2.x, the variable name `e` gets assigned to `Exception()` instance, so when you try to print, it prints nothing.\n",
        "\n",
        "    **Output (Python 2.x):**\n"
      ]
    },
    {
      "cell_type": "code",
      "execution_count": null,
      "metadata": {
        "collapsed": true
      },
      "outputs": [
        {
          "data": {
            "text/plain": [
              "    Exception()\n"
            ]
          },
          "output_type": "execute_result",
          "metadata": {},
          "execution_count": null
        }
      ],
      "source": [
        "    e\n"
      ]
    },
    {
      "cell_type": "code",
      "execution_count": null,
      "metadata": {
        "collapsed": true
      },
      "outputs": [
        {
          "data": {
            "text/plain": [
              "    # Nothing is printed!\n"
            ]
          },
          "output_type": "execute_result",
          "metadata": {},
          "execution_count": null
        }
      ],
      "source": [
        "    print e\n"
      ]
    },
    {
      "cell_type": "markdown",
      "metadata": {},
      "source": [
        "\n"
      ]
    },
    {
      "cell_type": "markdown",
      "metadata": {},
      "source": [
        "### \u25b6 The mysterious key type conversion\n"
      ]
    },
    {
      "cell_type": "code",
      "execution_count": null,
      "metadata": {
        "collapsed": true
      },
      "outputs": [
        {
          "data": {
            "text/plain": []
          },
          "output_type": "execute_result",
          "metadata": {},
          "execution_count": null
        }
      ],
      "source": [
        "class SomeClass(str):\n",
        "    pass\n",
        "\n",
        "some_dict = {'s': 42}\n"
      ]
    },
    {
      "cell_type": "markdown",
      "metadata": {},
      "source": [
        "\n",
        "**Output:**\n"
      ]
    },
    {
      "cell_type": "code",
      "execution_count": null,
      "metadata": {
        "collapsed": true
      },
      "outputs": [
        {
          "data": {
            "text/plain": [
              "str\n"
            ]
          },
          "output_type": "execute_result",
          "metadata": {},
          "execution_count": null
        }
      ],
      "source": [
        "type(list(some_dict.keys())[0])\n"
      ]
    },
    {
      "cell_type": "code",
      "execution_count": null,
      "metadata": {
        "collapsed": true
      },
      "outputs": [
        {
          "data": {
            "text/plain": [
              "{'s': 40}\n"
            ]
          },
          "output_type": "execute_result",
          "metadata": {},
          "execution_count": null
        }
      ],
      "source": [
        "s = SomeClass('s')\n",
        "some_dict[s] = 40\n",
        "some_dict # expected: Two different keys-value pairs\n"
      ]
    },
    {
      "cell_type": "code",
      "execution_count": null,
      "metadata": {
        "collapsed": true
      },
      "outputs": [
        {
          "data": {
            "text/plain": [
              "str\n"
            ]
          },
          "output_type": "execute_result",
          "metadata": {},
          "execution_count": null
        }
      ],
      "source": [
        "type(list(some_dict.keys())[0])\n"
      ]
    },
    {
      "cell_type": "markdown",
      "metadata": {},
      "source": [
        "\n"
      ]
    },
    {
      "cell_type": "markdown",
      "metadata": {},
      "source": [
        "#### \ud83d\udca1 Explanation:\n",
        "\n",
        "* Both the object `s` and the string `\"s\"` hash to the same value because `SomeClass` inherits the `__hash__` method of `str` class.\n",
        "* `SomeClass(\"s\") == \"s\"` evaluates to `True` because `SomeClass` also inherits `__eq__` method from `str` class.\n",
        "* Since both the objects hash to the same value and are equal, they are represented by the same key in the dictionary.\n",
        "* For the desired behavior, we can redefine the `__eq__` method in `SomeClass`\n"
      ]
    },
    {
      "cell_type": "code",
      "execution_count": null,
      "metadata": {
        "collapsed": true
      },
      "outputs": [
        {
          "data": {
            "text/plain": []
          },
          "output_type": "execute_result",
          "metadata": {},
          "execution_count": null
        }
      ],
      "source": [
        "  class SomeClass(str):\n",
        "    def __eq__(self, other):\n",
        "        return (\n",
        "            type(self) is SomeClass\n",
        "            and type(other) is SomeClass\n",
        "            and super().__eq__(other)\n",
        "        )\n",
        "\n",
        "    # When we define a custom __eq__, Python stops automatically inheriting the\n",
        "    # __hash__ method, so we need to define it as well\n",
        "    __hash__ = str.__hash__\n",
        "\n",
        "  some_dict = {'s':42}\n"
      ]
    },
    {
      "cell_type": "markdown",
      "metadata": {},
      "source": [
        "\n",
        "  **Output:**\n"
      ]
    },
    {
      "cell_type": "code",
      "execution_count": null,
      "metadata": {
        "collapsed": true
      },
      "outputs": [
        {
          "data": {
            "text/plain": [
              "  {'s': 40, 's': 42}\n"
            ]
          },
          "output_type": "execute_result",
          "metadata": {},
          "execution_count": null
        }
      ],
      "source": [
        "  s = SomeClass('s')\n",
        "  some_dict[s] = 40\n",
        "  some_dict\n"
      ]
    },
    {
      "cell_type": "code",
      "execution_count": null,
      "metadata": {
        "collapsed": true
      },
      "outputs": [
        {
          "data": {
            "text/plain": [
              "  (__main__.SomeClass, str)\n"
            ]
          },
          "output_type": "execute_result",
          "metadata": {},
          "execution_count": null
        }
      ],
      "source": [
        "  keys = list(some_dict.keys())\n",
        "  type(keys[0]), type(keys[1])\n"
      ]
    },
    {
      "cell_type": "markdown",
      "metadata": {},
      "source": [
        "\n"
      ]
    },
    {
      "cell_type": "markdown",
      "metadata": {},
      "source": [
        "### \u25b6 Let's see if you can guess this?\n"
      ]
    },
    {
      "cell_type": "code",
      "execution_count": null,
      "metadata": {
        "collapsed": true
      },
      "outputs": [
        {
          "data": {
            "text/plain": []
          },
          "output_type": "execute_result",
          "metadata": {},
          "execution_count": null
        }
      ],
      "source": [
        "a, b = a[b] = {}, 5\n"
      ]
    },
    {
      "cell_type": "markdown",
      "metadata": {},
      "source": [
        "\n",
        "**Output:**\n"
      ]
    },
    {
      "cell_type": "code",
      "execution_count": null,
      "metadata": {
        "collapsed": true
      },
      "outputs": [
        {
          "data": {
            "text/plain": [
              "{5: ({...}, 5)}\n"
            ]
          },
          "output_type": "execute_result",
          "metadata": {},
          "execution_count": null
        }
      ],
      "source": [
        "a\n"
      ]
    },
    {
      "cell_type": "markdown",
      "metadata": {},
      "source": [
        "\n"
      ]
    },
    {
      "cell_type": "markdown",
      "metadata": {},
      "source": [
        "#### \ud83d\udca1 Explanation:\n",
        "\n",
        "* According to [Python language reference](https://docs.python.org/3/reference/simple_stmts.html#assignment-statements), assignment statements have the form\n",
        "  ```\n",
        "  (target_list \"=\")+ (expression_list | yield_expression)\n",
        "  ```\n",
        "  and\n",
        "  \n",
        "> An assignment statement evaluates the expression list (remember that this can be a single expression or a comma-separated list, the latter yielding a tuple) and assigns the single resulting object to each of the target lists, from left to right.\n",
        "\n",
        "* The `+` in `(target_list \"=\")+` means there can be **one or more** target lists. In this case, target lists are `a, b` and `a[b]` (note the expression list is exactly one, which in our case is `{}, 5`).\n",
        "\n",
        "* After the expression list is evaluated, its value is unpacked to the target lists from **left to right**. So, in our case, first the `{}, 5` tuple is unpacked to `a, b` and we now have `a = {}` and `b = 5`.\n",
        "\n",
        "* `a` is now assigned to `{}`, which is a mutable object.\n",
        "\n",
        "* The second target list is `a[b]` (you may expect this to throw an error because both `a` and `b` have not been defined in the statements before. But remember, we just assigned `a` to `{}` and `b` to `5`).\n",
        "\n",
        "* Now, we are setting the key `5` in the dictionary to the tuple `({}, 5)` creating a circular reference (the `{...}` in the output refers to the same object that `a` is already referencing). Another simpler example of circular reference could be\n"
      ]
    },
    {
      "cell_type": "code",
      "execution_count": null,
      "metadata": {
        "collapsed": true
      },
      "outputs": [
        {
          "data": {
            "text/plain": [
              "  [[...]]\n"
            ]
          },
          "output_type": "execute_result",
          "metadata": {},
          "execution_count": null
        }
      ],
      "source": [
        "  some_list = some_list[0] = [0]\n",
        "  some_list\n"
      ]
    },
    {
      "cell_type": "code",
      "execution_count": null,
      "metadata": {
        "collapsed": true
      },
      "outputs": [
        {
          "data": {
            "text/plain": [
              "  [[...]]\n"
            ]
          },
          "output_type": "execute_result",
          "metadata": {},
          "execution_count": null
        }
      ],
      "source": [
        "  some_list[0]\n"
      ]
    },
    {
      "cell_type": "code",
      "execution_count": null,
      "metadata": {
        "collapsed": true
      },
      "outputs": [
        {
          "data": {
            "text/plain": [
              "  True\n"
            ]
          },
          "output_type": "execute_result",
          "metadata": {},
          "execution_count": null
        }
      ],
      "source": [
        "  some_list is some_list[0]\n"
      ]
    },
    {
      "cell_type": "code",
      "execution_count": null,
      "metadata": {
        "collapsed": true
      },
      "outputs": [
        {
          "data": {
            "text/plain": [
              "  True\n"
            ]
          },
          "output_type": "execute_result",
          "metadata": {},
          "execution_count": null
        }
      ],
      "source": [
        "  some_list[0][0][0][0][0][0] == some_list\n"
      ]
    },
    {
      "cell_type": "markdown",
      "metadata": {},
      "source": [
        "  Similar is the case in our example (`a[b][0]` is the same object as `a`)\n",
        "\n",
        "* So to sum it up, you can break the example down to\n"
      ]
    },
    {
      "cell_type": "code",
      "execution_count": null,
      "metadata": {
        "collapsed": true
      },
      "outputs": [
        {
          "data": {
            "text/plain": []
          },
          "output_type": "execute_result",
          "metadata": {},
          "execution_count": null
        }
      ],
      "source": [
        "  a, b = {}, 5\n",
        "  a[b] = a, b\n"
      ]
    },
    {
      "cell_type": "markdown",
      "metadata": {},
      "source": [
        "  And the circular reference can be justified by the fact that `a[b][0]` is the same object as `a`\n"
      ]
    },
    {
      "cell_type": "code",
      "execution_count": null,
      "metadata": {
        "collapsed": true
      },
      "outputs": [
        {
          "data": {
            "text/plain": [
              "  True\n"
            ]
          },
          "output_type": "execute_result",
          "metadata": {},
          "execution_count": null
        }
      ],
      "source": [
        "  a[b][0] is a\n"
      ]
    },
    {
      "cell_type": "markdown",
      "metadata": {},
      "source": [
        "\n"
      ]
    },
    {
      "cell_type": "markdown",
      "metadata": {},
      "source": [
        "### \u25b6 Modifying a dictionary while iterating over it\n"
      ]
    },
    {
      "cell_type": "code",
      "execution_count": null,
      "metadata": {
        "collapsed": true
      },
      "outputs": [
        {
          "data": {
            "text/plain": []
          },
          "output_type": "execute_result",
          "metadata": {},
          "execution_count": null
        }
      ],
      "source": [
        "x = {0: None}\n",
        "\n",
        "for i in x:\n",
        "    del x[i]\n",
        "    x[i+1] = None\n",
        "    print(i)\n"
      ]
    },
    {
      "cell_type": "markdown",
      "metadata": {},
      "source": [
        "\n",
        "**Output (Python 2.7- Python 3.5):**\n",
        "\n",
        "```\n",
        "0\n",
        "1\n",
        "2\n",
        "3\n",
        "4\n",
        "5\n",
        "6\n",
        "7\n",
        "```\n",
        "\n",
        "Yes, it runs for exactly **eight** times and stops.\n",
        "\n"
      ]
    },
    {
      "cell_type": "markdown",
      "metadata": {},
      "source": [
        "#### \ud83d\udca1 Explanation:\n",
        "\n",
        "* Iteration over a dictionary that you edit at the same time is not supported.\n",
        "* It runs eight times because that's the point at which the dictionary resizes to hold more keys (we have eight deletion entries, so a resize is needed). This is actually an implementation detail.\n",
        "* How deleted keys are handled and when the resize occurs might be different for different Python implementations.\n",
        "* So for Python versions other than Python 2.7 - Python 3.5, the count might be different from 8 (but whatever the count is, it's going to be the same every time you run it). You can find some discussion around this [here](https://github.com/satwikkansal/wtfpython/issues/53) or in [this](https://stackoverflow.com/questions/44763802/bug-in-python-dict) StackOverflow thread.\n",
        "* Python 3.7.6 onwards, you'll see `RuntimeError: dictionary keys changed during iteration` exception if you try to do this.\n",
        "\n"
      ]
    },
    {
      "cell_type": "markdown",
      "metadata": {},
      "source": [
        "### \u25b6 The out of scope variable\n",
        "1\\.\n"
      ]
    },
    {
      "cell_type": "code",
      "execution_count": null,
      "metadata": {
        "collapsed": true
      },
      "outputs": [
        {
          "data": {
            "text/plain": []
          },
          "output_type": "execute_result",
          "metadata": {},
          "execution_count": null
        }
      ],
      "source": [
        "a = 1\n",
        "def some_func():\n",
        "    return a\n",
        "\n",
        "def another_func():\n",
        "    a += 1\n",
        "    return a\n"
      ]
    },
    {
      "cell_type": "markdown",
      "metadata": {},
      "source": [
        "\n",
        "2\\.\n"
      ]
    },
    {
      "cell_type": "code",
      "execution_count": null,
      "metadata": {
        "collapsed": true
      },
      "outputs": [
        {
          "data": {
            "text/plain": []
          },
          "output_type": "execute_result",
          "metadata": {},
          "execution_count": null
        }
      ],
      "source": [
        "def some_closure_func():\n",
        "    a = 1\n",
        "    def some_inner_func():\n",
        "        return a\n",
        "    return some_inner_func()\n",
        "\n",
        "def another_closure_func():\n",
        "    a = 1\n",
        "    def another_inner_func():\n",
        "        a += 1\n",
        "        return a\n",
        "    return another_inner_func()\n"
      ]
    },
    {
      "cell_type": "markdown",
      "metadata": {},
      "source": [
        "\n",
        "**Output:**\n"
      ]
    },
    {
      "cell_type": "code",
      "execution_count": null,
      "metadata": {
        "collapsed": true
      },
      "outputs": [
        {
          "data": {
            "text/plain": [
              "1\n"
            ]
          },
          "output_type": "execute_result",
          "metadata": {},
          "execution_count": null
        }
      ],
      "source": [
        "some_func()\n"
      ]
    },
    {
      "cell_type": "code",
      "execution_count": null,
      "metadata": {
        "collapsed": true
      },
      "outputs": [
        {
          "data": {
            "text/plain": [
              "UnboundLocalError: local variable 'a' referenced before assignment\n",
              "\n"
            ]
          },
          "output_type": "execute_result",
          "metadata": {},
          "execution_count": null
        }
      ],
      "source": [
        "another_func()\n"
      ]
    },
    {
      "cell_type": "code",
      "execution_count": null,
      "metadata": {
        "collapsed": true
      },
      "outputs": [
        {
          "data": {
            "text/plain": [
              "1\n"
            ]
          },
          "output_type": "execute_result",
          "metadata": {},
          "execution_count": null
        }
      ],
      "source": [
        "some_closure_func()\n"
      ]
    },
    {
      "cell_type": "code",
      "execution_count": null,
      "metadata": {
        "collapsed": true
      },
      "outputs": [
        {
          "data": {
            "text/plain": [
              "UnboundLocalError: local variable 'a' referenced before assignment\n"
            ]
          },
          "output_type": "execute_result",
          "metadata": {},
          "execution_count": null
        }
      ],
      "source": [
        "another_closure_func()\n"
      ]
    },
    {
      "cell_type": "markdown",
      "metadata": {},
      "source": [
        "\n"
      ]
    },
    {
      "cell_type": "markdown",
      "metadata": {},
      "source": [
        "#### \ud83d\udca1 Explanation:\n",
        "* When you make an assignment to a variable in scope, it becomes local to that scope. So `a` becomes local to the scope of `another_func`, but it has not been initialized previously in the same scope, which throws an error.\n",
        "* To modify the outer scope variable `a` in `another_func`, we have to use the `global` keyword.\n"
      ]
    },
    {
      "cell_type": "code",
      "execution_count": null,
      "metadata": {
        "collapsed": true
      },
      "outputs": [
        {
          "data": {
            "text/plain": []
          },
          "output_type": "execute_result",
          "metadata": {},
          "execution_count": null
        }
      ],
      "source": [
        "  def another_func()\n",
        "      global a\n",
        "      a += 1\n",
        "      return a\n"
      ]
    },
    {
      "cell_type": "markdown",
      "metadata": {},
      "source": [
        "\n",
        "  **Output:**\n"
      ]
    },
    {
      "cell_type": "code",
      "execution_count": null,
      "metadata": {
        "collapsed": true
      },
      "outputs": [
        {
          "data": {
            "text/plain": [
              "  2\n"
            ]
          },
          "output_type": "execute_result",
          "metadata": {},
          "execution_count": null
        }
      ],
      "source": [
        "  another_func()\n"
      ]
    },
    {
      "cell_type": "markdown",
      "metadata": {},
      "source": [
        "* In `another_closure_func`, `a` becomes local to the scope of `another_inner_func`, but it has not been initialized previously in the same scope, which is why it throws an error. \n",
        "* To modify the outer scope variable `a` in `another_inner_func`, use the `nonlocal` keyword. The nonlocal statement is used to refer to variables defined in the nearest outer (excluding the global) scope.\n"
      ]
    },
    {
      "cell_type": "code",
      "execution_count": null,
      "metadata": {
        "collapsed": true
      },
      "outputs": [
        {
          "data": {
            "text/plain": []
          },
          "output_type": "execute_result",
          "metadata": {},
          "execution_count": null
        }
      ],
      "source": [
        "  def another_func():\n",
        "      a = 1\n",
        "      def another_inner_func():\n",
        "          nonlocal a\n",
        "          a += 1\n",
        "          return a\n",
        "      return another_inner_func()\n"
      ]
    },
    {
      "cell_type": "markdown",
      "metadata": {},
      "source": [
        "\n",
        "  **Output:**\n"
      ]
    },
    {
      "cell_type": "code",
      "execution_count": null,
      "metadata": {
        "collapsed": true
      },
      "outputs": [
        {
          "data": {
            "text/plain": [
              "  2\n"
            ]
          },
          "output_type": "execute_result",
          "metadata": {},
          "execution_count": null
        }
      ],
      "source": [
        "  another_func()\n"
      ]
    },
    {
      "cell_type": "markdown",
      "metadata": {},
      "source": [
        "* The keywords `global` and `nonlocal` tell the python interpreter to not delcare new variables and look them up in the corresponding outer scopes.\n",
        "* Read [this](https://sebastianraschka.com/Articles/2014_python_scope_and_namespaces.html) short but an awesome guide to learn more about how namespaces and scope resolution works in Python.\n",
        "\n"
      ]
    },
    {
      "cell_type": "markdown",
      "metadata": {},
      "source": [
        "### \u25b6 Deleting a list item while iterating\n"
      ]
    },
    {
      "cell_type": "code",
      "execution_count": null,
      "metadata": {
        "collapsed": true
      },
      "outputs": [
        {
          "data": {
            "text/plain": []
          },
          "output_type": "execute_result",
          "metadata": {},
          "execution_count": null
        }
      ],
      "source": [
        "list_1 = [1, 2, 3, 4]\n",
        "list_2 = [1, 2, 3, 4]\n",
        "list_3 = [1, 2, 3, 4]\n",
        "list_4 = [1, 2, 3, 4]\n",
        "\n",
        "for idx, item in enumerate(list_1):\n",
        "    del item\n",
        "\n",
        "for idx, item in enumerate(list_2):\n",
        "    list_2.remove(item)\n",
        "\n",
        "for idx, item in enumerate(list_3[:]):\n",
        "    list_3.remove(item)\n",
        "\n",
        "for idx, item in enumerate(list_4):\n",
        "    list_4.pop(idx)\n"
      ]
    },
    {
      "cell_type": "markdown",
      "metadata": {},
      "source": [
        "\n",
        "**Output:**\n"
      ]
    },
    {
      "cell_type": "code",
      "execution_count": null,
      "metadata": {
        "collapsed": true
      },
      "outputs": [
        {
          "data": {
            "text/plain": [
              "[1, 2, 3, 4]\n"
            ]
          },
          "output_type": "execute_result",
          "metadata": {},
          "execution_count": null
        }
      ],
      "source": [
        "list_1\n"
      ]
    },
    {
      "cell_type": "code",
      "execution_count": null,
      "metadata": {
        "collapsed": true
      },
      "outputs": [
        {
          "data": {
            "text/plain": [
              "[2, 4]\n"
            ]
          },
          "output_type": "execute_result",
          "metadata": {},
          "execution_count": null
        }
      ],
      "source": [
        "list_2\n"
      ]
    },
    {
      "cell_type": "code",
      "execution_count": null,
      "metadata": {
        "collapsed": true
      },
      "outputs": [
        {
          "data": {
            "text/plain": [
              "[]\n"
            ]
          },
          "output_type": "execute_result",
          "metadata": {},
          "execution_count": null
        }
      ],
      "source": [
        "list_3\n"
      ]
    },
    {
      "cell_type": "code",
      "execution_count": null,
      "metadata": {
        "collapsed": true
      },
      "outputs": [
        {
          "data": {
            "text/plain": [
              "[2, 4]\n"
            ]
          },
          "output_type": "execute_result",
          "metadata": {},
          "execution_count": null
        }
      ],
      "source": [
        "list_4\n"
      ]
    },
    {
      "cell_type": "markdown",
      "metadata": {},
      "source": [
        "\n",
        "Can you guess why the output is `[2, 4]`?\n",
        "\n"
      ]
    },
    {
      "cell_type": "markdown",
      "metadata": {},
      "source": [
        "#### \ud83d\udca1 Explanation:\n",
        "\n",
        "* It's never a good idea to change the object you're iterating over. The correct way to do so is to iterate over a copy of the object instead, and `list_3[:]` does just that.\n",
        "\n"
      ]
    },
    {
      "cell_type": "code",
      "execution_count": null,
      "metadata": {
        "collapsed": true
      },
      "outputs": [
        {
          "data": {
            "text/plain": [
              "     139798789457608\n"
            ]
          },
          "output_type": "execute_result",
          "metadata": {},
          "execution_count": null
        }
      ],
      "source": [
        "     some_list = [1, 2, 3, 4]\n",
        "     id(some_list)\n"
      ]
    },
    {
      "cell_type": "code",
      "execution_count": null,
      "metadata": {
        "collapsed": true
      },
      "outputs": [
        {
          "data": {
            "text/plain": [
              "     139798779601192\n"
            ]
          },
          "output_type": "execute_result",
          "metadata": {},
          "execution_count": null
        }
      ],
      "source": [
        "     id(some_list[:]) # Notice that python creates new object for sliced list.\n"
      ]
    },
    {
      "cell_type": "markdown",
      "metadata": {},
      "source": [
        "\n",
        "**Difference between `del`, `remove`, and `pop`:**\n",
        "* `del var_name` just removes the binding of the `var_name` from the local or global namespace (That's why the `list_1` is unaffected).\n",
        "* `remove` removes the first matching value, not a specific index, raises `ValueError` if the value is not found.\n",
        "* `pop` removes the element at a specific index and returns it, raises `IndexError` if an invalid index is specified.\n",
        "\n",
        "**Why the output is `[2, 4]`?**\n",
        "- The list iteration is done index by index, and when we remove `1` from `list_2` or `list_4`, the contents of the lists are now `[2, 3, 4]`. The remaining elements are shifted down, i.e., `2` is at index 0, and `3` is at index 1. Since the next iteration is going to look at index 1 (which is the `3`), the `2` gets skipped entirely. A similar thing will happen with every alternate element in the list sequence.\n",
        "\n",
        "* Refer to this StackOverflow [thread](https://stackoverflow.com/questions/45946228/what-happens-when-you-try-to-delete-a-list-element-while-iterating-over-it) explaining the example\n",
        "* See also this nice StackOverflow [thread](https://stackoverflow.com/questions/45877614/how-to-change-all-the-dictionary-keys-in-a-for-loop-with-d-items) for a similar example related to dictionaries in Python.\n",
        "\n"
      ]
    },
    {
      "cell_type": "markdown",
      "metadata": {},
      "source": [
        "### \u25b6 Lossy zip of iterators *\n"
      ]
    },
    {
      "cell_type": "code",
      "execution_count": null,
      "metadata": {
        "collapsed": true
      },
      "outputs": [
        {
          "data": {
            "text/plain": [
              "[0, 1, 2, 3, 4, 5, 6]\n"
            ]
          },
          "output_type": "execute_result",
          "metadata": {},
          "execution_count": null
        }
      ],
      "source": [
        "numbers = list(range(7))\n",
        "numbers\n"
      ]
    },
    {
      "cell_type": "code",
      "execution_count": null,
      "metadata": {
        "collapsed": true
      },
      "outputs": [
        {
          "data": {
            "text/plain": [
              "([0, 1, 2], [3, 4, 5, 6])\n"
            ]
          },
          "output_type": "execute_result",
          "metadata": {},
          "execution_count": null
        }
      ],
      "source": [
        "first_three, remaining = numbers[:3], numbers[3:]\n",
        "first_three, remaining\n"
      ]
    },
    {
      "cell_type": "code",
      "execution_count": null,
      "metadata": {
        "collapsed": true
      },
      "outputs": [
        {
          "data": {
            "text/plain": [
              "[(0, 0), (1, 1), (2, 2)]\n",
              "# so far so good, let's zip the remaining\n"
            ]
          },
          "output_type": "execute_result",
          "metadata": {},
          "execution_count": null
        }
      ],
      "source": [
        "numbers_iter = iter(numbers)\n",
        "list(zip(numbers_iter, first_three)) \n"
      ]
    },
    {
      "cell_type": "code",
      "execution_count": null,
      "metadata": {
        "collapsed": true
      },
      "outputs": [
        {
          "data": {
            "text/plain": [
              "[(4, 3), (5, 4), (6, 5)]\n"
            ]
          },
          "output_type": "execute_result",
          "metadata": {},
          "execution_count": null
        }
      ],
      "source": [
        "list(zip(numbers_iter, remaining))\n"
      ]
    },
    {
      "cell_type": "markdown",
      "metadata": {},
      "source": [
        "Where did element `3` go from the `numbers` list?\n",
        "\n"
      ]
    },
    {
      "cell_type": "markdown",
      "metadata": {},
      "source": [
        "#### \ud83d\udca1 Explanation:\n",
        "\n",
        "- From Python [docs](https://docs.python.org/3.3/library/functions.html#zip), here's an approximate implementation of zip function,\n"
      ]
    },
    {
      "cell_type": "code",
      "execution_count": null,
      "metadata": {
        "collapsed": true
      },
      "outputs": [
        {
          "data": {
            "text/plain": []
          },
          "output_type": "execute_result",
          "metadata": {},
          "execution_count": null
        }
      ],
      "source": [
        "    def zip(*iterables):\n",
        "        sentinel = object()\n",
        "        iterators = [iter(it) for it in iterables]\n",
        "        while iterators:\n",
        "            result = []\n",
        "            for it in iterators:\n",
        "                elem = next(it, sentinel)\n",
        "                if elem is sentinel: return\n",
        "                result.append(elem)\n",
        "            yield tuple(result)\n"
      ]
    },
    {
      "cell_type": "markdown",
      "metadata": {},
      "source": [
        "- So the function takes in arbitrary number of iterable objects, adds each of their items to the `result` list by calling the `next` function on them, and stops whenever any of the iterable is exhausted. \n",
        "- The caveat here is when any iterable is exhausted, the existing elements in the `result` list are discarded. That's what happened with `3` in the `numbers_iter`.\n",
        "- The correct way to do the above using `zip` would be,\n"
      ]
    },
    {
      "cell_type": "code",
      "execution_count": null,
      "metadata": {
        "collapsed": true
      },
      "outputs": [
        {
          "data": {
            "text/plain": [
              "    [(0, 0), (1, 1), (2, 2)]\n"
            ]
          },
          "output_type": "execute_result",
          "metadata": {},
          "execution_count": null
        }
      ],
      "source": [
        "    numbers = list(range(7))\n",
        "    numbers_iter = iter(numbers)\n",
        "    list(zip(first_three, numbers_iter))\n"
      ]
    },
    {
      "cell_type": "code",
      "execution_count": null,
      "metadata": {
        "collapsed": true
      },
      "outputs": [
        {
          "data": {
            "text/plain": [
              "    [(3, 3), (4, 4), (5, 5), (6, 6)]\n"
            ]
          },
          "output_type": "execute_result",
          "metadata": {},
          "execution_count": null
        }
      ],
      "source": [
        "    list(zip(remaining, numbers_iter))\n"
      ]
    },
    {
      "cell_type": "markdown",
      "metadata": {},
      "source": [
        "    The first argument of zip should be the one with fewest elements.\n",
        "\n"
      ]
    },
    {
      "cell_type": "markdown",
      "metadata": {},
      "source": [
        "### \u25b6 Loop variables leaking out!\n",
        "1\\.\n"
      ]
    },
    {
      "cell_type": "code",
      "metadata": {
        "collapsed": true
      },
      "execution_count": null,
      "outputs": [
        {
          "name": "stdout",
          "output_type": "stream",
          "text": []
        }
      ],
      "source": [
        "for x in range(7):\n",
        "    if x == 6:\n",
        "        print(x, ': for x inside loop')\n",
        "print(x, ': x in global')\n"
      ]
    },
    {
      "cell_type": "markdown",
      "metadata": {},
      "source": [
        "\n",
        "**Output:**\n"
      ]
    },
    {
      "cell_type": "code",
      "execution_count": null,
      "metadata": {
        "collapsed": true
      },
      "outputs": [
        {
          "data": {
            "text/plain": []
          },
          "output_type": "execute_result",
          "metadata": {},
          "execution_count": null
        }
      ],
      "source": [
        "6 : for x inside loop\n",
        "6 : x in global\n"
      ]
    },
    {
      "cell_type": "markdown",
      "metadata": {},
      "source": [
        "\n",
        "But `x` was never defined outside the scope of for loop...\n",
        "\n",
        "2\\.\n"
      ]
    },
    {
      "cell_type": "code",
      "metadata": {
        "collapsed": true
      },
      "execution_count": null,
      "outputs": [
        {
          "name": "stdout",
          "output_type": "stream",
          "text": []
        }
      ],
      "source": [
        "# This time let's initialize x first\n",
        "x = -1\n",
        "for x in range(7):\n",
        "    if x == 6:\n",
        "        print(x, ': for x inside loop')\n",
        "print(x, ': x in global')\n"
      ]
    },
    {
      "cell_type": "markdown",
      "metadata": {},
      "source": [
        "\n",
        "**Output:**\n"
      ]
    },
    {
      "cell_type": "code",
      "execution_count": null,
      "metadata": {
        "collapsed": true
      },
      "outputs": [
        {
          "data": {
            "text/plain": []
          },
          "output_type": "execute_result",
          "metadata": {},
          "execution_count": null
        }
      ],
      "source": [
        "6 : for x inside loop\n",
        "6 : x in global\n"
      ]
    },
    {
      "cell_type": "markdown",
      "metadata": {},
      "source": [
        "\n",
        "3\\.\n",
        "\n",
        "**Output (Python 2.x):**\n"
      ]
    },
    {
      "cell_type": "code",
      "metadata": {
        "collapsed": true
      },
      "execution_count": null,
      "outputs": [
        {
          "name": "stdout",
          "output_type": "stream",
          "text": [
            "[0, 1, 2, 3, 4]\n"
          ]
        }
      ],
      "source": [
        "x = 1\n",
        "print([x for x in range(5)])\n"
      ]
    },
    {
      "cell_type": "code",
      "metadata": {
        "collapsed": true
      },
      "execution_count": null,
      "outputs": [
        {
          "name": "stdout",
          "output_type": "stream",
          "text": [
            "4\n"
          ]
        }
      ],
      "source": [
        "print(x)\n"
      ]
    },
    {
      "cell_type": "markdown",
      "metadata": {},
      "source": [
        "\n",
        "**Output (Python 3.x):**\n"
      ]
    },
    {
      "cell_type": "code",
      "metadata": {
        "collapsed": true
      },
      "execution_count": null,
      "outputs": [
        {
          "name": "stdout",
          "output_type": "stream",
          "text": [
            "[0, 1, 2, 3, 4]\n"
          ]
        }
      ],
      "source": [
        "x = 1\n",
        "print([x for x in range(5)])\n"
      ]
    },
    {
      "cell_type": "code",
      "metadata": {
        "collapsed": true
      },
      "execution_count": null,
      "outputs": [
        {
          "name": "stdout",
          "output_type": "stream",
          "text": [
            "1\n"
          ]
        }
      ],
      "source": [
        "print(x)\n"
      ]
    },
    {
      "cell_type": "markdown",
      "metadata": {},
      "source": [
        "\n"
      ]
    },
    {
      "cell_type": "markdown",
      "metadata": {},
      "source": [
        "#### \ud83d\udca1 Explanation:\n",
        "\n",
        "- In Python, for-loops use the scope they exist in and leave their defined loop-variable behind. This also applies if we explicitly defined the for-loop variable in the global namespace before. In this case, it will rebind the existing variable.\n",
        "\n",
        "- The differences in the output of Python 2.x and Python 3.x interpreters for list comprehension example can be explained by following change documented in [What\u2019s New In Python 3.0](https://docs.python.org/3/whatsnew/3.0.html) changelog:\n",
        "\n",
        "    > \"List comprehensions no longer support the syntactic form `[... for var in item1, item2, ...]`. Use `[... for var in (item1, item2, ...)]` instead. Also, note that list comprehensions have different semantics: they are closer to syntactic sugar for a generator expression inside a `list()` constructor, and in particular, the loop control variables are no longer leaked into the surrounding scope.\"\n",
        "\n"
      ]
    },
    {
      "cell_type": "markdown",
      "metadata": {},
      "source": [
        "### \u25b6 Beware of default mutable arguments!\n"
      ]
    },
    {
      "cell_type": "code",
      "execution_count": null,
      "metadata": {
        "collapsed": true
      },
      "outputs": [
        {
          "data": {
            "text/plain": []
          },
          "output_type": "execute_result",
          "metadata": {},
          "execution_count": null
        }
      ],
      "source": [
        "def some_func(default_arg=[]):\n",
        "    default_arg.append(\"some_string\")\n",
        "    return default_arg\n"
      ]
    },
    {
      "cell_type": "markdown",
      "metadata": {},
      "source": [
        "\n",
        "**Output:**\n"
      ]
    },
    {
      "cell_type": "code",
      "execution_count": null,
      "metadata": {
        "collapsed": true
      },
      "outputs": [
        {
          "data": {
            "text/plain": [
              "['some_string']\n"
            ]
          },
          "output_type": "execute_result",
          "metadata": {},
          "execution_count": null
        }
      ],
      "source": [
        "some_func()\n"
      ]
    },
    {
      "cell_type": "code",
      "execution_count": null,
      "metadata": {
        "collapsed": true
      },
      "outputs": [
        {
          "data": {
            "text/plain": [
              "['some_string', 'some_string']\n"
            ]
          },
          "output_type": "execute_result",
          "metadata": {},
          "execution_count": null
        }
      ],
      "source": [
        "some_func()\n"
      ]
    },
    {
      "cell_type": "code",
      "execution_count": null,
      "metadata": {
        "collapsed": true
      },
      "outputs": [
        {
          "data": {
            "text/plain": [
              "['some_string']\n"
            ]
          },
          "output_type": "execute_result",
          "metadata": {},
          "execution_count": null
        }
      ],
      "source": [
        "some_func([])\n"
      ]
    },
    {
      "cell_type": "code",
      "execution_count": null,
      "metadata": {
        "collapsed": true
      },
      "outputs": [
        {
          "data": {
            "text/plain": [
              "['some_string', 'some_string', 'some_string']\n"
            ]
          },
          "output_type": "execute_result",
          "metadata": {},
          "execution_count": null
        }
      ],
      "source": [
        "some_func()\n"
      ]
    },
    {
      "cell_type": "markdown",
      "metadata": {},
      "source": [
        "\n"
      ]
    },
    {
      "cell_type": "markdown",
      "metadata": {},
      "source": [
        "#### \ud83d\udca1 Explanation:\n",
        "\n",
        "- The default mutable arguments of functions in Python aren't really initialized every time you call the function. Instead, the recently assigned value to them is used as the default value. When we explicitly passed `[]` to `some_func` as the argument, the default value of the `default_arg` variable was not used, so the function returned as expected.\n",
        "\n"
      ]
    },
    {
      "cell_type": "code",
      "execution_count": null,
      "metadata": {
        "collapsed": true
      },
      "outputs": [
        {
          "data": {
            "text/plain": []
          },
          "output_type": "execute_result",
          "metadata": {},
          "execution_count": null
        }
      ],
      "source": [
        "    def some_func(default_arg=[]):\n",
        "        default_arg.append(\"some_string\")\n",
        "        return default_arg\n"
      ]
    },
    {
      "cell_type": "markdown",
      "metadata": {},
      "source": [
        "\n",
        "    **Output:**\n"
      ]
    },
    {
      "cell_type": "code",
      "execution_count": null,
      "metadata": {
        "collapsed": true
      },
      "outputs": [
        {
          "data": {
            "text/plain": [
              "    ([],)\n"
            ]
          },
          "output_type": "execute_result",
          "metadata": {},
          "execution_count": null
        }
      ],
      "source": [
        "    some_func.__defaults__ #This will show the default argument values for the function\n"
      ]
    },
    {
      "cell_type": "code",
      "execution_count": null,
      "metadata": {
        "collapsed": true
      },
      "outputs": [
        {
          "data": {
            "text/plain": [
              "    (['some_string'],)\n"
            ]
          },
          "output_type": "execute_result",
          "metadata": {},
          "execution_count": null
        }
      ],
      "source": [
        "    some_func()\n",
        "    some_func.__defaults__\n"
      ]
    },
    {
      "cell_type": "code",
      "execution_count": null,
      "metadata": {
        "collapsed": true
      },
      "outputs": [
        {
          "data": {
            "text/plain": [
              "    (['some_string', 'some_string'],)\n"
            ]
          },
          "output_type": "execute_result",
          "metadata": {},
          "execution_count": null
        }
      ],
      "source": [
        "    some_func()\n",
        "    some_func.__defaults__\n"
      ]
    },
    {
      "cell_type": "code",
      "execution_count": null,
      "metadata": {
        "collapsed": true
      },
      "outputs": [
        {
          "data": {
            "text/plain": [
              "    (['some_string', 'some_string'],)\n"
            ]
          },
          "output_type": "execute_result",
          "metadata": {},
          "execution_count": null
        }
      ],
      "source": [
        "    some_func([])\n",
        "    some_func.__defaults__\n"
      ]
    },
    {
      "cell_type": "markdown",
      "metadata": {},
      "source": [
        "\n",
        "- A common practice to avoid bugs due to mutable arguments is to assign `None` as the default value and later check if any value is passed to the function corresponding to that argument. Example:\n",
        "\n"
      ]
    },
    {
      "cell_type": "code",
      "execution_count": null,
      "metadata": {
        "collapsed": true
      },
      "outputs": [
        {
          "data": {
            "text/plain": []
          },
          "output_type": "execute_result",
          "metadata": {},
          "execution_count": null
        }
      ],
      "source": [
        "    def some_func(default_arg=None):\n",
        "        if default_arg is None:\n",
        "            default_arg = []\n",
        "        default_arg.append(\"some_string\")\n",
        "        return default_arg\n"
      ]
    },
    {
      "cell_type": "markdown",
      "metadata": {},
      "source": [
        "\n"
      ]
    },
    {
      "cell_type": "markdown",
      "metadata": {},
      "source": [
        "### \u25b6 Catching the Exceptions\n"
      ]
    },
    {
      "cell_type": "code",
      "execution_count": null,
      "metadata": {
        "collapsed": true
      },
      "outputs": [
        {
          "data": {
            "text/plain": []
          },
          "output_type": "execute_result",
          "metadata": {},
          "execution_count": null
        }
      ],
      "source": [
        "some_list = [1, 2, 3]\n",
        "try:\n",
        "    # This should raise an ``IndexError``\n",
        "    print(some_list[4])\n",
        "except IndexError, ValueError:\n",
        "    print(\"Caught!\")\n",
        "\n",
        "try:\n",
        "    # This should raise a ``ValueError``\n",
        "    some_list.remove(4)\n",
        "except IndexError, ValueError:\n",
        "    print(\"Caught again!\")\n"
      ]
    },
    {
      "cell_type": "markdown",
      "metadata": {},
      "source": [
        "\n",
        "**Output (Python 2.x):**\n"
      ]
    },
    {
      "cell_type": "code",
      "execution_count": null,
      "metadata": {
        "collapsed": true
      },
      "outputs": [
        {
          "data": {
            "text/plain": []
          },
          "output_type": "execute_result",
          "metadata": {},
          "execution_count": null
        }
      ],
      "source": [
        "Caught!\n",
        "\n",
        "ValueError: list.remove(x): x not in list\n"
      ]
    },
    {
      "cell_type": "markdown",
      "metadata": {},
      "source": [
        "\n",
        "**Output (Python 3.x):**\n"
      ]
    },
    {
      "cell_type": "code",
      "execution_count": null,
      "metadata": {
        "collapsed": true
      },
      "outputs": [
        {
          "data": {
            "text/plain": []
          },
          "output_type": "execute_result",
          "metadata": {},
          "execution_count": null
        }
      ],
      "source": [
        "  File \"<input>\", line 3\n",
        "    except IndexError, ValueError:\n",
        "                     ^\n",
        "SyntaxError: invalid syntax\n"
      ]
    },
    {
      "cell_type": "markdown",
      "metadata": {},
      "source": [
        "\n"
      ]
    },
    {
      "cell_type": "markdown",
      "metadata": {},
      "source": [
        "#### \ud83d\udca1 Explanation\n",
        "\n",
        "* To add multiple Exceptions to the except clause, you need to pass them as parenthesized tuple as the first argument. The second argument is an optional name, which when supplied will bind the Exception instance that has been raised. Example,\n"
      ]
    },
    {
      "cell_type": "code",
      "execution_count": null,
      "metadata": {
        "collapsed": true
      },
      "outputs": [
        {
          "data": {
            "text/plain": []
          },
          "output_type": "execute_result",
          "metadata": {},
          "execution_count": null
        }
      ],
      "source": [
        "  some_list = [1, 2, 3]\n",
        "  try:\n",
        "     # This should raise a ``ValueError``\n",
        "     some_list.remove(4)\n",
        "  except (IndexError, ValueError), e:\n",
        "     print(\"Caught again!\")\n",
        "     print(e)\n"
      ]
    },
    {
      "cell_type": "markdown",
      "metadata": {},
      "source": [
        "  **Output (Python 2.x):**\n",
        "  ```\n",
        "  Caught again!\n",
        "  list.remove(x): x not in list\n",
        "  ```\n",
        "  **Output (Python 3.x):**\n"
      ]
    },
    {
      "cell_type": "code",
      "execution_count": null,
      "metadata": {
        "collapsed": true
      },
      "outputs": [
        {
          "data": {
            "text/plain": []
          },
          "output_type": "execute_result",
          "metadata": {},
          "execution_count": null
        }
      ],
      "source": [
        "    File \"<input>\", line 4\n",
        "      except (IndexError, ValueError), e:\n",
        "                                       ^\n",
        "  IndentationError: unindent does not match any outer indentation level\n"
      ]
    },
    {
      "cell_type": "markdown",
      "metadata": {},
      "source": [
        "\n",
        "* Separating the exception from the variable with a comma is deprecated and does not work in Python 3; the correct way is to use `as`. Example,\n"
      ]
    },
    {
      "cell_type": "code",
      "execution_count": null,
      "metadata": {
        "collapsed": true
      },
      "outputs": [
        {
          "data": {
            "text/plain": []
          },
          "output_type": "execute_result",
          "metadata": {},
          "execution_count": null
        }
      ],
      "source": [
        "  some_list = [1, 2, 3]\n",
        "  try:\n",
        "      some_list.remove(4)\n",
        "\n",
        "  except (IndexError, ValueError) as e:\n",
        "      print(\"Caught again!\")\n",
        "      print(e)\n"
      ]
    },
    {
      "cell_type": "markdown",
      "metadata": {},
      "source": [
        "  **Output:**\n",
        "  ```\n",
        "  Caught again!\n",
        "  list.remove(x): x not in list\n",
        "  ```\n",
        "\n"
      ]
    },
    {
      "cell_type": "markdown",
      "metadata": {},
      "source": [
        "### \u25b6 Same operands, different story!\n",
        "1\\.\n"
      ]
    },
    {
      "cell_type": "code",
      "execution_count": null,
      "metadata": {
        "collapsed": true
      },
      "outputs": [
        {
          "data": {
            "text/plain": []
          },
          "output_type": "execute_result",
          "metadata": {},
          "execution_count": null
        }
      ],
      "source": [
        "a = [1, 2, 3, 4]\n",
        "b = a\n",
        "a = a + [5, 6, 7, 8]\n"
      ]
    },
    {
      "cell_type": "markdown",
      "metadata": {},
      "source": [
        "\n",
        "**Output:**\n"
      ]
    },
    {
      "cell_type": "code",
      "execution_count": null,
      "metadata": {
        "collapsed": true
      },
      "outputs": [
        {
          "data": {
            "text/plain": [
              "[1, 2, 3, 4, 5, 6, 7, 8]\n"
            ]
          },
          "output_type": "execute_result",
          "metadata": {},
          "execution_count": null
        }
      ],
      "source": [
        "a\n"
      ]
    },
    {
      "cell_type": "code",
      "execution_count": null,
      "metadata": {
        "collapsed": true
      },
      "outputs": [
        {
          "data": {
            "text/plain": [
              "[1, 2, 3, 4]\n"
            ]
          },
          "output_type": "execute_result",
          "metadata": {},
          "execution_count": null
        }
      ],
      "source": [
        "b\n"
      ]
    },
    {
      "cell_type": "markdown",
      "metadata": {},
      "source": [
        "\n",
        "2\\.\n"
      ]
    },
    {
      "cell_type": "code",
      "execution_count": null,
      "metadata": {
        "collapsed": true
      },
      "outputs": [
        {
          "data": {
            "text/plain": []
          },
          "output_type": "execute_result",
          "metadata": {},
          "execution_count": null
        }
      ],
      "source": [
        "a = [1, 2, 3, 4]\n",
        "b = a\n",
        "a += [5, 6, 7, 8]\n"
      ]
    },
    {
      "cell_type": "markdown",
      "metadata": {},
      "source": [
        "\n",
        "**Output:**\n"
      ]
    },
    {
      "cell_type": "code",
      "execution_count": null,
      "metadata": {
        "collapsed": true
      },
      "outputs": [
        {
          "data": {
            "text/plain": [
              "[1, 2, 3, 4, 5, 6, 7, 8]\n"
            ]
          },
          "output_type": "execute_result",
          "metadata": {},
          "execution_count": null
        }
      ],
      "source": [
        "a\n"
      ]
    },
    {
      "cell_type": "code",
      "execution_count": null,
      "metadata": {
        "collapsed": true
      },
      "outputs": [
        {
          "data": {
            "text/plain": [
              "[1, 2, 3, 4, 5, 6, 7, 8]\n"
            ]
          },
          "output_type": "execute_result",
          "metadata": {},
          "execution_count": null
        }
      ],
      "source": [
        "b\n"
      ]
    },
    {
      "cell_type": "markdown",
      "metadata": {},
      "source": [
        "\n"
      ]
    },
    {
      "cell_type": "markdown",
      "metadata": {},
      "source": [
        "#### \ud83d\udca1 Explanation:\n",
        "\n",
        "*  `a += b` doesn't always behave the same way as `a = a + b`.  Classes *may* implement the *`op=`* operators differently, and lists do this.\n",
        "\n",
        "* The expression `a = a + [5,6,7,8]` generates a new list and sets `a`'s reference to that new list, leaving `b` unchanged.\n",
        "\n",
        "* The expression `a += [5,6,7,8]` is actually mapped to an \"extend\" function that operates on the list such that `a` and `b` still point to the same list that has been modified in-place.\n",
        "\n"
      ]
    },
    {
      "cell_type": "markdown",
      "metadata": {},
      "source": [
        "### \u25b6 Name resolution ignoring class scope\n",
        "1\\.\n"
      ]
    },
    {
      "cell_type": "code",
      "execution_count": null,
      "metadata": {
        "collapsed": true
      },
      "outputs": [
        {
          "data": {
            "text/plain": []
          },
          "output_type": "execute_result",
          "metadata": {},
          "execution_count": null
        }
      ],
      "source": [
        "x = 5\n",
        "class SomeClass:\n",
        "    x = 17\n",
        "    y = (x for i in range(10))\n"
      ]
    },
    {
      "cell_type": "markdown",
      "metadata": {},
      "source": [
        "\n",
        "**Output:**\n"
      ]
    },
    {
      "cell_type": "code",
      "execution_count": null,
      "metadata": {
        "collapsed": true
      },
      "outputs": [
        {
          "data": {
            "text/plain": [
              "5\n"
            ]
          },
          "output_type": "execute_result",
          "metadata": {},
          "execution_count": null
        }
      ],
      "source": [
        "list(SomeClass.y)[0]\n"
      ]
    },
    {
      "cell_type": "markdown",
      "metadata": {},
      "source": [
        "\n",
        "2\\.\n"
      ]
    },
    {
      "cell_type": "code",
      "execution_count": null,
      "metadata": {
        "collapsed": true
      },
      "outputs": [
        {
          "data": {
            "text/plain": []
          },
          "output_type": "execute_result",
          "metadata": {},
          "execution_count": null
        }
      ],
      "source": [
        "x = 5\n",
        "class SomeClass:\n",
        "    x = 17\n",
        "    y = [x for i in range(10)]\n"
      ]
    },
    {
      "cell_type": "markdown",
      "metadata": {},
      "source": [
        "\n",
        "**Output (Python 2.x):**\n"
      ]
    },
    {
      "cell_type": "code",
      "execution_count": null,
      "metadata": {
        "collapsed": true
      },
      "outputs": [
        {
          "data": {
            "text/plain": [
              "17\n"
            ]
          },
          "output_type": "execute_result",
          "metadata": {},
          "execution_count": null
        }
      ],
      "source": [
        "SomeClass.y[0]\n"
      ]
    },
    {
      "cell_type": "markdown",
      "metadata": {},
      "source": [
        "\n",
        "**Output (Python 3.x):**\n"
      ]
    },
    {
      "cell_type": "code",
      "execution_count": null,
      "metadata": {
        "collapsed": true
      },
      "outputs": [
        {
          "data": {
            "text/plain": [
              "5\n"
            ]
          },
          "output_type": "execute_result",
          "metadata": {},
          "execution_count": null
        }
      ],
      "source": [
        "SomeClass.y[0]\n"
      ]
    },
    {
      "cell_type": "markdown",
      "metadata": {},
      "source": [
        "\n"
      ]
    },
    {
      "cell_type": "markdown",
      "metadata": {},
      "source": [
        "#### \ud83d\udca1 Explanation\n",
        "- Scopes nested inside class definition ignore names bound at the class level.\n",
        "- A generator expression has its own scope.\n",
        "- Starting from Python 3.X, list comprehensions also have their own scope.\n",
        "\n"
      ]
    },
    {
      "cell_type": "markdown",
      "metadata": {},
      "source": [
        "### \u25b6 Needles in a Haystack *\n",
        "I haven't met even a single experience Pythonist till date who has not come across one or more of the following scenarios,\n",
        "\n",
        "1\\.\n",
        "\n"
      ]
    },
    {
      "cell_type": "code",
      "execution_count": null,
      "metadata": {
        "collapsed": true
      },
      "outputs": [
        {
          "data": {
            "text/plain": []
          },
          "output_type": "execute_result",
          "metadata": {},
          "execution_count": null
        }
      ],
      "source": [
        "x, y = (0, 1) if True else None, None\n"
      ]
    },
    {
      "cell_type": "markdown",
      "metadata": {},
      "source": [
        "\n",
        "**Output:**\n",
        "\n"
      ]
    },
    {
      "cell_type": "code",
      "execution_count": null,
      "metadata": {
        "collapsed": true
      },
      "outputs": [
        {
          "data": {
            "text/plain": [
              "((0, 1), None)\n"
            ]
          },
          "output_type": "execute_result",
          "metadata": {},
          "execution_count": null
        }
      ],
      "source": [
        "x, y  # expected (0, 1)\n"
      ]
    },
    {
      "cell_type": "markdown",
      "metadata": {},
      "source": [
        "\n",
        "2\\.\n",
        "\n"
      ]
    },
    {
      "cell_type": "code",
      "metadata": {
        "collapsed": true
      },
      "execution_count": null,
      "outputs": [
        {
          "name": "stdout",
          "output_type": "stream",
          "text": []
        }
      ],
      "source": [
        "t = ('one', 'two')\n",
        "for i in t:\n",
        "    print(i)\n",
        "\n",
        "t = ('one')\n",
        "for i in t:\n",
        "    print(i)\n",
        "\n",
        "t = ()\n",
        "print(t)\n"
      ]
    },
    {
      "cell_type": "markdown",
      "metadata": {},
      "source": [
        "\n",
        "**Output:**\n",
        "\n"
      ]
    },
    {
      "cell_type": "code",
      "execution_count": null,
      "metadata": {
        "collapsed": true
      },
      "outputs": [
        {
          "data": {
            "text/plain": []
          },
          "output_type": "execute_result",
          "metadata": {},
          "execution_count": null
        }
      ],
      "source": [
        "one\n",
        "two\n",
        "o\n",
        "n\n",
        "e\n",
        "tuple()\n"
      ]
    },
    {
      "cell_type": "markdown",
      "metadata": {},
      "source": [
        "\n",
        "3\\.\n",
        "\n",
        "```\n",
        "ten_words_list = [\n",
        "    \"some\",\n",
        "    \"very\",\n",
        "    \"big\",\n",
        "    \"list\",\n",
        "    \"that\"\n",
        "    \"consists\",\n",
        "    \"of\",\n",
        "    \"exactly\",\n",
        "    \"ten\",\n",
        "    \"words\"\n",
        "]\n",
        "```\n",
        "\n",
        "**Output**\n",
        "\n"
      ]
    },
    {
      "cell_type": "code",
      "execution_count": null,
      "metadata": {
        "collapsed": true
      },
      "outputs": [
        {
          "data": {
            "text/plain": [
              "9\n"
            ]
          },
          "output_type": "execute_result",
          "metadata": {},
          "execution_count": null
        }
      ],
      "source": [
        "len(ten_words_list)\n"
      ]
    },
    {
      "cell_type": "markdown",
      "metadata": {},
      "source": [
        "\n",
        "4\\. Not asserting strongly enough\n",
        "\n"
      ]
    },
    {
      "cell_type": "code",
      "execution_count": null,
      "metadata": {
        "collapsed": true
      },
      "outputs": [
        {
          "data": {
            "text/plain": []
          },
          "output_type": "execute_result",
          "metadata": {},
          "execution_count": null
        }
      ],
      "source": [
        "a = \"python\"\n",
        "b = \"javascript\"\n"
      ]
    },
    {
      "cell_type": "markdown",
      "metadata": {},
      "source": [
        "\n",
        "**Output:**\n",
        "\n"
      ]
    },
    {
      "cell_type": "code",
      "execution_count": null,
      "metadata": {
        "collapsed": true
      },
      "outputs": [
        {
          "data": {
            "text/plain": [
              "# No AssertionError is raised\n"
            ]
          },
          "output_type": "execute_result",
          "metadata": {},
          "execution_count": null
        }
      ],
      "source": [
        "# An assert statement with an assertion failure message.\n",
        "assert(a == b, \"Both languages are different\")\n"
      ]
    },
    {
      "cell_type": "markdown",
      "metadata": {},
      "source": [
        "\n",
        "5\\.\n",
        "\n"
      ]
    },
    {
      "cell_type": "code",
      "execution_count": null,
      "metadata": {
        "collapsed": true
      },
      "outputs": [
        {
          "data": {
            "text/plain": []
          },
          "output_type": "execute_result",
          "metadata": {},
          "execution_count": null
        }
      ],
      "source": [
        "some_list = [1, 2, 3]\n",
        "some_dict = {\n",
        "  \"key_1\": 1,\n",
        "  \"key_2\": 2,\n",
        "  \"key_3\": 3\n",
        "}\n",
        "\n",
        "some_list = some_list.append(4) \n",
        "some_dict = some_dict.update({\"key_4\": 4})\n"
      ]
    },
    {
      "cell_type": "markdown",
      "metadata": {},
      "source": [
        "\n",
        "**Output:**\n",
        "\n"
      ]
    },
    {
      "cell_type": "code",
      "metadata": {
        "collapsed": true
      },
      "execution_count": null,
      "outputs": [
        {
          "name": "stdout",
          "output_type": "stream",
          "text": [
            "None\n"
          ]
        }
      ],
      "source": [
        "print(some_list)\n"
      ]
    },
    {
      "cell_type": "code",
      "metadata": {
        "collapsed": true
      },
      "execution_count": null,
      "outputs": [
        {
          "name": "stdout",
          "output_type": "stream",
          "text": [
            "None\n"
          ]
        }
      ],
      "source": [
        "print(some_dict)\n"
      ]
    },
    {
      "cell_type": "markdown",
      "metadata": {},
      "source": [
        "\n",
        "6\\.\n",
        "\n"
      ]
    },
    {
      "cell_type": "code",
      "execution_count": null,
      "metadata": {
        "collapsed": true
      },
      "outputs": [
        {
          "data": {
            "text/plain": []
          },
          "output_type": "execute_result",
          "metadata": {},
          "execution_count": null
        }
      ],
      "source": [
        "def some_recursive_func(a):\n",
        "    if a[0] == 0:\n",
        "        return\n",
        "    a[0] -= 1\n",
        "    some_recursive_func(a)\n",
        "    return a\n",
        "\n",
        "def similar_recursive_func(a):\n",
        "    if a == 0:\n",
        "        return a\n",
        "    a -= 1\n",
        "    similar_recursive_func(a)\n",
        "    return a\n"
      ]
    },
    {
      "cell_type": "markdown",
      "metadata": {},
      "source": [
        "\n",
        "**Output:**\n",
        "\n"
      ]
    },
    {
      "cell_type": "code",
      "execution_count": null,
      "metadata": {
        "collapsed": true
      },
      "outputs": [
        {
          "data": {
            "text/plain": [
              "[0, 0]\n"
            ]
          },
          "output_type": "execute_result",
          "metadata": {},
          "execution_count": null
        }
      ],
      "source": [
        "some_recursive_func([5, 0])\n"
      ]
    },
    {
      "cell_type": "code",
      "execution_count": null,
      "metadata": {
        "collapsed": true
      },
      "outputs": [
        {
          "data": {
            "text/plain": [
              "4\n"
            ]
          },
          "output_type": "execute_result",
          "metadata": {},
          "execution_count": null
        }
      ],
      "source": [
        "similar_recursive_func(5)\n"
      ]
    },
    {
      "cell_type": "markdown",
      "metadata": {},
      "source": [
        "\n"
      ]
    },
    {
      "cell_type": "markdown",
      "metadata": {},
      "source": [
        "#### \ud83d\udca1 Explanation:\n",
        "\n",
        "* For 1, the correct statement for expected behavior is `x, y = (0, 1) if True else (None, None)`.\n",
        "\n",
        "* For 2, the correct statement for expected behavior is `t = ('one',)` or `t = 'one',` (missing comma) otherwise the interpreter considers `t` to be a `str` and iterates over it character by character.\n",
        "\n",
        "* `()` is a special token and denotes empty `tuple`.\n",
        "\n",
        "* In 3, as you might have already figured out, there's a missing comma after 5th element (`\"that\"`) in the list. So by implicit string literal concatenation,\n",
        "\n"
      ]
    },
    {
      "cell_type": "code",
      "execution_count": null,
      "metadata": {
        "collapsed": true
      },
      "outputs": [
        {
          "data": {
            "text/plain": [
              "  ['some', 'very', 'big', 'list', 'thatconsists', 'of', 'exactly', 'ten', 'words']\n"
            ]
          },
          "output_type": "execute_result",
          "metadata": {},
          "execution_count": null
        }
      ],
      "source": [
        "  ten_words_list\n"
      ]
    },
    {
      "cell_type": "markdown",
      "metadata": {},
      "source": [
        "\n",
        "* No `AssertionError` was raised in 4th snippet because instead of asserting the individual expression `a == b`, we're asserting entire tuple. The following snippet will clear things up,\n",
        "\n"
      ]
    },
    {
      "cell_type": "code",
      "execution_count": null,
      "metadata": {
        "collapsed": true
      },
      "outputs": [
        {
          "data": {
            "text/plain": [
              "  Traceback (most recent call last):\n",
              "      File \"<stdin>\", line 1, in <module>\n",
              "  AssertionError\n",
              "  \n"
            ]
          },
          "output_type": "execute_result",
          "metadata": {},
          "execution_count": null
        }
      ],
      "source": [
        "  a = \"python\"\n",
        "  b = \"javascript\"\n",
        "  assert a == b\n"
      ]
    },
    {
      "cell_type": "code",
      "execution_count": null,
      "metadata": {
        "collapsed": true
      },
      "outputs": [
        {
          "data": {
            "text/plain": [
              "  <stdin>:1: SyntaxWarning: assertion is always true, perhaps remove parentheses?\n",
              "  \n"
            ]
          },
          "output_type": "execute_result",
          "metadata": {},
          "execution_count": null
        }
      ],
      "source": [
        "  assert (a == b, \"Values are not equal\")\n"
      ]
    },
    {
      "cell_type": "code",
      "execution_count": null,
      "metadata": {
        "collapsed": true
      },
      "outputs": [
        {
          "data": {
            "text/plain": [
              "  Traceback (most recent call last):\n",
              "      File \"<stdin>\", line 1, in <module>\n",
              "  AssertionError: Values are not equal\n"
            ]
          },
          "output_type": "execute_result",
          "metadata": {},
          "execution_count": null
        }
      ],
      "source": [
        "  assert a == b, \"Values are not equal\"\n"
      ]
    },
    {
      "cell_type": "markdown",
      "metadata": {},
      "source": [
        "\n",
        "* As for the fifth snippet, most methods that modify the items of sequence/mapping objects like `list.append`, `dict.update`, `list.sort`, etc. modify the objects in-place and return `None`. The rationale behind this is to improve performance by avoiding making a copy of the object if the operation can be done in-place (Referred from [here](https://docs.python.org/3/faq/design.html#why-doesn-t-list-sort-return-the-sorted-list)).\n",
        "\n",
        "* Last one should be fairly obvious, mutable object (like `list`) can be altered in the function, and the reassignation of an immutable (`a -= 1`) is not an alteration of the value.\n",
        "\n",
        "* Being aware of these nitpicks can save you hours of debugging effort in the long run. \n",
        "\n"
      ]
    },
    {
      "cell_type": "markdown",
      "metadata": {},
      "source": [
        "### \u25b6 Splitsies *\n"
      ]
    },
    {
      "cell_type": "code",
      "execution_count": null,
      "metadata": {
        "collapsed": true
      },
      "outputs": [
        {
          "data": {
            "text/plain": [
              "['a']\n",
              "\n",
              "# is same as\n"
            ]
          },
          "output_type": "execute_result",
          "metadata": {},
          "execution_count": null
        }
      ],
      "source": [
        "'a'.split()\n"
      ]
    },
    {
      "cell_type": "code",
      "execution_count": null,
      "metadata": {
        "collapsed": true
      },
      "outputs": [
        {
          "data": {
            "text/plain": [
              "['a']\n",
              "\n",
              "# but\n"
            ]
          },
          "output_type": "execute_result",
          "metadata": {},
          "execution_count": null
        }
      ],
      "source": [
        "'a'.split(' ')\n"
      ]
    },
    {
      "cell_type": "code",
      "execution_count": null,
      "metadata": {
        "collapsed": true
      },
      "outputs": [
        {
          "data": {
            "text/plain": [
              "0\n",
              "\n",
              "# isn't the same as\n"
            ]
          },
          "output_type": "execute_result",
          "metadata": {},
          "execution_count": null
        }
      ],
      "source": [
        "len(''.split())\n"
      ]
    },
    {
      "cell_type": "code",
      "execution_count": null,
      "metadata": {
        "collapsed": true
      },
      "outputs": [
        {
          "data": {
            "text/plain": [
              "1\n"
            ]
          },
          "output_type": "execute_result",
          "metadata": {},
          "execution_count": null
        }
      ],
      "source": [
        "len(''.split(' '))\n"
      ]
    },
    {
      "cell_type": "markdown",
      "metadata": {},
      "source": [
        "\n"
      ]
    },
    {
      "cell_type": "markdown",
      "metadata": {},
      "source": [
        "#### \ud83d\udca1 Explanation:\n",
        "\n",
        "- It might appear at first that the default separator for split is a single space `' '`, but as per the [docs](https://docs.python.org/3/library/stdtypes.html#str.split)\n",
        "    >  If sep is not specified or is `None`, a different splitting algorithm is applied: runs of consecutive whitespace are regarded as a single separator, and the result will contain no empty strings at the start or end if the string has leading or trailing whitespace. Consequently, splitting an empty string or a string consisting of just whitespace with a None separator returns `[]`.\n",
        "    > If sep is given, consecutive delimiters are not grouped together and are deemed to delimit empty strings (for example, `'1,,2'.split(',')` returns `['1', '', '2']`). Splitting an empty string with a specified separator returns `['']`.\n",
        "- Noticing how the leading and trailing whitespaces are handled in the following snippet will make things clear,\n"
      ]
    },
    {
      "cell_type": "code",
      "execution_count": null,
      "metadata": {
        "collapsed": true
      },
      "outputs": [
        {
          "data": {
            "text/plain": [
              "    ['', 'a', '']\n"
            ]
          },
          "output_type": "execute_result",
          "metadata": {},
          "execution_count": null
        }
      ],
      "source": [
        "    ' a '.split(' ')\n"
      ]
    },
    {
      "cell_type": "code",
      "execution_count": null,
      "metadata": {
        "collapsed": true
      },
      "outputs": [
        {
          "data": {
            "text/plain": [
              "    ['a']\n"
            ]
          },
          "output_type": "execute_result",
          "metadata": {},
          "execution_count": null
        }
      ],
      "source": [
        "    ' a '.split()\n"
      ]
    },
    {
      "cell_type": "code",
      "execution_count": null,
      "metadata": {
        "collapsed": true
      },
      "outputs": [
        {
          "data": {
            "text/plain": [
              "    ['']\n"
            ]
          },
          "output_type": "execute_result",
          "metadata": {},
          "execution_count": null
        }
      ],
      "source": [
        "    ''.split(' ')\n"
      ]
    },
    {
      "cell_type": "markdown",
      "metadata": {},
      "source": [
        "\n"
      ]
    },
    {
      "cell_type": "markdown",
      "metadata": {},
      "source": [
        "### \u25b6 All sorted? *\n"
      ]
    },
    {
      "cell_type": "code",
      "execution_count": null,
      "metadata": {
        "collapsed": true
      },
      "outputs": [
        {
          "data": {
            "text/plain": [
              "False\n"
            ]
          },
          "output_type": "execute_result",
          "metadata": {},
          "execution_count": null
        }
      ],
      "source": [
        "x = 7, 8, 9\n",
        "sorted(x) == x\n"
      ]
    },
    {
      "cell_type": "code",
      "execution_count": null,
      "metadata": {
        "collapsed": true
      },
      "outputs": [
        {
          "data": {
            "text/plain": [
              "True\n",
              "\n"
            ]
          },
          "output_type": "execute_result",
          "metadata": {},
          "execution_count": null
        }
      ],
      "source": [
        "sorted(x) == sorted(x)\n"
      ]
    },
    {
      "cell_type": "code",
      "execution_count": null,
      "metadata": {
        "collapsed": true
      },
      "outputs": [
        {
          "data": {
            "text/plain": [
              "False\n"
            ]
          },
          "output_type": "execute_result",
          "metadata": {},
          "execution_count": null
        }
      ],
      "source": [
        "y = reversed(x)\n",
        "sorted(y) == sorted(y)\n"
      ]
    },
    {
      "cell_type": "markdown",
      "metadata": {},
      "source": [
        "\n"
      ]
    },
    {
      "cell_type": "markdown",
      "metadata": {},
      "source": [
        "#### \ud83d\udca1 Explanation:\n",
        "\n",
        "- The `sorted` method always returns a list, and comparing lists and tuples always returns `False` in Python. \n",
        "\n",
        "- ```py\n",
        "  >>> [] == tuple()\n",
        "  False\n",
        "  >>> x = 7, 8, 9\n",
        "  >>> type(x), type(sorted(x))\n",
        "  (tuple, list)\n",
        "  ```\n",
        "\n",
        "- Unlike `sorted`, the `reversed` method returns an iterator. Why? Because sorting requires the iterator to be either modified in-place or use an extra container (a list), whereas reversing can simply work by iterating from the last index to the first.\n",
        "\n",
        "- So during comparison `sorted(y) == sorted(y)`, the first call to `sorted()` will consume the iterator `y`, and the next call will just return an empty list.\n",
        "\n"
      ]
    },
    {
      "cell_type": "code",
      "execution_count": null,
      "metadata": {
        "collapsed": true
      },
      "outputs": [
        {
          "data": {
            "text/plain": [
              "  ([7, 8, 9], [])\n"
            ]
          },
          "output_type": "execute_result",
          "metadata": {},
          "execution_count": null
        }
      ],
      "source": [
        "  x = 7, 8, 9\n",
        "  y = reversed(x)\n",
        "  sorted(y), sorted(y)\n"
      ]
    },
    {
      "cell_type": "markdown",
      "metadata": {},
      "source": [
        "\n"
      ]
    },
    {
      "cell_type": "markdown",
      "metadata": {},
      "source": [
        "### \u25b6 Midnight time doesn't exist?\n"
      ]
    },
    {
      "cell_type": "code",
      "execution_count": null,
      "metadata": {
        "collapsed": true
      },
      "outputs": [
        {
          "data": {
            "text/plain": []
          },
          "output_type": "execute_result",
          "metadata": {},
          "execution_count": null
        }
      ],
      "source": [
        "from datetime import datetime\n",
        "\n",
        "midnight = datetime(2018, 1, 1, 0, 0)\n",
        "midnight_time = midnight.time()\n",
        "\n",
        "noon = datetime(2018, 1, 1, 12, 0)\n",
        "noon_time = noon.time()\n",
        "\n",
        "if midnight_time:\n",
        "    print(\"Time at midnight is\", midnight_time)\n",
        "\n",
        "if noon_time:\n",
        "    print(\"Time at noon is\", noon_time)\n"
      ]
    },
    {
      "cell_type": "markdown",
      "metadata": {},
      "source": [
        "\n",
        "**Output (< 3.5):**\n",
        "\n"
      ]
    },
    {
      "cell_type": "code",
      "execution_count": null,
      "metadata": {
        "collapsed": true
      },
      "outputs": [
        {
          "data": {
            "text/plain": []
          },
          "output_type": "execute_result",
          "metadata": {},
          "execution_count": null
        }
      ],
      "source": [
        "('Time at noon is', datetime.time(12, 0))\n"
      ]
    },
    {
      "cell_type": "markdown",
      "metadata": {},
      "source": [
        "The midnight time is not printed.\n",
        "\n"
      ]
    },
    {
      "cell_type": "markdown",
      "metadata": {},
      "source": [
        "#### \ud83d\udca1 Explanation:\n",
        "\n",
        "Before Python 3.5, the boolean value for `datetime.time` object was considered to be `False` if it represented midnight in UTC. It is error-prone when using the `if obj:` syntax to check if the `obj` is null or some equivalent of \"empty.\"\n",
        "\n"
      ]
    },
    {
      "cell_type": "markdown",
      "metadata": {},
      "source": [
        "### \u25b6 Okay Python, Can you make me fly?\n",
        "Well, here you go\n",
        "\n"
      ]
    },
    {
      "cell_type": "code",
      "execution_count": null,
      "metadata": {
        "collapsed": true
      },
      "outputs": [
        {
          "data": {
            "text/plain": []
          },
          "output_type": "execute_result",
          "metadata": {},
          "execution_count": null
        }
      ],
      "source": [
        "import antigravity\n"
      ]
    },
    {
      "cell_type": "markdown",
      "metadata": {},
      "source": [
        "\n",
        "**Output:**\n",
        "Sshh... It's a super-secret.\n",
        "\n"
      ]
    },
    {
      "cell_type": "markdown",
      "metadata": {},
      "source": [
        "#### \ud83d\udca1 Explanation:\n",
        "+ `antigravity` module is one of the few easter eggs released by Python developers.\n",
        "+ `import antigravity` opens up a web browser pointing to the [classic XKCD comic](https://xkcd.com/353/) about Python.\n",
        "+ Well, there's more to it. There's **another easter egg inside the easter egg**. If you look at the [code](https://github.com/python/cpython/blob/master/Lib/antigravity.py#L7-L17), there's a function defined that purports to implement the [XKCD's geohashing algorithm](https://xkcd.com/426/).\n",
        "\n"
      ]
    },
    {
      "cell_type": "markdown",
      "metadata": {},
      "source": [
        "### \u25b6 `goto`, but why?\n"
      ]
    },
    {
      "cell_type": "code",
      "metadata": {
        "collapsed": true
      },
      "execution_count": null,
      "outputs": [
        {
          "name": "stdout",
          "output_type": "stream",
          "text": []
        }
      ],
      "source": [
        "from goto import goto, label\n",
        "for i in range(9):\n",
        "    for j in range(9):\n",
        "        for k in range(9):\n",
        "            print(\"I am trapped, please rescue!\")\n",
        "            if k == 2:\n",
        "                goto .breakout # breaking out from a deeply nested loop\n",
        "label .breakout\n",
        "print(\"Freedom!\")\n"
      ]
    },
    {
      "cell_type": "markdown",
      "metadata": {},
      "source": [
        "\n",
        "**Output (Python 2.3):**\n"
      ]
    },
    {
      "cell_type": "code",
      "execution_count": null,
      "metadata": {
        "collapsed": true
      },
      "outputs": [
        {
          "data": {
            "text/plain": []
          },
          "output_type": "execute_result",
          "metadata": {},
          "execution_count": null
        }
      ],
      "source": [
        "I am trapped, please rescue!\n",
        "I am trapped, please rescue!\n",
        "Freedom!\n"
      ]
    },
    {
      "cell_type": "markdown",
      "metadata": {},
      "source": [
        "\n"
      ]
    },
    {
      "cell_type": "markdown",
      "metadata": {},
      "source": [
        "#### \ud83d\udca1 Explanation:\n",
        "- A working version of `goto` in Python was [announced](https://mail.python.org/pipermail/python-announce-list/2004-April/002982.html) as an April Fool's joke on 1st April 2004.\n",
        "- Current versions of Python do not have this module.\n",
        "- Although it works, but please don't use it. Here's the [reason](https://docs.python.org/3/faq/design.html#why-is-there-no-goto) to why `goto` is not present in Python.\n",
        "\n"
      ]
    },
    {
      "cell_type": "markdown",
      "metadata": {},
      "source": [
        "### \u25b6 Brace yourself!\n",
        "If you are one of the people who doesn't like using whitespace in Python to denote scopes, you can use the C-style {} by importing,\n",
        "\n"
      ]
    },
    {
      "cell_type": "code",
      "execution_count": null,
      "metadata": {
        "collapsed": true
      },
      "outputs": [
        {
          "data": {
            "text/plain": []
          },
          "output_type": "execute_result",
          "metadata": {},
          "execution_count": null
        }
      ],
      "source": [
        "from __future__ import braces\n"
      ]
    },
    {
      "cell_type": "markdown",
      "metadata": {},
      "source": [
        "\n",
        "**Output:**\n"
      ]
    },
    {
      "cell_type": "code",
      "execution_count": null,
      "metadata": {
        "collapsed": true
      },
      "outputs": [
        {
          "data": {
            "text/plain": []
          },
          "output_type": "execute_result",
          "metadata": {},
          "execution_count": null
        }
      ],
      "source": [
        "  File \"some_file.py\", line 1\n",
        "    from __future__ import braces\n",
        "SyntaxError: not a chance\n"
      ]
    },
    {
      "cell_type": "markdown",
      "metadata": {},
      "source": [
        "\n",
        "Braces? No way! If you think that's disappointing, use Java. Okay, another surprising thing, can you find where's the `SyntaxError` raised in `__future__` module [code](https://github.com/python/cpython/blob/master/Lib/__future__.py)?\n",
        "\n"
      ]
    },
    {
      "cell_type": "markdown",
      "metadata": {},
      "source": [
        "#### \ud83d\udca1 Explanation:\n",
        "+ The `__future__` module is normally used to provide features from future versions of Python. The \"future\" in this specific context is however, ironic.\n",
        "+ This is an easter egg concerned with the community's feelings on this issue.\n",
        "+ The code is actually present [here](https://github.com/python/cpython/blob/025eb98dc0c1dc27404df6c544fc2944e0fa9f3a/Python/future.c#L49) in `future.c` file.\n",
        "+ When the CPython compiler encounters a [future statement](https://docs.python.org/3.3/reference/simple_stmts.html#future-statements), it first runs the appropriate code in `future.c` before treating it as a normal import statement.\n",
        "\n"
      ]
    },
    {
      "cell_type": "markdown",
      "metadata": {},
      "source": [
        "### \u25b6 Let's meet Friendly Language Uncle For Life\n",
        "**Output (Python 3.x)**\n"
      ]
    },
    {
      "cell_type": "code",
      "execution_count": null,
      "metadata": {
        "collapsed": true
      },
      "outputs": [
        {
          "data": {
            "text/plain": [
              "  File \"some_file.py\", line 1\n",
              "    \"Ruby\" != \"Python\"\n",
              "              ^\n",
              "SyntaxError: invalid syntax\n",
              "\n"
            ]
          },
          "output_type": "execute_result",
          "metadata": {},
          "execution_count": null
        }
      ],
      "source": [
        "from __future__ import barry_as_FLUFL\n",
        "\"Ruby\" != \"Python\" # there's no doubt about it\n"
      ]
    },
    {
      "cell_type": "code",
      "execution_count": null,
      "metadata": {
        "collapsed": true
      },
      "outputs": [
        {
          "data": {
            "text/plain": [
              "True\n"
            ]
          },
          "output_type": "execute_result",
          "metadata": {},
          "execution_count": null
        }
      ],
      "source": [
        "\"Ruby\" <> \"Python\"\n"
      ]
    },
    {
      "cell_type": "markdown",
      "metadata": {},
      "source": [
        "\n",
        "There we go.\n",
        "\n"
      ]
    },
    {
      "cell_type": "markdown",
      "metadata": {},
      "source": [
        "#### \ud83d\udca1 Explanation:\n",
        "- This is relevant to [PEP-401](https://www.python.org/dev/peps/pep-0401/) released on April 1, 2009 (now you know, what it means).\n",
        "- Quoting from the PEP-401\n",
        "  \n",
        "  > Recognized that the != inequality operator in Python 3.0 was a horrible, finger-pain inducing mistake, the FLUFL reinstates the <> diamond operator as the sole spelling.\n",
        "- There were more things that Uncle Barry had to share in the PEP; you can read them [here](https://www.python.org/dev/peps/pep-0401/).\n",
        "- It works well in an interactive environment, but it will raise a `SyntaxError` when you run via python file (see this [issue](https://github.com/satwikkansal/wtfpython/issues/94)). However, you can wrap the statement inside an `eval` or `compile` to get it working,\n"
      ]
    },
    {
      "cell_type": "code",
      "execution_count": null,
      "metadata": {
        "collapsed": true
      },
      "outputs": [
        {
          "data": {
            "text/plain": []
          },
          "output_type": "execute_result",
          "metadata": {},
          "execution_count": null
        }
      ],
      "source": [
        "    from __future__ import barry_as_FLUFL\n",
        "    print(eval('\"Ruby\" <> \"Python\"'))\n"
      ]
    },
    {
      "cell_type": "markdown",
      "metadata": {},
      "source": [
        "\n"
      ]
    },
    {
      "cell_type": "markdown",
      "metadata": {},
      "source": [
        "### \u25b6 Even Python understands that love is complicated\n"
      ]
    },
    {
      "cell_type": "code",
      "execution_count": null,
      "metadata": {
        "collapsed": true
      },
      "outputs": [
        {
          "data": {
            "text/plain": []
          },
          "output_type": "execute_result",
          "metadata": {},
          "execution_count": null
        }
      ],
      "source": [
        "import this\n"
      ]
    },
    {
      "cell_type": "markdown",
      "metadata": {},
      "source": [
        "\n",
        "Wait, what's **this**? `this` is love :heart:\n",
        "\n",
        "**Output:**\n",
        "```\n",
        "The Zen of Python, by Tim Peters\n",
        "\n",
        "Beautiful is better than ugly.\n",
        "Explicit is better than implicit.\n",
        "Simple is better than complex.\n",
        "Complex is better than complicated.\n",
        "Flat is better than nested.\n",
        "Sparse is better than dense.\n",
        "Readability counts.\n",
        "Special cases aren't special enough to break the rules.\n",
        "Although practicality beats purity.\n",
        "Errors should never pass silently.\n",
        "Unless explicitly silenced.\n",
        "In the face of ambiguity, refuse the temptation to guess.\n",
        "There should be one-- and preferably only one --obvious way to do it.\n",
        "Although that way may not be obvious at first unless you're Dutch.\n",
        "Now is better than never.\n",
        "Although never is often better than *right* now.\n",
        "If the implementation is hard to explain, it's a bad idea.\n",
        "If the implementation is easy to explain, it may be a good idea.\n",
        "Namespaces are one honking great idea -- let's do more of those!\n",
        "```\n",
        "\n",
        "It's the Zen of Python!\n",
        "\n"
      ]
    },
    {
      "cell_type": "code",
      "execution_count": null,
      "metadata": {
        "collapsed": true
      },
      "outputs": [
        {
          "data": {
            "text/plain": [
              "True\n"
            ]
          },
          "output_type": "execute_result",
          "metadata": {},
          "execution_count": null
        }
      ],
      "source": [
        "love = this\n",
        "this is love\n"
      ]
    },
    {
      "cell_type": "code",
      "execution_count": null,
      "metadata": {
        "collapsed": true
      },
      "outputs": [
        {
          "data": {
            "text/plain": [
              "False\n"
            ]
          },
          "output_type": "execute_result",
          "metadata": {},
          "execution_count": null
        }
      ],
      "source": [
        "love is True\n"
      ]
    },
    {
      "cell_type": "code",
      "execution_count": null,
      "metadata": {
        "collapsed": true
      },
      "outputs": [
        {
          "data": {
            "text/plain": [
              "False\n"
            ]
          },
          "output_type": "execute_result",
          "metadata": {},
          "execution_count": null
        }
      ],
      "source": [
        "love is False\n"
      ]
    },
    {
      "cell_type": "code",
      "execution_count": null,
      "metadata": {
        "collapsed": true
      },
      "outputs": [
        {
          "data": {
            "text/plain": [
              "True\n"
            ]
          },
          "output_type": "execute_result",
          "metadata": {},
          "execution_count": null
        }
      ],
      "source": [
        "love is not True or False\n"
      ]
    },
    {
      "cell_type": "code",
      "execution_count": null,
      "metadata": {
        "collapsed": true
      },
      "outputs": [
        {
          "data": {
            "text/plain": [
              "True\n"
            ]
          },
          "output_type": "execute_result",
          "metadata": {},
          "execution_count": null
        }
      ],
      "source": [
        "love is not True or False; love is love  # Love is complicated\n"
      ]
    },
    {
      "cell_type": "markdown",
      "metadata": {},
      "source": [
        "\n"
      ]
    },
    {
      "cell_type": "markdown",
      "metadata": {},
      "source": [
        "#### \ud83d\udca1 Explanation:\n",
        "\n",
        "* `this` module in Python is an easter egg for The Zen Of Python ([PEP 20](https://www.python.org/dev/peps/pep-0020)).\n",
        "* And if you think that's already interesting enough, check out the implementation of [this.py](https://hg.python.org/cpython/file/c3896275c0f6/Lib/this.py). Interestingly, **the code for the Zen violates itself** (and that's probably the only place where this happens).\n",
        "* Regarding the statement `love is not True or False; love is love`, ironic but it's self-explanatory (if not, please see the examples related to `is` and `is not` operators).\n",
        "\n"
      ]
    },
    {
      "cell_type": "markdown",
      "metadata": {},
      "source": [
        "### \u25b6 Yes, it exists!\n",
        "**The `else` clause for loops.** One typical example might be:\n",
        "\n"
      ]
    },
    {
      "cell_type": "code",
      "execution_count": null,
      "metadata": {
        "collapsed": true
      },
      "outputs": [
        {
          "data": {
            "text/plain": []
          },
          "output_type": "execute_result",
          "metadata": {},
          "execution_count": null
        }
      ],
      "source": [
        "  def does_exists_num(l, to_find):\n",
        "      for num in l:\n",
        "          if num == to_find:\n",
        "              print(\"Exists!\")\n",
        "              break\n",
        "      else:\n",
        "          print(\"Does not exist\")\n"
      ]
    },
    {
      "cell_type": "markdown",
      "metadata": {},
      "source": [
        "\n",
        "**Output:**\n"
      ]
    },
    {
      "cell_type": "code",
      "execution_count": null,
      "metadata": {
        "collapsed": true
      },
      "outputs": [
        {
          "data": {
            "text/plain": [
              "Exists!\n"
            ]
          },
          "output_type": "execute_result",
          "metadata": {},
          "execution_count": null
        }
      ],
      "source": [
        "some_list = [1, 2, 3, 4, 5]\n",
        "does_exists_num(some_list, 4)\n"
      ]
    },
    {
      "cell_type": "code",
      "execution_count": null,
      "metadata": {
        "collapsed": true
      },
      "outputs": [
        {
          "data": {
            "text/plain": [
              "Does not exist\n"
            ]
          },
          "output_type": "execute_result",
          "metadata": {},
          "execution_count": null
        }
      ],
      "source": [
        "does_exists_num(some_list, -1)\n"
      ]
    },
    {
      "cell_type": "markdown",
      "metadata": {},
      "source": [
        "\n",
        "**The `else` clause in exception handling.** An example,\n",
        "\n"
      ]
    },
    {
      "cell_type": "code",
      "execution_count": null,
      "metadata": {
        "collapsed": true
      },
      "outputs": [
        {
          "data": {
            "text/plain": []
          },
          "output_type": "execute_result",
          "metadata": {},
          "execution_count": null
        }
      ],
      "source": [
        "try:\n",
        "    pass\n",
        "except:\n",
        "    print(\"Exception occurred!!!\")\n",
        "else:\n",
        "    print(\"Try block executed successfully...\")\n"
      ]
    },
    {
      "cell_type": "markdown",
      "metadata": {},
      "source": [
        "\n",
        "**Output:**\n"
      ]
    },
    {
      "cell_type": "code",
      "execution_count": null,
      "metadata": {
        "collapsed": true
      },
      "outputs": [
        {
          "data": {
            "text/plain": []
          },
          "output_type": "execute_result",
          "metadata": {},
          "execution_count": null
        }
      ],
      "source": [
        "Try block executed successfully...\n"
      ]
    },
    {
      "cell_type": "markdown",
      "metadata": {},
      "source": [
        "\n"
      ]
    },
    {
      "cell_type": "markdown",
      "metadata": {},
      "source": [
        "#### \ud83d\udca1 Explanation:\n",
        "- The `else` clause after a loop is executed only when there's no explicit `break` after all the iterations. You can think of it as a \"nobreak\" clause.\n",
        "- `else` clause after a try block is also called \"completion clause\" as reaching the `else` clause in a `try` statement means that the try block actually completed successfully.\n",
        "\n"
      ]
    },
    {
      "cell_type": "markdown",
      "metadata": {},
      "source": [
        "### \u25b6 Ellipsis *\n"
      ]
    },
    {
      "cell_type": "code",
      "execution_count": null,
      "metadata": {
        "collapsed": true
      },
      "outputs": [
        {
          "data": {
            "text/plain": []
          },
          "output_type": "execute_result",
          "metadata": {},
          "execution_count": null
        }
      ],
      "source": [
        "def some_func():\n",
        "    Ellipsis\n"
      ]
    },
    {
      "cell_type": "markdown",
      "metadata": {},
      "source": [
        "\n",
        "**Output**\n"
      ]
    },
    {
      "cell_type": "code",
      "execution_count": null,
      "metadata": {
        "collapsed": true
      },
      "outputs": [
        {
          "data": {
            "text/plain": [
              "# No output, No Error\n",
              "\n"
            ]
          },
          "output_type": "execute_result",
          "metadata": {},
          "execution_count": null
        }
      ],
      "source": [
        "some_func()\n"
      ]
    },
    {
      "cell_type": "code",
      "execution_count": null,
      "metadata": {
        "collapsed": true
      },
      "outputs": [
        {
          "data": {
            "text/plain": [
              "Traceback (most recent call last):\n",
              "  File \"<stdin>\", line 1, in <module>\n",
              "NameError: name 'SomeRandomString' is not defined\n",
              "\n"
            ]
          },
          "output_type": "execute_result",
          "metadata": {},
          "execution_count": null
        }
      ],
      "source": [
        "SomeRandomString\n"
      ]
    },
    {
      "cell_type": "code",
      "execution_count": null,
      "metadata": {
        "collapsed": true
      },
      "outputs": [
        {
          "data": {
            "text/plain": [
              "Ellipsis\n"
            ]
          },
          "output_type": "execute_result",
          "metadata": {},
          "execution_count": null
        }
      ],
      "source": [
        "Ellipsis\n"
      ]
    },
    {
      "cell_type": "markdown",
      "metadata": {},
      "source": [
        "\n"
      ]
    },
    {
      "cell_type": "markdown",
      "metadata": {},
      "source": [
        "#### \ud83d\udca1 Explanation\n",
        "- In Python, `Ellipsis` is a globally available built-in object which is equivalent to `...`.\n"
      ]
    },
    {
      "cell_type": "code",
      "execution_count": null,
      "metadata": {
        "collapsed": true
      },
      "outputs": [
        {
          "data": {
            "text/plain": [
              "    Ellipsis\n"
            ]
          },
          "output_type": "execute_result",
          "metadata": {},
          "execution_count": null
        }
      ],
      "source": [
        "    ...\n"
      ]
    },
    {
      "cell_type": "markdown",
      "metadata": {},
      "source": [
        "- Eliipsis can be used for several purposes,\n",
        "    + As a placeholder for code that hasn't been written yet (just like `pass` statement)\n",
        "    + In slicing syntax to represent the full slices in remaining direction\n"
      ]
    },
    {
      "cell_type": "code",
      "execution_count": null,
      "metadata": {
        "collapsed": true
      },
      "outputs": [
        {
          "data": {
            "text/plain": [
              "    array([\n",
              "        [\n",
              "            [0, 1],\n",
              "            [2, 3]\n",
              "        ],\n",
              "\n",
              "        [\n",
              "            [4, 5],\n",
              "            [6, 7]\n",
              "        ]\n",
              "    ])\n"
            ]
          },
          "output_type": "execute_result",
          "metadata": {},
          "execution_count": null
        }
      ],
      "source": [
        "    import numpy as np\n",
        "    three_dimensional_array = np.arange(8).reshape(2, 2, 2)\n"
      ]
    },
    {
      "cell_type": "markdown",
      "metadata": {},
      "source": [
        "    So our `three_dimensional_array` is an array of array of arrays. Let's say we want to print the second element (index `1`) of all the innermost arrays, we can use Ellipsis to bypass all the preceding dimensions\n"
      ]
    },
    {
      "cell_type": "code",
      "execution_count": null,
      "metadata": {
        "collapsed": true
      },
      "outputs": [
        {
          "data": {
            "text/plain": [
              "    array([[1, 3],\n",
              "       [5, 7]])\n"
            ]
          },
          "output_type": "execute_result",
          "metadata": {},
          "execution_count": null
        }
      ],
      "source": [
        "    three_dimensional_array[:,:,1]\n"
      ]
    },
    {
      "cell_type": "code",
      "execution_count": null,
      "metadata": {
        "collapsed": true
      },
      "outputs": [
        {
          "data": {
            "text/plain": [
              "    array([[1, 3],\n",
              "       [5, 7]])\n"
            ]
          },
          "output_type": "execute_result",
          "metadata": {},
          "execution_count": null
        }
      ],
      "source": [
        "    three_dimensional_array[..., 1] # using Ellipsis.\n"
      ]
    },
    {
      "cell_type": "markdown",
      "metadata": {},
      "source": [
        "    Note: this will work for any number of dimensions. You can even select slice in first and last dimension and ignore the middle ones this way (`n_dimensional_array[firs_dim_slice, ..., last_dim_slice]`)\n",
        "    + In [type hinting](https://docs.python.org/3/library/typing.html) to indicate only a part of the type (like `(Callable[..., int]` or `Tuple[str, ...]`))\n",
        "    + You may also use Ellipsis as a default function argument (in the cases when you want to differentiate between the \"no argument passed\" and \"None value passed\" scenarios).\n",
        "\n"
      ]
    },
    {
      "cell_type": "markdown",
      "metadata": {},
      "source": [
        "### \u25b6 Inpinity\n",
        "The spelling is intended. Please, don't submit a patch for this.\n",
        "\n",
        "**Output (Python 3.x):**\n"
      ]
    },
    {
      "cell_type": "code",
      "execution_count": null,
      "metadata": {
        "collapsed": true
      },
      "outputs": [
        {
          "data": {
            "text/plain": [
              "314159\n"
            ]
          },
          "output_type": "execute_result",
          "metadata": {},
          "execution_count": null
        }
      ],
      "source": [
        "infinity = float('infinity')\n",
        "hash(infinity)\n"
      ]
    },
    {
      "cell_type": "code",
      "execution_count": null,
      "metadata": {
        "collapsed": true
      },
      "outputs": [
        {
          "data": {
            "text/plain": [
              "-314159\n"
            ]
          },
          "output_type": "execute_result",
          "metadata": {},
          "execution_count": null
        }
      ],
      "source": [
        "hash(float('-inf'))\n"
      ]
    },
    {
      "cell_type": "markdown",
      "metadata": {},
      "source": [
        "\n"
      ]
    },
    {
      "cell_type": "markdown",
      "metadata": {},
      "source": [
        "#### \ud83d\udca1 Explanation:\n",
        "- Hash of infinity is 10\u2075 x \u03c0.\n",
        "- Interestingly, the hash of `float('-inf')` is \"-10\u2075 x \u03c0\" in Python 3, whereas \"-10\u2075 x e\" in Python 2.\n",
        "\n"
      ]
    },
    {
      "cell_type": "markdown",
      "metadata": {},
      "source": [
        "### \u25b6 Let's mangle\n",
        "1\\.\n"
      ]
    },
    {
      "cell_type": "code",
      "execution_count": null,
      "metadata": {
        "collapsed": true
      },
      "outputs": [
        {
          "data": {
            "text/plain": []
          },
          "output_type": "execute_result",
          "metadata": {},
          "execution_count": null
        }
      ],
      "source": [
        "class Yo(object):\n",
        "    def __init__(self):\n",
        "        self.__honey = True\n",
        "        self.bro = True\n"
      ]
    },
    {
      "cell_type": "markdown",
      "metadata": {},
      "source": [
        "\n",
        "**Output:**\n"
      ]
    },
    {
      "cell_type": "code",
      "execution_count": null,
      "metadata": {
        "collapsed": true
      },
      "outputs": [
        {
          "data": {
            "text/plain": [
              "True\n"
            ]
          },
          "output_type": "execute_result",
          "metadata": {},
          "execution_count": null
        }
      ],
      "source": [
        "Yo().bro\n"
      ]
    },
    {
      "cell_type": "code",
      "execution_count": null,
      "metadata": {
        "collapsed": true
      },
      "outputs": [
        {
          "data": {
            "text/plain": [
              "AttributeError: 'Yo' object has no attribute '__honey'\n"
            ]
          },
          "output_type": "execute_result",
          "metadata": {},
          "execution_count": null
        }
      ],
      "source": [
        "Yo().__honey\n"
      ]
    },
    {
      "cell_type": "code",
      "execution_count": null,
      "metadata": {
        "collapsed": true
      },
      "outputs": [
        {
          "data": {
            "text/plain": [
              "True\n"
            ]
          },
          "output_type": "execute_result",
          "metadata": {},
          "execution_count": null
        }
      ],
      "source": [
        "Yo()._Yo__honey\n"
      ]
    },
    {
      "cell_type": "markdown",
      "metadata": {},
      "source": [
        "\n",
        "2\\.\n"
      ]
    },
    {
      "cell_type": "code",
      "execution_count": null,
      "metadata": {
        "collapsed": true
      },
      "outputs": [
        {
          "data": {
            "text/plain": []
          },
          "output_type": "execute_result",
          "metadata": {},
          "execution_count": null
        }
      ],
      "source": [
        "class Yo(object):\n",
        "    def __init__(self):\n",
        "        # Let's try something symmetrical this time\n",
        "        self.__honey__ = True\n",
        "        self.bro = True\n"
      ]
    },
    {
      "cell_type": "markdown",
      "metadata": {},
      "source": [
        "\n",
        "**Output:**\n"
      ]
    },
    {
      "cell_type": "code",
      "execution_count": null,
      "metadata": {
        "collapsed": true
      },
      "outputs": [
        {
          "data": {
            "text/plain": [
              "True\n",
              "\n"
            ]
          },
          "output_type": "execute_result",
          "metadata": {},
          "execution_count": null
        }
      ],
      "source": [
        "Yo().bro\n"
      ]
    },
    {
      "cell_type": "code",
      "execution_count": null,
      "metadata": {
        "collapsed": true
      },
      "outputs": [
        {
          "data": {
            "text/plain": [
              "Traceback (most recent call last):\n",
              "  File \"<stdin>\", line 1, in <module>\n",
              "AttributeError: 'Yo' object has no attribute '_Yo__honey__'\n"
            ]
          },
          "output_type": "execute_result",
          "metadata": {},
          "execution_count": null
        }
      ],
      "source": [
        "Yo()._Yo__honey__\n"
      ]
    },
    {
      "cell_type": "markdown",
      "metadata": {},
      "source": [
        "\n",
        "Why did `Yo()._Yo__honey` work?\n",
        "\n",
        "3\\.\n",
        "\n"
      ]
    },
    {
      "cell_type": "code",
      "execution_count": null,
      "metadata": {
        "collapsed": true
      },
      "outputs": [
        {
          "data": {
            "text/plain": []
          },
          "output_type": "execute_result",
          "metadata": {},
          "execution_count": null
        }
      ],
      "source": [
        "_A__variable = \"Some value\"\n",
        "\n",
        "class A(object):\n",
        "    def some_func(self):\n",
        "        return __variable # not initialized anywhere yet\n"
      ]
    },
    {
      "cell_type": "markdown",
      "metadata": {},
      "source": [
        "\n",
        "**Output:**\n"
      ]
    },
    {
      "cell_type": "code",
      "execution_count": null,
      "metadata": {
        "collapsed": true
      },
      "outputs": [
        {
          "data": {
            "text/plain": [
              "Traceback (most recent call last):\n",
              "  File \"<stdin>\", line 1, in <module>\n",
              "AttributeError: 'A' object has no attribute '__variable'\n",
              "\n"
            ]
          },
          "output_type": "execute_result",
          "metadata": {},
          "execution_count": null
        }
      ],
      "source": [
        "A().__variable\n"
      ]
    },
    {
      "cell_type": "code",
      "execution_count": null,
      "metadata": {
        "collapsed": true
      },
      "outputs": [
        {
          "data": {
            "text/plain": [
              "'Some value'\n"
            ]
          },
          "output_type": "execute_result",
          "metadata": {},
          "execution_count": null
        }
      ],
      "source": [
        "A().some_func()\n"
      ]
    },
    {
      "cell_type": "markdown",
      "metadata": {},
      "source": [
        "\n",
        "\n"
      ]
    },
    {
      "cell_type": "markdown",
      "metadata": {},
      "source": [
        "#### \ud83d\udca1 Explanation:\n",
        "\n",
        "* [Name Mangling](https://en.wikipedia.org/wiki/Name_mangling) is used to avoid naming collisions between different namespaces.\n",
        "* In Python, the interpreter modifies (mangles) the class member names starting with `__` (double underscore a.k.a \"dunder\") and not ending with more than one trailing underscore by adding `_NameOfTheClass` in front.\n",
        "* So, to access `__honey` attribute in the first snippet, we had to append `_Yo` to the front, which would prevent conflicts with the same name attribute defined in any other class.\n",
        "* But then why didn't it work in the second snippet? Because name mangling excludes the names ending with double underscores.\n",
        "* The third snippet was also a consequence of name mangling. The name `__variable` in the statement `return __variable` was mangled to `_A__variable`, which also happens to be the name of the variable we declared in the outer scope.\n",
        "* Also, if the mangled name is longer than 255 characters, truncation will happen.\n",
        "\n"
      ]
    },
    {
      "cell_type": "markdown",
      "metadata": {},
      "source": [
        "### \u25b6 Skipping lines?\n",
        "**Output:**\n"
      ]
    },
    {
      "cell_type": "code",
      "execution_count": null,
      "metadata": {
        "collapsed": true
      },
      "outputs": [
        {
          "data": {
            "text/plain": [
              "11\n"
            ]
          },
          "output_type": "execute_result",
          "metadata": {},
          "execution_count": null
        }
      ],
      "source": [
        "value = 11\n",
        "valu\u0435 = 32\n",
        "value\n"
      ]
    },
    {
      "cell_type": "markdown",
      "metadata": {},
      "source": [
        "\n",
        "Wut?\n",
        "\n",
        "**Note:** The easiest way to reproduce this is to simply copy the statements from the above snippet and paste them into your file/shell.\n",
        "\n"
      ]
    },
    {
      "cell_type": "markdown",
      "metadata": {},
      "source": [
        "#### \ud83d\udca1 Explanation\n",
        "\n",
        "Some non-Western characters look identical to letters in the English alphabet but are considered distinct by the interpreter.\n",
        "\n"
      ]
    },
    {
      "cell_type": "code",
      "execution_count": null,
      "metadata": {
        "collapsed": true
      },
      "outputs": [
        {
          "data": {
            "text/plain": [
              "1077\n"
            ]
          },
          "output_type": "execute_result",
          "metadata": {},
          "execution_count": null
        }
      ],
      "source": [
        "ord('\u0435') # cyrillic 'e' (Ye)\n"
      ]
    },
    {
      "cell_type": "code",
      "execution_count": null,
      "metadata": {
        "collapsed": true
      },
      "outputs": [
        {
          "data": {
            "text/plain": [
              "101\n"
            ]
          },
          "output_type": "execute_result",
          "metadata": {},
          "execution_count": null
        }
      ],
      "source": [
        "ord('e') # latin 'e', as used in English and typed using standard keyboard\n"
      ]
    },
    {
      "cell_type": "code",
      "execution_count": null,
      "metadata": {
        "collapsed": true
      },
      "outputs": [
        {
          "data": {
            "text/plain": [
              "False\n",
              "\n"
            ]
          },
          "output_type": "execute_result",
          "metadata": {},
          "execution_count": null
        }
      ],
      "source": [
        "'\u0435' == 'e'\n"
      ]
    },
    {
      "cell_type": "code",
      "execution_count": null,
      "metadata": {
        "collapsed": true
      },
      "outputs": [
        {
          "data": {
            "text/plain": [
              "42\n"
            ]
          },
          "output_type": "execute_result",
          "metadata": {},
          "execution_count": null
        }
      ],
      "source": [
        "value = 42 # latin e\n",
        "valu\u0435 = 23 # cyrillic 'e', Python 2.x interpreter would raise a `SyntaxError` here\n",
        "value\n"
      ]
    },
    {
      "cell_type": "markdown",
      "metadata": {},
      "source": [
        "\n",
        "The built-in `ord()` function returns a character's Unicode [code point](https://en.wikipedia.org/wiki/Code_point), and different code positions of Cyrillic 'e' and Latin 'e' justify the behavior of the above example.\n",
        "\n"
      ]
    },
    {
      "cell_type": "markdown",
      "metadata": {},
      "source": [
        "### \u25b6 Teleportation\n"
      ]
    },
    {
      "cell_type": "code",
      "execution_count": null,
      "metadata": {
        "collapsed": true
      },
      "outputs": [
        {
          "data": {
            "text/plain": []
          },
          "output_type": "execute_result",
          "metadata": {},
          "execution_count": null
        }
      ],
      "source": [
        "# `pip install numpy` first.\n",
        "import numpy as np\n",
        "\n",
        "def energy_send(x):\n",
        "    # Initializing a numpy array\n",
        "    np.array([float(x)])\n",
        "\n",
        "def energy_receive():\n",
        "    # Return an empty numpy array\n",
        "    return np.empty((), dtype=np.float).tolist()\n"
      ]
    },
    {
      "cell_type": "markdown",
      "metadata": {},
      "source": [
        "\n",
        "**Output:**\n"
      ]
    },
    {
      "cell_type": "code",
      "execution_count": null,
      "metadata": {
        "collapsed": true
      },
      "outputs": [
        {
          "data": {
            "text/plain": [
              "123.456\n"
            ]
          },
          "output_type": "execute_result",
          "metadata": {},
          "execution_count": null
        }
      ],
      "source": [
        "energy_send(123.456)\n",
        "energy_receive()\n"
      ]
    },
    {
      "cell_type": "markdown",
      "metadata": {},
      "source": [
        "\n",
        "Where's the Nobel Prize?\n",
        "\n"
      ]
    },
    {
      "cell_type": "markdown",
      "metadata": {},
      "source": [
        "#### \ud83d\udca1 Explanation:\n",
        "\n",
        "* Notice that the numpy array created in the `energy_send` function is not returned, so that memory space is free to reallocate.\n",
        "* `numpy.empty()` returns the next free memory slot without reinitializing it. This memory spot just happens to be the same one that was just freed (usually, but not always).\n",
        "\n"
      ]
    },
    {
      "cell_type": "markdown",
      "metadata": {},
      "source": [
        "### \u25b6 Well, something is fishy...\n"
      ]
    },
    {
      "cell_type": "code",
      "execution_count": null,
      "metadata": {
        "collapsed": true
      },
      "outputs": [
        {
          "data": {
            "text/plain": []
          },
          "output_type": "execute_result",
          "metadata": {},
          "execution_count": null
        }
      ],
      "source": [
        "def square(x):\n",
        "    \"\"\"\n",
        "    A simple function to calculate the square of a number by addition.\n",
        "    \"\"\"\n",
        "    sum_so_far = 0\n",
        "    for counter in range(x):\n",
        "        sum_so_far = sum_so_far + x\n",
        "  return sum_so_far\n"
      ]
    },
    {
      "cell_type": "markdown",
      "metadata": {},
      "source": [
        "\n",
        "**Output (Python 2.x):**\n",
        "\n"
      ]
    },
    {
      "cell_type": "code",
      "execution_count": null,
      "metadata": {
        "collapsed": true
      },
      "outputs": [
        {
          "data": {
            "text/plain": [
              "10\n"
            ]
          },
          "output_type": "execute_result",
          "metadata": {},
          "execution_count": null
        }
      ],
      "source": [
        "square(10)\n"
      ]
    },
    {
      "cell_type": "markdown",
      "metadata": {},
      "source": [
        "\n",
        "Shouldn't that be 100?\n",
        "\n",
        "**Note:** If you're not able to reproduce this, try running the file [mixed_tabs_and_spaces.py](/mixed_tabs_and_spaces.py) via the shell.\n",
        "\n"
      ]
    },
    {
      "cell_type": "markdown",
      "metadata": {},
      "source": [
        "#### \ud83d\udca1 Explanation\n",
        "\n",
        "* **Don't mix tabs and spaces!** The character just preceding return is a \"tab\",  and the code is indented by multiple of \"4 spaces\" elsewhere in the example.\n",
        "* This is how Python handles tabs:\n",
        "  \n",
        "  > First, tabs are replaced (from left to right) by one to eight spaces such that the total number of characters up to and including the replacement is a multiple of eight <...>\n",
        "* So the \"tab\" at the last line of `square` function is replaced with eight spaces, and it gets into the loop.\n",
        "* Python 3 is kind enough to throw an error for such cases automatically.\n",
        "\n",
        "    **Output (Python 3.x):**\n"
      ]
    },
    {
      "cell_type": "code",
      "execution_count": null,
      "metadata": {
        "collapsed": true
      },
      "outputs": [
        {
          "data": {
            "text/plain": []
          },
          "output_type": "execute_result",
          "metadata": {},
          "execution_count": null
        }
      ],
      "source": [
        "    TabError: inconsistent use of tabs and spaces in indentation\n"
      ]
    },
    {
      "cell_type": "markdown",
      "metadata": {},
      "source": [
        "\n"
      ]
    },
    {
      "cell_type": "markdown",
      "metadata": {},
      "source": [
        "### \u25b6 `+=` is faster\n"
      ]
    },
    {
      "cell_type": "code",
      "execution_count": null,
      "metadata": {
        "collapsed": true
      },
      "outputs": [
        {
          "data": {
            "text/plain": [
              "0.25748300552368164\n",
              "# using \"+=\", three strings:\n"
            ]
          },
          "output_type": "execute_result",
          "metadata": {},
          "execution_count": null
        }
      ],
      "source": [
        "# using \"+\", three strings:\n",
        "timeit.timeit(\"s1 = s1 + s2 + s3\", setup=\"s1 = ' ' * 100000; s2 = ' ' * 100000; s3 = ' ' * 100000\", number=100)\n"
      ]
    },
    {
      "cell_type": "code",
      "execution_count": null,
      "metadata": {
        "collapsed": true
      },
      "outputs": [
        {
          "data": {
            "text/plain": [
              "0.012188911437988281\n"
            ]
          },
          "output_type": "execute_result",
          "metadata": {},
          "execution_count": null
        }
      ],
      "source": [
        "timeit.timeit(\"s1 += s2 + s3\", setup=\"s1 = ' ' * 100000; s2 = ' ' * 100000; s3 = ' ' * 100000\", number=100)\n"
      ]
    },
    {
      "cell_type": "markdown",
      "metadata": {},
      "source": [
        "\n"
      ]
    },
    {
      "cell_type": "markdown",
      "metadata": {},
      "source": [
        "#### \ud83d\udca1 Explanation:\n",
        "+ `+=` is faster than `+` for concatenating more than two strings because the first string (example, `s1` for `s1 += s2 + s3`) is not destroyed while calculating the complete string.\n",
        "\n"
      ]
    },
    {
      "cell_type": "markdown",
      "metadata": {},
      "source": [
        "### \u25b6 Let's make a giant string!\n"
      ]
    },
    {
      "cell_type": "code",
      "execution_count": null,
      "metadata": {
        "collapsed": true
      },
      "outputs": [
        {
          "data": {
            "text/plain": []
          },
          "output_type": "execute_result",
          "metadata": {},
          "execution_count": null
        }
      ],
      "source": [
        "def add_string_with_plus(iters):\n",
        "    s = \"\"\n",
        "    for i in range(iters):\n",
        "        s += \"xyz\"\n",
        "    assert len(s) == 3*iters\n",
        "\n",
        "def add_bytes_with_plus(iters):\n",
        "    s = b\"\"\n",
        "    for i in range(iters):\n",
        "        s += b\"xyz\"\n",
        "    assert len(s) == 3*iters\n",
        "\n",
        "def add_string_with_format(iters):\n",
        "    fs = \"{}\"*iters\n",
        "    s = fs.format(*([\"xyz\"]*iters))\n",
        "    assert len(s) == 3*iters\n",
        "\n",
        "def add_string_with_join(iters):\n",
        "    l = []\n",
        "    for i in range(iters):\n",
        "        l.append(\"xyz\")\n",
        "    s = \"\".join(l)\n",
        "    assert len(s) == 3*iters\n",
        "\n",
        "def convert_list_to_string(l, iters):\n",
        "    s = \"\".join(l)\n",
        "    assert len(s) == 3*iters\n"
      ]
    },
    {
      "cell_type": "markdown",
      "metadata": {},
      "source": [
        "\n",
        "**Output:**\n",
        "\n"
      ]
    },
    {
      "cell_type": "code",
      "execution_count": null,
      "metadata": {
        "collapsed": true
      },
      "outputs": [
        {
          "data": {
            "text/plain": [
              "124 \u00b5s \u00b1 4.73 \u00b5s per loop (mean \u00b1 std. dev. of 7 runs, 100 loops each)\n"
            ]
          },
          "output_type": "execute_result",
          "metadata": {},
          "execution_count": null
        }
      ],
      "source": [
        "# Executed in ipython shell using %timeit for better readability of results.\n",
        "# You can also use the timeit module in normal python shell/scriptm=, example usage below\n",
        "# timeit.timeit('add_string_with_plus(10000)', number=1000, globals=globals())\n",
        "\n",
        "NUM_ITERS = 1000\n",
        "%timeit -n1000 add_string_with_plus(NUM_ITERS)\n"
      ]
    },
    {
      "cell_type": "code",
      "execution_count": null,
      "metadata": {
        "collapsed": true
      },
      "outputs": [
        {
          "data": {
            "text/plain": [
              "211 \u00b5s \u00b1 10.5 \u00b5s per loop (mean \u00b1 std. dev. of 7 runs, 1000 loops each)\n"
            ]
          },
          "output_type": "execute_result",
          "metadata": {},
          "execution_count": null
        }
      ],
      "source": [
        "%timeit -n1000 add_bytes_with_plus(NUM_ITERS)\n"
      ]
    },
    {
      "cell_type": "code",
      "execution_count": null,
      "metadata": {
        "collapsed": true
      },
      "outputs": [
        {
          "data": {
            "text/plain": [
              "61 \u00b5s \u00b1 2.18 \u00b5s per loop (mean \u00b1 std. dev. of 7 runs, 1000 loops each)\n"
            ]
          },
          "output_type": "execute_result",
          "metadata": {},
          "execution_count": null
        }
      ],
      "source": [
        "%timeit -n1000 add_string_with_format(NUM_ITERS)\n"
      ]
    },
    {
      "cell_type": "code",
      "execution_count": null,
      "metadata": {
        "collapsed": true
      },
      "outputs": [
        {
          "data": {
            "text/plain": [
              "117 \u00b5s \u00b1 3.21 \u00b5s per loop (mean \u00b1 std. dev. of 7 runs, 1000 loops each)\n"
            ]
          },
          "output_type": "execute_result",
          "metadata": {},
          "execution_count": null
        }
      ],
      "source": [
        "%timeit -n1000 add_string_with_join(NUM_ITERS)\n"
      ]
    },
    {
      "cell_type": "code",
      "execution_count": null,
      "metadata": {
        "collapsed": true
      },
      "outputs": [
        {
          "data": {
            "text/plain": [
              "10.1 \u00b5s \u00b1 1.06 \u00b5s per loop (mean \u00b1 std. dev. of 7 runs, 1000 loops each)\n"
            ]
          },
          "output_type": "execute_result",
          "metadata": {},
          "execution_count": null
        }
      ],
      "source": [
        "l = [\"xyz\"]*NUM_ITERS\n",
        "%timeit -n1000 convert_list_to_string(l, NUM_ITERS)\n"
      ]
    },
    {
      "cell_type": "markdown",
      "metadata": {},
      "source": [
        "\n",
        "Let's increase the number of iterations by a factor of 10.\n",
        "\n"
      ]
    },
    {
      "cell_type": "code",
      "execution_count": null,
      "metadata": {
        "collapsed": true
      },
      "outputs": [
        {
          "data": {
            "text/plain": [
              "1.26 ms \u00b1 76.8 \u00b5s per loop (mean \u00b1 std. dev. of 7 runs, 1000 loops each)\n"
            ]
          },
          "output_type": "execute_result",
          "metadata": {},
          "execution_count": null
        }
      ],
      "source": [
        "NUM_ITERS = 10000\n",
        "%timeit -n1000 add_string_with_plus(NUM_ITERS) # Linear increase in execution time\n"
      ]
    },
    {
      "cell_type": "code",
      "execution_count": null,
      "metadata": {
        "collapsed": true
      },
      "outputs": [
        {
          "data": {
            "text/plain": [
              "6.82 ms \u00b1 134 \u00b5s per loop (mean \u00b1 std. dev. of 7 runs, 1000 loops each)\n"
            ]
          },
          "output_type": "execute_result",
          "metadata": {},
          "execution_count": null
        }
      ],
      "source": [
        "%timeit -n1000 add_bytes_with_plus(NUM_ITERS) # Quadratic increase\n"
      ]
    },
    {
      "cell_type": "code",
      "execution_count": null,
      "metadata": {
        "collapsed": true
      },
      "outputs": [
        {
          "data": {
            "text/plain": [
              "645 \u00b5s \u00b1 24.5 \u00b5s per loop (mean \u00b1 std. dev. of 7 runs, 1000 loops each)\n"
            ]
          },
          "output_type": "execute_result",
          "metadata": {},
          "execution_count": null
        }
      ],
      "source": [
        "%timeit -n1000 add_string_with_format(NUM_ITERS) # Linear increase\n"
      ]
    },
    {
      "cell_type": "code",
      "execution_count": null,
      "metadata": {
        "collapsed": true
      },
      "outputs": [
        {
          "data": {
            "text/plain": [
              "1.17 ms \u00b1 7.25 \u00b5s per loop (mean \u00b1 std. dev. of 7 runs, 1000 loops each)\n"
            ]
          },
          "output_type": "execute_result",
          "metadata": {},
          "execution_count": null
        }
      ],
      "source": [
        "%timeit -n1000 add_string_with_join(NUM_ITERS) # Linear increase\n"
      ]
    },
    {
      "cell_type": "code",
      "execution_count": null,
      "metadata": {
        "collapsed": true
      },
      "outputs": [
        {
          "data": {
            "text/plain": [
              "86.3 \u00b5s \u00b1 2 \u00b5s per loop (mean \u00b1 std. dev. of 7 runs, 1000 loops each)\n"
            ]
          },
          "output_type": "execute_result",
          "metadata": {},
          "execution_count": null
        }
      ],
      "source": [
        "l = [\"xyz\"]*NUM_ITERS\n",
        "%timeit -n1000 convert_list_to_string(l, NUM_ITERS) # Linear increase\n"
      ]
    },
    {
      "cell_type": "markdown",
      "metadata": {},
      "source": [
        "\n"
      ]
    },
    {
      "cell_type": "markdown",
      "metadata": {},
      "source": [
        "#### \ud83d\udca1 Explanation\n",
        "- You can read more about [timeit](https://docs.python.org/3/library/timeit.html) or [%timeit](https://ipython.org/ipython-doc/dev/interactive/magics.html#magic-timeit) on these links. They are used to measure the execution time of code pieces.\n",
        "- Don't use `+` for generating long strings \u2014 In Python, `str` is immutable, so the left and right strings have to be copied into the new string for every pair of concatenations. If you concatenate four strings of length 10, you'll be copying (10+10) + ((10+10)+10) + (((10+10)+10)+10) = 90 characters instead of just 40 characters. Things get quadratically worse as the number and size of the string increases (justified with the execution times of `add_bytes_with_plus` function)\n",
        "- Therefore, it's advised to use `.format.` or `%` syntax (however, they are slightly slower than `+` for very short strings).\n",
        "- Or better, if already you've contents available in the form of an iterable object, then use `''.join(iterable_object)` which is much faster.\n",
        "- Unlike `add_bytes_with_plus` because of the `+=` optimizations discussed in the previous example, `add_string_with_plus` didn't show a quadratic increase in execution time. Had the statement been `s = s + \"x\" + \"y\" + \"z\"` instead of `s += \"xyz\"`, the increase would have been quadratic.\n"
      ]
    },
    {
      "cell_type": "code",
      "execution_count": null,
      "metadata": {
        "collapsed": true
      },
      "outputs": [
        {
          "data": {
            "text/plain": [
              "  388 \u00b5s \u00b1 22.4 \u00b5s per loop (mean \u00b1 std. dev. of 7 runs, 1000 loops each)\n"
            ]
          },
          "output_type": "execute_result",
          "metadata": {},
          "execution_count": null
        }
      ],
      "source": [
        "  def add_string_with_plus(iters):\n",
        "      s = \"\"\n",
        "      for i in range(iters):\n",
        "          s = s + \"x\" + \"y\" + \"z\"\n",
        "      assert len(s) == 3*iters\n",
        "\n",
        "  %timeit -n100 add_string_with_plus(1000)\n"
      ]
    },
    {
      "cell_type": "code",
      "execution_count": null,
      "metadata": {
        "collapsed": true
      },
      "outputs": [
        {
          "data": {
            "text/plain": [
              "  9 ms \u00b1 298 \u00b5s per loop (mean \u00b1 std. dev. of 7 runs, 100 loops each)\n"
            ]
          },
          "output_type": "execute_result",
          "metadata": {},
          "execution_count": null
        }
      ],
      "source": [
        "  %timeit -n100 add_string_with_plus(10000) # Quadratic increase in execution time\n"
      ]
    },
    {
      "cell_type": "markdown",
      "metadata": {},
      "source": [
        "- So many ways to format and create a giant string are somewhat in contrast to the [Zen of Python](https://www.python.org/dev/peps/pep-0020/), according to which,\n",
        "  \n",
        "    > There should be one-- and preferably only one --obvious way to do it.\n",
        "\n"
      ]
    },
    {
      "cell_type": "markdown",
      "metadata": {},
      "source": [
        "### \u25b6 Slowing down `dict` lookups *\n"
      ]
    },
    {
      "cell_type": "code",
      "execution_count": null,
      "metadata": {
        "collapsed": true
      },
      "outputs": [
        {
          "data": {
            "text/plain": []
          },
          "output_type": "execute_result",
          "metadata": {},
          "execution_count": null
        }
      ],
      "source": [
        "some_dict = {str(i): 1 for i in range(1_000_000)}\n",
        "another_dict = {str(i): 1 for i in range(1_000_000)}\n"
      ]
    },
    {
      "cell_type": "markdown",
      "metadata": {},
      "source": [
        "\n",
        "**Output:**\n"
      ]
    },
    {
      "cell_type": "code",
      "execution_count": null,
      "metadata": {
        "collapsed": true
      },
      "outputs": [
        {
          "data": {
            "text/plain": [
              "28.6 ns \u00b1 0.115 ns per loop (mean \u00b1 std. dev. of 7 runs, 10000000 loops each)\n"
            ]
          },
          "output_type": "execute_result",
          "metadata": {},
          "execution_count": null
        }
      ],
      "source": [
        "%timeit some_dict['5']\n"
      ]
    },
    {
      "cell_type": "code",
      "execution_count": null,
      "metadata": {
        "collapsed": true
      },
      "outputs": [
        {
          "data": {
            "text/plain": [
              "37.2 ns \u00b1 0.265 ns per loop (mean \u00b1 std. dev. of 7 runs, 10000000 loops each)\n",
              "\n"
            ]
          },
          "output_type": "execute_result",
          "metadata": {},
          "execution_count": null
        }
      ],
      "source": [
        "some_dict[1] = 1\n",
        "%timeit some_dict['5']\n"
      ]
    },
    {
      "cell_type": "code",
      "execution_count": null,
      "metadata": {
        "collapsed": true
      },
      "outputs": [
        {
          "data": {
            "text/plain": [
              "28.5 ns \u00b1 0.142 ns per loop (mean \u00b1 std. dev. of 7 runs, 10000000 loops each)\n"
            ]
          },
          "output_type": "execute_result",
          "metadata": {},
          "execution_count": null
        }
      ],
      "source": [
        "%timeit another_dict['5']\n"
      ]
    },
    {
      "cell_type": "code",
      "execution_count": null,
      "metadata": {
        "collapsed": true
      },
      "outputs": [
        {
          "data": {
            "text/plain": [
              "Traceback (most recent call last):\n",
              "  File \"<stdin>\", line 1, in <module>\n",
              "KeyError: 1\n"
            ]
          },
          "output_type": "execute_result",
          "metadata": {},
          "execution_count": null
        }
      ],
      "source": [
        "another_dict[1]  # Trying to access a key that doesn't exist\n"
      ]
    },
    {
      "cell_type": "code",
      "execution_count": null,
      "metadata": {
        "collapsed": true
      },
      "outputs": [
        {
          "data": {
            "text/plain": [
              "38.5 ns \u00b1 0.0913 ns per loop (mean \u00b1 std. dev. of 7 runs, 10000000 loops each)\n"
            ]
          },
          "output_type": "execute_result",
          "metadata": {},
          "execution_count": null
        }
      ],
      "source": [
        "%timeit another_dict['5']\n"
      ]
    },
    {
      "cell_type": "markdown",
      "metadata": {},
      "source": [
        "Why are same lookups becoming slower?\n",
        "\n"
      ]
    },
    {
      "cell_type": "markdown",
      "metadata": {},
      "source": [
        "#### \ud83d\udca1 Explanation:\n",
        "+ CPython has a generic dictionary lookup function that handles all types of keys (`str`, `int`, any object ...), and a specialized one for the common case of dictionaries composed of `str`-only keys.\n",
        "+ The specialized function (named `lookdict_unicode` in CPython's [source](https://github.com/python/cpython/blob/522691c46e2ae51faaad5bbbce7d959dd61770df/Objects/dictobject.c#L841)) knows all existing keys (including the looked-up key) are strings, and uses the faster & simpler string comparison to compare keys, instead of calling the `__eq__` method.\n",
        "+ The first time a `dict` instance is accessed with a non-`str` key, it's modified so future lookups use the generic function.\n",
        "+ This process is not reversible for the particular `dict` instance, and the key doesn't even have to exist in the dictionary. That's why attempting a failed lookup has the same effect.\n",
        "\n",
        "\n"
      ]
    },
    {
      "cell_type": "markdown",
      "metadata": {},
      "source": [
        "### \u25b6 Bloating instance `dict`s *\n"
      ]
    },
    {
      "cell_type": "code",
      "execution_count": null,
      "metadata": {
        "collapsed": true
      },
      "outputs": [
        {
          "data": {
            "text/plain": []
          },
          "output_type": "execute_result",
          "metadata": {},
          "execution_count": null
        }
      ],
      "source": [
        "import sys\n",
        "\n",
        "class SomeClass:\n",
        "    def __init__(self):\n",
        "        self.some_attr1 = 1\n",
        "        self.some_attr2 = 2\n",
        "        self.some_attr3 = 3\n",
        "        self.some_attr4 = 4\n",
        "\n",
        "\n",
        "def dict_size(o):\n",
        "    return sys.getsizeof(o.__dict__)\n",
        "\n"
      ]
    },
    {
      "cell_type": "markdown",
      "metadata": {},
      "source": [
        "\n",
        "**Output:** (Python 3.8, other Python 3 versions may vary a little)\n"
      ]
    },
    {
      "cell_type": "code",
      "execution_count": null,
      "metadata": {
        "collapsed": true
      },
      "outputs": [
        {
          "data": {
            "text/plain": [
              "104\n"
            ]
          },
          "output_type": "execute_result",
          "metadata": {},
          "execution_count": null
        }
      ],
      "source": [
        "o1 = SomeClass()\n",
        "o2 = SomeClass()\n",
        "dict_size(o1)\n"
      ]
    },
    {
      "cell_type": "code",
      "execution_count": null,
      "metadata": {
        "collapsed": true
      },
      "outputs": [
        {
          "data": {
            "text/plain": [
              "104\n"
            ]
          },
          "output_type": "execute_result",
          "metadata": {},
          "execution_count": null
        }
      ],
      "source": [
        "dict_size(o2)\n"
      ]
    },
    {
      "cell_type": "code",
      "execution_count": null,
      "metadata": {
        "collapsed": true
      },
      "outputs": [
        {
          "data": {
            "text/plain": [
              "232\n"
            ]
          },
          "output_type": "execute_result",
          "metadata": {},
          "execution_count": null
        }
      ],
      "source": [
        "del o1.some_attr1\n",
        "o3 = SomeClass()\n",
        "dict_size(o3)\n"
      ]
    },
    {
      "cell_type": "code",
      "execution_count": null,
      "metadata": {
        "collapsed": true
      },
      "outputs": [
        {
          "data": {
            "text/plain": [
              "232\n"
            ]
          },
          "output_type": "execute_result",
          "metadata": {},
          "execution_count": null
        }
      ],
      "source": [
        "dict_size(o1)\n"
      ]
    },
    {
      "cell_type": "markdown",
      "metadata": {},
      "source": [
        "\n",
        "Let's try again... In a new interpreter:\n",
        "\n"
      ]
    },
    {
      "cell_type": "code",
      "execution_count": null,
      "metadata": {
        "collapsed": true
      },
      "outputs": [
        {
          "data": {
            "text/plain": [
              "104  # as expected\n"
            ]
          },
          "output_type": "execute_result",
          "metadata": {},
          "execution_count": null
        }
      ],
      "source": [
        "o1 = SomeClass()\n",
        "o2 = SomeClass()\n",
        "dict_size(o1)\n"
      ]
    },
    {
      "cell_type": "code",
      "execution_count": null,
      "metadata": {
        "collapsed": true
      },
      "outputs": [
        {
          "data": {
            "text/plain": [
              "360\n"
            ]
          },
          "output_type": "execute_result",
          "metadata": {},
          "execution_count": null
        }
      ],
      "source": [
        "o1.some_attr5 = 5\n",
        "o1.some_attr6 = 6\n",
        "dict_size(o1)\n"
      ]
    },
    {
      "cell_type": "code",
      "execution_count": null,
      "metadata": {
        "collapsed": true
      },
      "outputs": [
        {
          "data": {
            "text/plain": [
              "272\n"
            ]
          },
          "output_type": "execute_result",
          "metadata": {},
          "execution_count": null
        }
      ],
      "source": [
        "dict_size(o2)\n"
      ]
    },
    {
      "cell_type": "code",
      "execution_count": null,
      "metadata": {
        "collapsed": true
      },
      "outputs": [
        {
          "data": {
            "text/plain": [
              "232\n"
            ]
          },
          "output_type": "execute_result",
          "metadata": {},
          "execution_count": null
        }
      ],
      "source": [
        "o3 = SomeClass()\n",
        "dict_size(o3)\n"
      ]
    },
    {
      "cell_type": "markdown",
      "metadata": {},
      "source": [
        "\n",
        "What makes those dictionaries become bloated? And why are newly created objects bloated as well?\n",
        "\n"
      ]
    },
    {
      "cell_type": "markdown",
      "metadata": {},
      "source": [
        "#### \ud83d\udca1 Explanation:\n",
        "+ CPython is able to reuse the same \"keys\" object in multiple dictionaries. This was added in [PEP 412](https://www.python.org/dev/peps/pep-0412/) with the motivation to reduce memory usage, specifically in dictionaries of instances - where keys (instance attributes) tend to be common to all instances.\n",
        "+ This optimization is entirely seamless for instance dictionaries, but it is disabled if certain assumptions are broken.\n",
        "+ Key-sharing dictionaries do not support deletion; if an instance attribute is deleted, the dictionary is \"unshared\", and key-sharing is disabled for all future instances of the same class.\n",
        "+ Additionaly, if the dictionary keys have be resized (because new keys are inserted), they are kept shared *only* if they are used by a exactly single dictionary (this allows adding many attributes in the `__init__` of the very first created instance, without causing an \"unshare\"). If multiple instances exist when a resize happens, key-sharing is disabled for all future instances of the same class: CPython can't tell if your instances are using the same set of attributes anymore, and decides to bail out on attempting to share their keys.\n",
        "+ A small tip, if you aim to lower your program's memory footprint: don't delete instance attributes, and make sure to initialize all attributes in your `__init__`!\n",
        "\n",
        "\n"
      ]
    },
    {
      "cell_type": "markdown",
      "metadata": {},
      "source": [
        "### \u25b6 Minor Ones *\n",
        "* `join()` is a string operation instead of list operation. (sort of counter-intuitive at first usage)\n",
        "\n",
        "  **\ud83d\udca1 Explanation:** If `join()` is a method on a string, then it can operate on any iterable (list, tuple, iterators). If it were a method on a list, it'd have to be implemented separately by every type. Also, it doesn't make much sense to put a string-specific method on a generic `list` object API.\n",
        "  \n",
        "* Few weird looking but semantically correct statements:\n",
        "  + `[] = ()` is a semantically correct statement (unpacking an empty `tuple` into an empty `list`)\n",
        "  + `'a'[0][0][0][0][0]` is also a semantically correct statement as strings are [sequences](https://docs.python.org/3/glossary.html#term-sequence)(iterables supporting element access using integer indices) in Python.\n",
        "  + `3 --0-- 5 == 8` and `--5 == 5` are both semantically correct statements and evaluate to `True`.\n",
        "\n",
        "* Given that `a` is a number, `++a` and `--a` are both valid Python statements but don't behave the same way as compared with similar statements in languages like C, C++, or Java.\n",
        "  ```py\n",
        "  >>> a = 5\n",
        "  >>> a\n",
        "  5\n",
        "  >>> ++a\n",
        "  5\n",
        "  >>> --a\n",
        "  5\n",
        "  ```\n",
        "\n",
        "  **\ud83d\udca1 Explanation:**\n",
        "  + There is no `++` operator in Python grammar. It is actually two `+` operators.\n",
        "  + `++a` parses as `+(+a)` which translates to `a`. Similarly, the output of the statement `--a` can be justified.\n",
        "  + This StackOverflow [thread](https://stackoverflow.com/questions/3654830/why-are-there-no-and-operators-in-python) discusses the rationale behind the absence of increment and decrement operators in Python.\n",
        "\n",
        "* You must be aware of the Walrus operator in Python. But have you ever heard about *the space-invader operator*?\n",
        "  ```py\n",
        "  >>> a = 42\n",
        "  >>> a -=- 1\n",
        "  >>> a\n",
        "  43\n",
        "  ```\n",
        "  It is used as an alternative incrementation operator, together with another one\n",
        "  ```py\n",
        "  >>> a +=+ 1\n",
        "  >>> a\n",
        "  >>> 44\n",
        "  ```\n",
        "  **\ud83d\udca1 Explanation:** This prank comes from [Raymond Hettinger's tweet](https://twitter.com/raymondh/status/1131103570856632321?lang=en). The space invader operator is actually just a malformatted `a -= (-1)`. Which is equivalent to `a = a - (- 1)`. Similar for the `a += (+ 1)` case.\n",
        "  \n",
        "* Python has an undocumented [converse implication](https://en.wikipedia.org/wiki/Converse_implication) operator. \n",
        "     \n",
        "     ```py\n",
        "     >>> False ** False == True\n",
        "     True\n",
        "     >>> False ** True == False\n",
        "     True\n",
        "     >>> True ** False == True\n",
        "     True\n",
        "     >>> True ** True == True\n",
        "     True\n",
        "     ```\n",
        "\n",
        "     **\ud83d\udca1 Explanation:** If you replace `False` and `True` by 0 and 1 and do the maths, the truth table is equivalent to a converse implication operator. ([Source](https://github.com/cosmologicon/pywat/blob/master/explanation.md#the-undocumented-converse-implication-operator))\n",
        "     \n",
        "* Since we are talking operators, there's also `@` operator for matrix multiplication (don't worry, this time it's for real).\n",
        "\n",
        "     ```py\n",
        "     >>> import numpy as np\n",
        "     >>> np.array([2, 2, 2]) @ np.array([7, 8, 8])\n",
        "     46\n",
        "     ```\n",
        "\n",
        "     **\ud83d\udca1 Explanation:** The `@` operator was added in Python 3.5 keeping the scientific community in mind. Any object can overload `__matmul__` magic method to define behavior for this operator.\n",
        "\n",
        "* From Python 3.8 onwards you can use a typical f-string syntax like `f'{some_var=}` for quick debugging. Example,\n",
        "    ```py\n",
        "    >>> some_string = \"wtfpython\"\n",
        "    >>> f'{some_string=}'\n",
        "    \"some_string='wtfpython'\"\n",
        "    ``` \n",
        "\n",
        "* Python uses 2 bytes for local variable storage in functions. In theory, this means that only 65536 variables can be defined in a function. However, python has a handy solution built in that can be used to store more than 2^16 variable names. The following code demonstrates what happens in the stack when more than 65536 local variables are defined (Warning: This code prints around 2^18 lines of text, so be prepared!):\n",
        "     \n",
        "     ```py\n",
        "     import dis\n",
        "    exec(\"\"\"\n",
        "    def f():\n",
        "        \"\"\" + \"\"\"\n",
        "        \"\"\".join([\"X\" + str(x) + \"=\" + str(x) for x in range(65539)]))\n",
        "\n",
        "    f()\n",
        "\n",
        "    print(dis.dis(f))\n",
        "    ```\n",
        "     \n",
        "* Multiple Python threads won't run your *Python code* concurrently (yes, you heard it right!). It may seem intuitive to spawn several threads and let them execute your Python code concurrently, but, because of the [Global Interpreter Lock](https://wiki.python.org/moin/GlobalInterpreterLock) in Python, all you're doing is making your threads execute on the same core turn by turn. Python threads are good for IO-bound tasks, but to achieve actual parallelization in Python for CPU-bound tasks, you might want to use the Python [multiprocessing](https://docs.python.org/3/library/multiprocessing.html) module.\n",
        "\n",
        "* Sometimes, the `print` method might not print values immediately. For example,\n",
        "\n",
        "     ```py\n",
        "     # File some_file.py\n",
        "     import time\n",
        "     \n",
        "     print(\"wtfpython\", end=\"_\")\n",
        "     time.sleep(3)\n",
        "     ```\n",
        "\n",
        "     This will print the `wtfpython` after 3 seconds due to the `end` argument because the output buffer is flushed either after encountering `\\n` or when the program finishes execution. We can force the buffer to flush by passing `flush=True` argument.\n",
        "\n",
        "* List slicing with out of the bounds indices throws no errors\n",
        "  ```py\n",
        "  >>> some_list = [1, 2, 3, 4, 5]\n",
        "  >>> some_list[111:]\n",
        "  []\n",
        "  ```\n",
        "\n",
        "* Slicing an iterable not always creates a new object. For example,\n",
        "    ```py\n",
        "    >>> some_str = \"wtfpython\"\n",
        "    >>> some_list = ['w', 't', 'f', 'p', 'y', 't', 'h', 'o', 'n']\n",
        "    >>> some_list is some_list[:] # False expected because a new object is created.\n",
        "    False\n",
        "    >>> some_str is some_str[:] # True because strings are immutable, so making a new object is of not much use.\n",
        "    True\n",
        "    ```\n",
        "\n",
        "* `int('\u0661\u0662\u0663\u0664\u0665\u0666\u0667\u0668\u0669')` returns `123456789` in Python 3. In Python, Decimal characters include digit characters, and all characters that can be used to form decimal-radix numbers, e.g. U+0660, ARABIC-INDIC DIGIT ZERO. Here's an [interesting story](https://chris.improbable.org/2014/8/25/adventures-in-unicode-digits/) related to this behavior of Python.\n",
        "\n",
        "* You can separate numeric literals with underscores (for better readability) from Python 3 onwards.\n",
        "\n",
        "     ```py\n",
        "     >>> six_million = 6_000_000\n",
        "     >>> six_million\n",
        "     6000000\n",
        "     >>> hex_address = 0xF00D_CAFE\n",
        "     >>> hex_address\n",
        "     4027435774\n",
        "     ```\n",
        "\n",
        "* `'abc'.count('') == 4`. Here's an approximate implementation of `count` method, which would make the things more clear\n",
        "  ```py\n",
        "  def count(s, sub):\n",
        "      result = 0\n",
        "      for i in range(len(s) + 1 - len(sub)):\n",
        "          result += (s[i:i + len(sub)] == sub)\n",
        "      return result\n",
        "  ```\n",
        "  The behavior is due to the matching of empty substring(`''`) with slices of length 0 in the original string.\n",
        "\n"
      ]
    },
    {
      "cell_type": "markdown",
      "metadata": {},
      "source": [
        "### \u25b6 First things first! *\n",
        "For some reason, the Python 3.8's \"Walrus\" operator (`:=`) has become quite popular. Let's check it out,\n",
        "\n",
        "1\\.\n",
        "\n"
      ]
    },
    {
      "cell_type": "markdown",
      "metadata": {},
      "source": [
        "```py\n",
        "# Python version 3.8+\n",
        "\n",
        ">>> a = \"wtf_walrus\"\n",
        ">>> a\n",
        "```\n",
        "```py\n",
        "'wtf_walrus'\n",
        "\n",
        "```\n"
      ]
    },
    {
      "cell_type": "markdown",
      "metadata": {},
      "source": [
        "```py\n",
        ">>> a := \"wtf_walrus\"\n",
        "```\n",
        "```py\n",
        "File \"<stdin>\", line 1\n",
        "    a := \"wtf_walrus\"\n",
        "      ^\n",
        "SyntaxError: invalid syntax\n",
        "\n",
        "```\n"
      ]
    },
    {
      "cell_type": "markdown",
      "metadata": {},
      "source": [
        "```py\n",
        ">>> (a := \"wtf_walrus\") # This works though\n",
        "```\n",
        "```py\n",
        "'wtf_walrus'\n",
        "```\n"
      ]
    },
    {
      "cell_type": "markdown",
      "metadata": {},
      "source": [
        "```py\n",
        ">>> a\n",
        "```\n",
        "```py\n",
        "'wtf_walrus'\n",
        "```\n"
      ]
    },
    {
      "cell_type": "markdown",
      "metadata": {},
      "source": [
        "\n",
        "2 \\.\n",
        "\n"
      ]
    },
    {
      "cell_type": "markdown",
      "metadata": {},
      "source": [
        "```py\n",
        "# Python version 3.8+\n",
        "\n",
        ">>> a = 6, 9\n",
        ">>> a\n",
        "```\n",
        "```py\n",
        "(6, 9)\n",
        "\n",
        "```\n"
      ]
    },
    {
      "cell_type": "markdown",
      "metadata": {},
      "source": [
        "```py\n",
        ">>> (a := 6, 9)\n",
        "```\n",
        "```py\n",
        "(6, 9)\n",
        "```\n"
      ]
    },
    {
      "cell_type": "markdown",
      "metadata": {},
      "source": [
        "```py\n",
        ">>> a\n",
        "```\n",
        "```py\n",
        "6\n",
        "\n",
        "```\n"
      ]
    },
    {
      "cell_type": "markdown",
      "metadata": {},
      "source": [
        "```py\n",
        ">>> a, b = 6, 9 # Typical unpacking\n",
        ">>> a, b\n",
        "```\n",
        "```py\n",
        "(6, 9)\n",
        "```\n"
      ]
    },
    {
      "cell_type": "markdown",
      "metadata": {},
      "source": [
        "```py\n",
        ">>> (a, b = 16, 19) # Oops\n",
        "```\n",
        "```py\n",
        "  File \"<stdin>\", line 1\n",
        "    (a, b = 6, 9)\n",
        "          ^\n",
        "SyntaxError: invalid syntax\n",
        "\n",
        "```\n"
      ]
    },
    {
      "cell_type": "markdown",
      "metadata": {},
      "source": [
        "```py\n",
        ">>> (a, b := 16, 19) # This prints out a weird 3-tuple\n",
        "```\n",
        "```py\n",
        "(6, 16, 19)\n",
        "\n",
        "```\n"
      ]
    },
    {
      "cell_type": "markdown",
      "metadata": {},
      "source": [
        "```py\n",
        ">>> a # a is still unchanged?\n",
        "```\n",
        "```py\n",
        "6\n",
        "\n",
        "```\n"
      ]
    },
    {
      "cell_type": "markdown",
      "metadata": {},
      "source": [
        "```py\n",
        ">>> b\n",
        "```\n",
        "```py\n",
        "16\n",
        "```\n"
      ]
    },
    {
      "cell_type": "markdown",
      "metadata": {},
      "source": [
        "\n",
        "\n",
        "\n"
      ]
    },
    {
      "cell_type": "markdown",
      "metadata": {},
      "source": [
        "#### \ud83d\udca1 Explanation\n",
        "\n",
        "**Quick walrus operator refresher**\n",
        "\n",
        "The Walrus operator (`:=`) was introduced in Python 3.8, it can be useful in situations where you'd want to assign values to variables within an expression.\n",
        "\n"
      ]
    },
    {
      "cell_type": "markdown",
      "metadata": {},
      "source": [
        "```py\n",
        "def some_func():\n",
        "        # Assume some expensive computation here\n",
        "        # time.sleep(1000)\n",
        "        return 5\n",
        "\n",
        "# So instead of,\n",
        "if some_func():\n",
        "        print(some_func()) # Which is bad practice since computation is happening twice\n",
        "\n",
        "# or\n",
        "a = some_func()\n",
        "if a:\n",
        "    print(a)\n",
        "\n",
        "# Now you can concisely write\n",
        "if a := some_func():\n",
        "        print(a)\n",
        "```\n",
        "```py\n",
        "```\n"
      ]
    },
    {
      "cell_type": "markdown",
      "metadata": {},
      "source": [
        "\n",
        "**Output (> 3.8):**\n",
        "\n"
      ]
    },
    {
      "cell_type": "markdown",
      "metadata": {},
      "source": [
        "```py\n",
        "5\n",
        "5\n",
        "5\n",
        "```\n",
        "```py\n",
        "```\n"
      ]
    },
    {
      "cell_type": "markdown",
      "metadata": {},
      "source": [
        "\n",
        "This saved one line of code, and implicitly prevented invoking `some_func` twice.\n",
        "\n",
        "- Unparenthesized \"assignment expression\" (use of walrus operator), is restricted at the top level, hence the `SyntaxError` in the `a := \"wtf_walrus\"` statement of the first snippet. Parenthesizing it worked as expected and assigned `a`.  \n",
        "\n",
        "- As usual, parenthesizing of an expression containing `=` operator is not allowed. Hence the syntax error in `(a, b = 6, 9)`. \n",
        "\n",
        "- The syntax of the Walrus operator is of the form `NAME:= expr`, where `NAME` is a valid identifier, and `expr` is a valid expression. Hence, iterable packing and unpacking are not supported which means, \n",
        "\n",
        "  - `(a := 6, 9)` is equivalent to `((a := 6), 9)` and ultimately `(a, 9) ` (where `a`'s value is 6')\n",
        "\n"
      ]
    },
    {
      "cell_type": "markdown",
      "metadata": {},
      "source": [
        "```py\n",
        "    >>> (a := 6, 9) == ((a := 6), 9)\n",
        "```\n",
        "```py\n",
        "    True\n",
        "```\n"
      ]
    },
    {
      "cell_type": "markdown",
      "metadata": {},
      "source": [
        "```py\n",
        "    >>> x = (a := 696, 9)\n",
        "    >>> x\n",
        "```\n",
        "```py\n",
        "    (696, 9)\n",
        "```\n"
      ]
    },
    {
      "cell_type": "markdown",
      "metadata": {},
      "source": [
        "```py\n",
        "    >>> x[0] is a # Both reference same memory location\n",
        "```\n",
        "```py\n",
        "    True\n",
        "```\n"
      ]
    },
    {
      "cell_type": "markdown",
      "metadata": {},
      "source": [
        "\n",
        "  - Similarly, `(a, b := 16, 19)` is equivalent to `(a, (b := 16), 19)` which is nothing but a 3-tuple. \n",
        "\n"
      ]
    },
    {
      "cell_type": "markdown",
      "metadata": {},
      "source": [
        "### \u25b6 Stubborn `del` operation\n"
      ]
    },
    {
      "cell_type": "markdown",
      "metadata": {},
      "source": [
        "```py\n",
        "class SomeClass:\n",
        "    def __del__(self):\n",
        "        print(\"Deleted!\")\n",
        "```\n",
        "```py\n",
        "```\n"
      ]
    },
    {
      "cell_type": "markdown",
      "metadata": {},
      "source": [
        "\n",
        "**Output:**\n",
        "1\\.\n"
      ]
    },
    {
      "cell_type": "markdown",
      "metadata": {},
      "source": [
        "```py\n",
        ">>> x = SomeClass()\n",
        ">>> y = x\n",
        ">>> del x # this should print \"Deleted!\"\n",
        ">>> del y\n",
        "```\n",
        "```py\n",
        "Deleted!\n",
        "```\n"
      ]
    },
    {
      "cell_type": "markdown",
      "metadata": {},
      "source": [
        "\n",
        "Phew, deleted at last. You might have guessed what saved `__del__` from being called in our first attempt to delete `x`. Let's add more twists to the example.\n",
        "\n",
        "2\\.\n"
      ]
    },
    {
      "cell_type": "markdown",
      "metadata": {},
      "source": [
        "```py\n",
        ">>> x = SomeClass()\n",
        ">>> y = x\n",
        ">>> del x\n",
        ">>> y # check if y exists\n",
        "```\n",
        "```py\n",
        "<__main__.SomeClass instance at 0x7f98a1a67fc8>\n",
        "```\n"
      ]
    },
    {
      "cell_type": "markdown",
      "metadata": {},
      "source": [
        "```py\n",
        ">>> del y # Like previously, this should print \"Deleted!\"\n",
        ">>> globals() # oh, it didn't. Let's check all our global variables and confirm\n",
        "```\n",
        "```py\n",
        "Deleted!\n",
        "{'__builtins__': <module '__builtin__' (built-in)>, 'SomeClass': <class __main__.SomeClass at 0x7f98a1a5f668>, '__package__': None, '__name__': '__main__', '__doc__': None}\n",
        "```\n"
      ]
    },
    {
      "cell_type": "markdown",
      "metadata": {},
      "source": [
        "\n",
        "Okay, now it's deleted :confused:\n",
        "\n"
      ]
    },
    {
      "cell_type": "markdown",
      "metadata": {},
      "source": [
        "#### \ud83d\udca1 Explanation:\n",
        "+ `del x` doesn\u2019t directly call `x.__del__()`.\n",
        "+ When `del x` is encountered, Python deletes the name `x` from current scope and decrements by 1 the reference count of the object `x` referenced. `__del__()` is called only when the object's reference count reaches zero.\n",
        "+ In the second output snippet, `__del__()` was not called because the previous statement (`>>> y`) in the interactive interpreter created another reference to the same object (specifically, the `_` magic variable which references the result value of the last non `None` expression on the REPL), thus preventing the reference count from reaching zero when `del y` was encountered.\n",
        "+ Calling `globals` (or really, executing anything that will have a non `None` result) caused `_` to reference the new result, dropping the existing reference. Now the reference count reached 0 and we can see \"Deleted!\" being printed (finally!).\n",
        "\n"
      ]
    },
    {
      "cell_type": "markdown",
      "metadata": {},
      "source": [
        "### \u25b6 Wild imports *\n"
      ]
    },
    {
      "cell_type": "markdown",
      "metadata": {},
      "source": [
        "```py\n",
        "# File: module.py\n",
        "\n",
        "def some_weird_name_func_():\n",
        "    print(\"works!\")\n",
        "\n",
        "def _another_weird_name_func():\n",
        "    print(\"works!\")\n",
        "\n",
        "```\n",
        "```py\n",
        "```\n"
      ]
    },
    {
      "cell_type": "markdown",
      "metadata": {},
      "source": [
        "\n",
        "**Output**\n",
        "\n"
      ]
    },
    {
      "cell_type": "markdown",
      "metadata": {},
      "source": [
        "```py\n",
        ">>> from module import *\n",
        ">>> some_weird_name_func_()\n",
        "```\n",
        "```py\n",
        "\"works!\"\n",
        "```\n"
      ]
    },
    {
      "cell_type": "markdown",
      "metadata": {},
      "source": [
        "```py\n",
        ">>> _another_weird_name_func()\n",
        "```\n",
        "```py\n",
        "Traceback (most recent call last):\n",
        "  File \"<stdin>\", line 1, in <module>\n",
        "NameError: name '_another_weird_name_func' is not defined\n",
        "```\n"
      ]
    },
    {
      "cell_type": "markdown",
      "metadata": {},
      "source": [
        "\n"
      ]
    },
    {
      "cell_type": "markdown",
      "metadata": {},
      "source": [
        "#### \ud83d\udca1 Explanation:\n",
        "\n",
        "- It is often advisable to not use wildcard imports. The first obvious reason for this is, in wildcard imports, the names with a leading underscore don't get imported. This may lead to errors during runtime.\n",
        "- Had we used `from ... import a, b, c` syntax, the above `NameError` wouldn't have occurred.\n"
      ]
    },
    {
      "cell_type": "markdown",
      "metadata": {},
      "source": [
        "```py\n",
        "    >>> from module import some_weird_name_func_, _another_weird_name_func\n",
        "    >>> _another_weird_name_func()\n",
        "```\n",
        "```py\n",
        "    works!\n",
        "```\n"
      ]
    },
    {
      "cell_type": "markdown",
      "metadata": {},
      "source": [
        "- If you really want to use wildcard imports, then you'd have to define the list `__all__` in your module that will contain a list of public objects that'll be available when we do wildcard imports.\n"
      ]
    },
    {
      "cell_type": "markdown",
      "metadata": {},
      "source": [
        "```py\n",
        "    __all__ = ['_another_weird_name_func']\n",
        "\n",
        "    def some_weird_name_func_():\n",
        "        print(\"works!\")\n",
        "\n",
        "    def _another_weird_name_func():\n",
        "        print(\"works!\")\n",
        "```\n",
        "```py\n",
        "```\n"
      ]
    },
    {
      "cell_type": "markdown",
      "metadata": {},
      "source": [
        "    **Output**\n",
        "\n"
      ]
    },
    {
      "cell_type": "markdown",
      "metadata": {},
      "source": [
        "```py\n",
        "    >>> _another_weird_name_func()\n",
        "```\n",
        "```py\n",
        "    \"works!\"\n",
        "```\n"
      ]
    },
    {
      "cell_type": "markdown",
      "metadata": {},
      "source": [
        "```py\n",
        "    >>> some_weird_name_func_()\n",
        "```\n",
        "```py\n",
        "    Traceback (most recent call last):\n",
        "      File \"<stdin>\", line 1, in <module>\n",
        "    NameError: name 'some_weird_name_func_' is not defined\n",
        "```\n"
      ]
    },
    {
      "cell_type": "markdown",
      "metadata": {},
      "source": [
        "\n"
      ]
    },
    {
      "cell_type": "markdown",
      "metadata": {},
      "source": [
        "# Contributing\n",
        "\n",
        "A few ways in which you can contribute to wtfpython,\n",
        "\n",
        "- Suggesting new examples\n",
        "- Helping with translation (See [issues labeled translation](https://github.com/satwikkansal/wtfpython/issues?q=is%3Aissue+is%3Aopen+label%3Atranslation))\n",
        "- Minor corrections like pointing out outdated snippets, typos, formatting errors, etc.\n",
        "- Identifying gaps (things like inadequate explanation, redundant examples, etc.)\n",
        "- Any creative suggestions to make this project more fun and useful\n",
        "\n",
        "Please see [CONTRIBUTING.md](/CONTRIBUTING.md) for more details. Feel free to create a new [issue](https://github.com/satwikkansal/wtfpython/issues/new) to discuss things.\n",
        "\n",
        "PS: Please don't reach out with backlinking requests, no links will be added unless they're highly relevant to the project.\n",
        "\n",
        "# Acknowledgements\n",
        "\n",
        "The idea and design for this collection were initially inspired by Denys Dovhan's awesome project [wtfjs](https://github.com/denysdovhan/wtfjs). The overwhelming support by Pythonistas gave it the shape it is in right now.\n",
        "\n",
        "#### Some nice Links!\n",
        "* https://www.youtube.com/watch?v=sH4XF6pKKmk\n",
        "* https://www.reddit.com/r/Python/comments/3cu6ej/what_are_some_wtf_things_about_python\n",
        "* https://sopython.com/wiki/Common_Gotchas_In_Python\n",
        "* https://stackoverflow.com/questions/530530/python-2-x-gotchas-and-landmines\n",
        "* https://stackoverflow.com/questions/1011431/common-pitfalls-in-python\n",
        "* https://www.python.org/doc/humor/\n",
        "* https://github.com/cosmologicon/pywat#the-undocumented-converse-implication-operator\n",
        "* https://www.codementor.io/satwikkansal/python-practices-for-efficient-code-performance-memory-and-usability-aze6oiq65\n",
        "* https://github.com/wemake-services/wemake-python-styleguide/search?q=wtfpython&type=Issues\n",
        "* WFTPython discussion threads on [Hacker News](https://news.ycombinator.com/item?id=21862073) and [Reddit](https://www.reddit.com/r/programming/comments/edsh3q/what_the_fck_python_30_exploring_and/).\n",
        "\n",
        "# \ud83c\udf93 License\n",
        "\n",
        "[![WTFPL 2.0][license-image]][license-url]\n",
        "\n",
        "&copy; [Satwik Kansal](https://satwikkansal.xyz)\n",
        "\n",
        "[license-url]: http://www.wtfpl.net\n",
        "[license-image]: https://img.shields.io/badge/License-WTFPL%202.0-lightgrey.svg?style=flat-square\n",
        "\n"
      ]
    }
  ],
  "metadata": {},
  "nbformat": 4,
  "nbformat_minor": 2
}
